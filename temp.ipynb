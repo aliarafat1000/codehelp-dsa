{
 "cells": [
  {
   "cell_type": "code",
   "execution_count": null,
   "id": "522791b4",
   "metadata": {},
   "outputs": [],
   "source": [
    "# Given two strings s1 and s2, check if both the strings are anagrams of each other.\n",
    "# Examples: \n",
    "\n",
    "# Input : s1 = \"listen\"\n",
    "#         s2 = \"silent\"\n",
    "# Output : The strings are anagrams.\n",
    "\n",
    "\n",
    "# Input : s1 = \"dad\"\n",
    "#         s2 = \"bad\""
   ]
  },
  {
   "cell_type": "code",
   "execution_count": 16,
   "id": "b0c42752",
   "metadata": {},
   "outputs": [
    {
     "name": "stdout",
     "output_type": "stream",
     "text": [
      "False\n"
     ]
    }
   ],
   "source": [
    "s1 = \"dad\"\n",
    "s2 = \"bad\"\n",
    "\n",
    "temp = True\n",
    "\n",
    "for letter in s1:\n",
    "    if letter not in s2:\n",
    "        temp = False\n",
    "\n",
    "for letter in s2:\n",
    "    if letter not in s1:\n",
    "        temp = False\n",
    "\n",
    "\n",
    "print(temp)"
   ]
  }
 ],
 "metadata": {
  "kernelspec": {
   "display_name": "Python 3",
   "language": "python",
   "name": "python3"
  },
  "language_info": {
   "codemirror_mode": {
    "name": "ipython",
    "version": 3
   },
   "file_extension": ".py",
   "mimetype": "text/x-python",
   "name": "python",
   "nbconvert_exporter": "python",
   "pygments_lexer": "ipython3",
   "version": "3.12.6"
  }
 },
 "nbformat": 4,
 "nbformat_minor": 5
}
