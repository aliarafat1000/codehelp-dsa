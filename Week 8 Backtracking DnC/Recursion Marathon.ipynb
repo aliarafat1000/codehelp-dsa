{
 "cells": [
  {
   "cell_type": "markdown",
   "id": "a114d411",
   "metadata": {},
   "source": [
    "#### 1. House Robber II -> Leetcode 213 (Redo attempt 1)\n",
    "Cannot steal from adjacent house, houses are in circle. Maximum amount that we can steal.  \n",
    "\n",
    "Babbar's solution:\n",
    "1. Make function for include disclude answer as in house robber I\n",
    "1.1 -> recurrence relation -> stolen(n,0) = n[0] + stolen(n,2) # for non adjacent sum including first house.\n",
    "1.2 -> recurrence relation -> stolen(n,0) = 0 + stolen(n,1) # for non adjacent sum discluding first element.\n",
    "(Will have to do above problem again)\n",
    "2. Then get two cases where we are stealing from 1st house disallow the last house and stealing from last house disallows the first one. "
   ]
  },
  {
   "cell_type": "code",
   "execution_count": 9,
   "id": "52e88ca2",
   "metadata": {},
   "outputs": [
    {
     "name": "stdout",
     "output_type": "stream",
     "text": [
      "8\n"
     ]
    }
   ],
   "source": [
    "nums = [1,2,3,4,5]\n",
    "ans = 0\n",
    "tmp = 0\n",
    "\n",
    "def total_stolen(nums: list[int], i: int) -> int:\n",
    "    # Base Case\n",
    "    if i >= len(nums):\n",
    "        return 0\n",
    "    \n",
    "    includeAns = nums[i] + total_stolen(nums,i+2)\n",
    "    execludeAns = 0 + total_stolen(nums,i+1)\n",
    "    # print(includeAns,execludeAns)\n",
    "    return max(includeAns, execludeAns)\n",
    "    \n",
    "\n",
    "# Solving two cases:\n",
    "option_1 = total_stolen(nums[0:len(nums)-1],0)\n",
    "option_2 = total_stolen(nums[1:len(nums)],0)\n",
    "ans = max(option_1,option_2)\n",
    "print(ans)\n",
    "\n"
   ]
  },
  {
   "cell_type": "markdown",
   "id": "99c1e9fd",
   "metadata": {},
   "source": [
    "#### "
   ]
  },
  {
   "cell_type": "markdown",
   "id": "de4e64d2",
   "metadata": {},
   "source": [
    "#### 2. Count Derangements (Permutation such that no element appears in its original position)\n",
    "(Redo attemp 1)\n",
    "[Question](https://www.geeksforgeeks.org/dsa/count-derangements-permutation-such-that-no-element-appears-in-its-original-position/)\n",
    "\n",
    "* Note : Check when you can have some answers say 0, 1, 2, .. 9 check if this series is forming a pattern, like fibonacci series of something. Also read about Catalan series and write it down here.\n",
    "\n",
    "\n",
    "\n",
    "Here we have a clear recurrence relation in the form of a formula: \n",
    "f(n) -> (n - 1)(f(n-1) * f(n-2))\n",
    "\n",
    "1. There are two cases basically, first is when we swap element n[0] with n[i] leaving only n - 2 array that needs to be solved. Second is putting n[0] element in n - 1 posistions, n[i] is not swapped with it.\n",
    "2. We take both answers out.\n",
    "3. So to answer is being built like permutations. A B C -> 3 * 2 * 1 positions.\n",
    "4. 1st element can be put in n - 1 positions while 2nd elements can be put in f(n-1) + f(n-2) positions. (one case by use and rest by recursion)\n",
    "5. But why doesn't f(n-1) encompass swap case in f(n-2)\n",
    "6. Basically when is say f(n-1) position are remaining for 2nd and later elements, the 0 th position had been excluded, so later elements cannot come at 0 th positions, so this exclude case where dearrangement can happen by swapping element, that is i th element takes place of 0 th element, i th will have to go to n - 1 (n-2 by index) positions.\n",
    "7. So to include swap cases, we force swap and calculate dearrangement by swapping only using ->\n",
    "1st element in n - 1 position, i th in 0 th position and remaining array of n - 2 needing to be solved. This gives us only dearrangments when elements are being swapped. "
   ]
  },
  {
   "cell_type": "code",
   "execution_count": 12,
   "id": "f8e72c6a",
   "metadata": {},
   "outputs": [
    {
     "name": "stdout",
     "output_type": "stream",
     "text": [
      "9\n"
     ]
    }
   ],
   "source": [
    "n = 4\n",
    "\n",
    "def solve(n) -> int:\n",
    "\n",
    "    # Base\n",
    "    if n == 1:\n",
    "        return 0\n",
    "    if n == 2:\n",
    "        return 1\n",
    "    \n",
    "    ans = (n - 1) * (solve(n-1) + solve(n-2))\n",
    "\n",
    "    return ans\n",
    "\n",
    "print(solve(4))"
   ]
  },
  {
   "cell_type": "markdown",
   "id": "0494c593",
   "metadata": {},
   "source": [
    "#### 3. Painting Fence Algorithm\n",
    "[Question](https://www.geeksforgeeks.org/dsa/painting-fence-algorithm/)\n",
    "\n",
    "(Redo attempt 1)\n",
    "\n",
    "Given a fence with n posts and k colors, the task is to find out the number of ways of painting the fence so that not more than two consecutive posts have the same color.\n",
    "\n",
    "Note: I couldn't even understand the explaination by Love Babbar."
   ]
  },
  {
   "cell_type": "code",
   "execution_count": null,
   "id": "3c0f479f",
   "metadata": {},
   "outputs": [],
   "source": [
    "n, k = 2, 4\n",
    "\n"
   ]
  },
  {
   "cell_type": "markdown",
   "id": "7cef5b13",
   "metadata": {},
   "source": [
    "#### 4. Edit Distance. Leetcode 72\n",
    "(Redo: attemp 1. Note: Did understood solution somewhat)\n",
    "Given two strings word1 and word2, return the minimum number of operations required to convert word1 to word2.\n",
    "You have the following three operations permitted on a word:\n",
    "i. Insert a character\n",
    "ii. Delete a character\n",
    "iii. Replace a character\n",
    "\n",
    "As per babbar:\n",
    "1. if letters match, you move ahead\n",
    "2. if they don't then you do three things and let recursion fetch the answer for you, insert, delete and replace\n",
    "3. For example, you did one operation, you add 1 and then you + recursion_call() to get what else needed to added.\n",
    "4. return minimum of these three steps. \n",
    "5. Base case is if one strings goes empty, the only operation you can do is insert, so that would mean no. of steps is number of inserts which is remaining string, if both strings are empty, then len(word) - j would be 0"
   ]
  },
  {
   "cell_type": "code",
   "execution_count": 24,
   "id": "9d601298",
   "metadata": {},
   "outputs": [
    {
     "name": "stdout",
     "output_type": "stream",
     "text": [
      "3\n"
     ]
    }
   ],
   "source": [
    "word1 = \"horse\"\n",
    "word2 = \"ros\"\n",
    "\n",
    "def solve(word1: str, word2: str, i: int, j: int) -> int:\n",
    "\n",
    "    # Base Case\n",
    "    if i >= len(word1):\n",
    "        return len(word2) - j\n",
    "    if j >= len(word2):\n",
    "        return len(word1) - i\n",
    "    \n",
    "\n",
    "    ans = 0\n",
    "    \n",
    "    if word1[i] == word2[j]:\n",
    "        ans = 0 + solve(word1, word2, i+1, j+1)\n",
    "    else:\n",
    "        # insert option\n",
    "        option1 = 1 + solve(word1, word2, i,j+1)\n",
    "        # delete option\n",
    "        option2 = 1 + solve(word1, word2, i+1, j)\n",
    "        # replace\n",
    "        option3 = 1 + solve(word1,word2, i+1, j+1)\n",
    "        ans = min(option1, option2, option3)\n",
    "\n",
    "    return ans\n",
    "    \n",
    "\n",
    "print(solve(word1,word2,0,0))"
   ]
  },
  {
   "cell_type": "markdown",
   "id": "a6e774b2",
   "metadata": {},
   "source": [
    "#### 5. Maximal Sqaure. Leetcode -> 221\n",
    "(Redo attemp 1)\n",
    "\n",
    "Note. According to Love Babbar these are hard questions asked in interview. \n",
    "\n",
    "1. You stand on a sqaure, \n",
    "2. you check what you are getting from right, diag and left\n",
    "3. If you get a matrix at 1 element, then you try to get answer, otherwise you just return 0\n",
    "4. We are return 0 is we can't make sqaure from the position we are standing at. \n",
    "5. store answer in maxi. \n",
    "6. ans is 1 + min of right, left and diag\n",
    "7. we will return ans\n",
    "8. if we don't reach ans, we also reach boundaries at base case, we get 0 size square -> return 0\n",
    "9. pass a variable in ans to store maximum, this is length of sqaure, return area"
   ]
  },
  {
   "cell_type": "code",
   "execution_count": 13,
   "id": "fc6802e4",
   "metadata": {},
   "outputs": [
    {
     "ename": "TypeError",
     "evalue": "can't multiply sequence by non-int of type 'list'",
     "output_type": "error",
     "traceback": [
      "\u001b[1;31m---------------------------------------------------------------------------\u001b[0m",
      "\u001b[1;31mTypeError\u001b[0m                                 Traceback (most recent call last)",
      "Cell \u001b[1;32mIn[13], line 33\u001b[0m\n\u001b[0;32m     30\u001b[0m maxi \u001b[38;5;241m=\u001b[39m [\u001b[38;5;241m0\u001b[39m]\n\u001b[0;32m     32\u001b[0m solve(matrix, \u001b[38;5;241m0\u001b[39m, \u001b[38;5;241m0\u001b[39m, maxi)\n\u001b[1;32m---> 33\u001b[0m \u001b[38;5;28mprint\u001b[39m(\u001b[43mmaxi\u001b[49m\u001b[38;5;241;43m*\u001b[39;49m\u001b[43mmaxi\u001b[49m)\n",
      "\u001b[1;31mTypeError\u001b[0m: can't multiply sequence by non-int of type 'list'"
     ]
    }
   ],
   "source": [
    "matrix = [[\"1\",\"0\",\"1\",\"0\",\"0\"],[\"1\",\"0\",\"1\",\"1\",\"1\"],[\"1\",\"1\",\"1\",\"1\",\"1\"],[\"1\",\"0\",\"0\",\"1\",\"0\"]]\n",
    "\n",
    "def solve(matrix: list[list[int]], i: int, j: int, maxi: int) -> int:\n",
    "\n",
    "    # Base Case\n",
    "    if i >= len(matrix) or j >= len(matrix[0]):\n",
    "        return 0\n",
    "\n",
    "\n",
    "    # Recurrence relation and processing\n",
    "    # current = matrix[i][j]\n",
    "    right = solve(matrix, i, j+1, maxi)\n",
    "    diag = solve(matrix, i+1, j+1, maxi)\n",
    "    down = solve(matrix, i+1, j, maxi)\n",
    "    ans = 0\n",
    "    # Check can we build sqaure from current position\n",
    "    if matrix[i][j] == \"1\":\n",
    "        ans = 1 + min(right, diag, down)\n",
    "        maxi[0] = max(ans, maxi[0])\n",
    "        # print(i, j)\n",
    "    else:\n",
    "        return 0\n",
    "\n",
    "    # after_exploring = min(right, diag, down)\n",
    "    # ans_from_sides = current + after_exploring\n",
    "    return ans\n",
    "\n",
    "\n",
    "\n",
    "maxi = [0]\n",
    "\n",
    "solve(matrix, 0, 0, maxi)\n",
    "print(maxi*maxi)"
   ]
  }
 ],
 "metadata": {
  "kernelspec": {
   "display_name": "Python 3",
   "language": "python",
   "name": "python3"
  },
  "language_info": {
   "codemirror_mode": {
    "name": "ipython",
    "version": 3
   },
   "file_extension": ".py",
   "mimetype": "text/x-python",
   "name": "python",
   "nbconvert_exporter": "python",
   "pygments_lexer": "ipython3",
   "version": "3.12.6"
  }
 },
 "nbformat": 4,
 "nbformat_minor": 5
}
