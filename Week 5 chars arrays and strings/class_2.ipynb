{
 "cells": [
  {
   "cell_type": "markdown",
   "id": "dee4b0a0",
   "metadata": {},
   "source": [
    "### 1. Remove all adjacent duplicate in a string\n",
    "\n",
    "We check if ans is not empty and see if character we are adding is not already there, if there then we neither add nor keep the matching character, and use pop to eliminate last character"
   ]
  },
  {
   "cell_type": "code",
   "execution_count": 1,
   "id": "e042c4d7",
   "metadata": {},
   "outputs": [
    {
     "name": "stdout",
     "output_type": "stream",
     "text": [
      "ca\n"
     ]
    }
   ],
   "source": [
    "s = 'abbaca'\n",
    "\n",
    "ans = []\n",
    "\n",
    "for c in s:\n",
    "    if ans and ans[-1] == c:\n",
    "        ans.pop()\n",
    "    else:\n",
    "        ans.append(c) \n",
    "    \n",
    "print( ''.join(ans))\n",
    "\n"
   ]
  },
  {
   "cell_type": "markdown",
   "id": "0994ab79",
   "metadata": {},
   "source": [
    "### 2. Remove All Adjacent Duplicates in String II Leetcode ->  1209\n",
    "\n",
    "Best solution is stack soluting where you store pair of element and their frequency as list pair in the stack."
   ]
  },
  {
   "cell_type": "code",
   "execution_count": null,
   "id": "9108149b",
   "metadata": {},
   "outputs": [
    {
     "name": "stdout",
     "output_type": "stream",
     "text": [
      "['d']\n",
      "['d', 'e']\n",
      "['d', 'e', 'e']\n",
      "['d']\n",
      "['d', 'd']\n",
      "['d', 'd', 'b']\n",
      "['d', 'd', 'b', 'b']\n",
      "['d', 'd', 'b', 'b', 'c']\n",
      "['d', 'd', 'b', 'b', 'c', 'c']\n",
      "['d', 'd', 'b', 'b']\n",
      "['d', 'd']\n",
      "[]\n",
      "['a']\n",
      "['a', 'a']\n",
      "aa\n"
     ]
    }
   ],
   "source": [
    "s = \"deeedbbcccbdaa\"\n",
    "k = 3\n",
    "\n",
    "# stack method\n",
    "ans = []\n",
    "\n",
    "def check_k_elements(k: int, ans: list[str], c: str) -> bool:\n",
    "    i = -1\n",
    "    k = k - 1\n",
    "\n",
    "    while (k > 0):\n",
    "        if ans[i] == c:\n",
    "            i -= 1\n",
    "            k -= 1\n",
    "        else:\n",
    "            return False\n",
    "        \n",
    "    return True\n",
    "\n",
    "def element_poping(ans: list[str], k: int):\n",
    "    for i in range(0,k-1):\n",
    "        ans.pop()\n",
    "\n",
    "for c in s:\n",
    "    if len(ans) >= k - 1 and check_k_elements(k, ans, c):\n",
    "        element_poping(ans,k)\n",
    "    else:\n",
    "        ans.append(c)\n",
    "    \n",
    "    print(ans)\n",
    "        \n",
    "\n",
    "print(''.join(ans))\n",
    "\n"
   ]
  },
  {
   "cell_type": "code",
   "execution_count": 4,
   "id": "bf10b48d",
   "metadata": {},
   "outputs": [
    {
     "name": "stdout",
     "output_type": "stream",
     "text": [
      "abcd\n",
      "abcd\n",
      "abcd\n",
      "abcd\n"
     ]
    }
   ],
   "source": [
    "s = \"abcd\"\n",
    "k = 2\n",
    "ans = str()\n",
    "count = 0\n",
    "tracker = 0\n",
    "i = 0\n",
    "\n",
    "while ( i < len(s) - 1 ):\n",
    "    print(s)\n",
    "    if s[i] == s[i + 1]:\n",
    "        count += 1\n",
    "        i += 1\n",
    "    else:\n",
    "        count = 0\n",
    "        tracker = i + 1\n",
    "        i += 1\n",
    "\n",
    "\n",
    "    if count >= k - 1:\n",
    "        s = s[:tracker] + s[i+1:]\n",
    "        i = 0\n",
    "        count = 0\n",
    "        tracker = 0\n",
    "    \n",
    "    # print('tracker', tracker, 'i', i, 'count', count)\n",
    "\n",
    "print(s)\n"
   ]
  },
  {
   "cell_type": "markdown",
   "id": "8838deb9",
   "metadata": {},
   "source": [
    "Problem is that time limit exceed in this solution. Will have to do with stack. "
   ]
  },
  {
   "cell_type": "code",
   "execution_count": 18,
   "id": "e3c4b0f3",
   "metadata": {},
   "outputs": [
    {
     "name": "stdout",
     "output_type": "stream",
     "text": [
      "aa\n"
     ]
    }
   ],
   "source": [
    "# smart small stack approach for time limit exceeding\n",
    "\n",
    "stack = [] # [character, frequency]\n",
    "s = \"deeedbbcccbdaa\"\n",
    "k = 3\n",
    "\n",
    "for c in s:\n",
    "    if stack and stack[-1][0] == c:\n",
    "        stack[-1][1] += 1\n",
    "        if stack[-1][1] == k:\n",
    "            stack.pop()\n",
    "    else:\n",
    "        stack.append([c,1])\n",
    "\n",
    "\n",
    "print(''.join( c * count for c, count in stack ) ) \n"
   ]
  },
  {
   "cell_type": "markdown",
   "id": "e4146fad",
   "metadata": {},
   "source": [
    "## 3. Remove all occurences of a substring -> 1910 Leetcode"
   ]
  },
  {
   "cell_type": "code",
   "execution_count": null,
   "id": "8ba344fa",
   "metadata": {},
   "outputs": [
    {
     "name": "stdout",
     "output_type": "stream",
     "text": [
      "dabaabcbc\n",
      "dababc\n",
      "dab\n",
      "dab\n"
     ]
    }
   ],
   "source": [
    "# Non stack way, study KMP algorithm, and do using stack.\n",
    "\n",
    "s = \"daabcbaabcbc\"\n",
    "part = \"abc\"\n",
    "N = len(part) - 1\n",
    "\n",
    "while part in s:\n",
    "    i = s.index(part)\n",
    "    s = s[0:i] + s[i+N+1:]\n",
    "\n",
    "print(s)\n",
    "\n"
   ]
  },
  {
   "cell_type": "code",
   "execution_count": 21,
   "id": "70c9bc39",
   "metadata": {},
   "outputs": [
    {
     "name": "stdout",
     "output_type": "stream",
     "text": [
      "dab\n"
     ]
    }
   ],
   "source": [
    "s = \"daabcbaabcbc\"\n",
    "part = \"abc\"\n",
    "\n",
    "N = len(part)\n",
    "\n",
    "while part in s:\n",
    "    i = s.index(part)\n",
    "    s = s[:i] + s[i+N]\n",
    "\n",
    "print(s)"
   ]
  },
  {
   "cell_type": "code",
   "execution_count": 20,
   "id": "f0fd1869",
   "metadata": {},
   "outputs": [
    {
     "name": "stdout",
     "output_type": "stream",
     "text": [
      "daabcbaabcbc\n",
      "daabcbaabcbc\n",
      "dabaabcbc\n",
      "dabaabcbc\n",
      "dabaabcbc\n",
      "dabaabcbc\n",
      "dabaabcbc\n",
      "dababc\n",
      "dababc\n",
      "dab\n",
      "dab\n",
      "dab\n",
      "dab\n"
     ]
    }
   ],
   "source": [
    "s = \"daabcbaabcbc\"\n",
    "part = \"abc\"\n",
    "\n",
    "# s = list(s)\n",
    "# part = list(part)\n",
    "\n",
    "i = 0\n",
    "while (i < len(s)):\n",
    "    if s[i:i+len(part)] == part:\n",
    "        # print(s)\n",
    "        # print(s[i:i+len(part)], part, i)\n",
    "        s = s[:i] + s[i+len(part):]\n",
    "        i = i - 2 if i - 2 >= 0 else i \n",
    "    else:\n",
    "        i += 1\n",
    "    print(s)\n",
    "\n",
    "print(s)"
   ]
  },
  {
   "cell_type": "markdown",
   "id": "13f5173a",
   "metadata": {},
   "source": [
    "#### 4. Valid Palindrome II -> 680. Leetcode"
   ]
  },
  {
   "cell_type": "code",
   "execution_count": null,
   "id": "7d5ad105",
   "metadata": {},
   "outputs": [
    {
     "name": "stdout",
     "output_type": "stream",
     "text": [
      "True\n"
     ]
    }
   ],
   "source": [
    "# Kind of recursion\n",
    "s = \"zryxeededexyz\"\n",
    "tmp = \"\".join(s)\n",
    "i = 0\n",
    "j = len(s) - 1\n",
    "truth_counter = 0\n",
    "\n",
    "while (i <= j):\n",
    "    if tmp[i] != tmp[j]:\n",
    "        \n",
    "        tmp = tmp[:i] + tmp[i+1:]\n",
    "        j -= 1\n",
    "        if len(tmp) == 2:\n",
    "            if tmp[0] == tmp[1]:\n",
    "                print(True)\n",
    "                break\n",
    "            else:\n",
    "                print(False)\n",
    "                break\n",
    "        if tmp[i] != tmp[j]:\n",
    "            j += 1\n",
    "            tmp = \"\".join(s)\n",
    "            tmp = tmp[:j] + tmp[j+1:]\n",
    "            j -= 1\n",
    "            \n",
    "            if tmp[i] != tmp[j]:\n",
    "                print(False)\n",
    "      \n",
    "      \n",
    "                break\n",
    "        if truth_counter > 1:\n",
    "            print(False)\n",
    "        else:\n",
    "            truth_counter += 1\n",
    "    # else:\n",
    "    i += 1\n",
    "    j -= 1\n",
    "\n",
    "    "
   ]
  },
  {
   "cell_type": "markdown",
   "id": "68193b29",
   "metadata": {},
   "source": [
    "#### 5. Minimum Time Difference -> Leetcode 539"
   ]
  },
  {
   "cell_type": "code",
   "execution_count": null,
   "id": "7a2171cc",
   "metadata": {},
   "outputs": [],
   "source": []
  },
  {
   "cell_type": "markdown",
   "id": "23e0f42c",
   "metadata": {},
   "source": [
    "#### 6. Palindromic Substring -> Leetcode 647"
   ]
  },
  {
   "cell_type": "code",
   "execution_count": null,
   "id": "5b3be2f1",
   "metadata": {},
   "outputs": [
    {
     "name": "stdout",
     "output_type": "stream",
     "text": [
      "i 1 palindrome_count 3 tmp 3 b a\n",
      "i 2 palindrome_count 3 tmp 98 a b\n",
      "3\n"
     ]
    }
   ],
   "source": [
    "\n",
    "\n",
    "s = \"aba\"\n",
    "tmp = ord(s[0])\n",
    "# print(ord(s[0]) ^ ord(s[1]))\n",
    "palindrome_count = 0\n",
    "if len(s) & 1 == 1:\n",
    "    palindrome_count = len(s)\n",
    "else:\n",
    "    palindrome_count = len(s)//2\n",
    "\n",
    "if len(s) == 2:\n",
    "    print(2)\n",
    "\n",
    "for i in range(1,len(s)):\n",
    "    tmp = tmp ^ ord(s[i])\n",
    "    print('i',i,'palindrome_count',palindrome_count, 'tmp', tmp, s[i], s[i-1])\n",
    "    if tmp == 0:\n",
    "        if len(s)&1 == 1:\n",
    "            palindrome_count += 2*i + 1\n",
    "        else:\n",
    "            palindrome_count += 2*i\n",
    "\n",
    "print(palindrome_count)"
   ]
  },
  {
   "cell_type": "code",
   "execution_count": null,
   "id": "380e49b9",
   "metadata": {},
   "outputs": [
    {
     "name": "stdout",
     "output_type": "stream",
     "text": [
      "10\n"
     ]
    }
   ],
   "source": [
    "\"\"\" \n",
    "Babbar\n",
    "- First we are trying to find -> how to find all substrings\n",
    "Using expand around the center\n",
    "Getting substrings or odd and even lengths separately\n",
    "Finding odd number of substrings.\n",
    "Finding even number of substrings.\n",
    "\n",
    "We go to each element and make it a center, then expand two pointers checking palindrom and bounds. Keep count, return\n",
    "for each expansion in the function, and keep returned value aggregated in total count. \n",
    "\n",
    "Time complexity O(n^2) --> probably\n",
    "a b c d e\n",
    "\"\"\"\n",
    "\n",
    "def expand_around_center(s: str, i: int, j: int) -> int:\n",
    "    count = 0\n",
    "    while (i >= 0 and j < N and s[i] == s[j]):\n",
    "        count += 1\n",
    "        i -= 1\n",
    "        j += 1\n",
    "    return count\n",
    "\n",
    "s = \"aaaa\"\n",
    "total_count = 0\n",
    "N = len(s)\n",
    "\n",
    "for center in range(0, N):\n",
    "    \n",
    "    # odd\n",
    "    i, j = center, center\n",
    "    odd_palindromic_substring_count = expand_around_center(s,i,j)\n",
    "    \n",
    "    # even\n",
    "    i, j = center, center + 1\n",
    "    even_palindromic_substring_count = expand_around_center(s,i,j)\n",
    "\n",
    "    total_count += odd_palindromic_substring_count + even_palindromic_substring_count\n",
    "\n",
    "print(total_count)"
   ]
  }
 ],
 "metadata": {
  "kernelspec": {
   "display_name": "Python 3",
   "language": "python",
   "name": "python3"
  },
  "language_info": {
   "codemirror_mode": {
    "name": "ipython",
    "version": 3
   },
   "file_extension": ".py",
   "mimetype": "text/x-python",
   "name": "python",
   "nbconvert_exporter": "python",
   "pygments_lexer": "ipython3",
   "version": "3.12.6"
  }
 },
 "nbformat": 4,
 "nbformat_minor": 5
}
