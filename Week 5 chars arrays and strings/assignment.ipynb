{
 "cells": [
  {
   "cell_type": "markdown",
   "id": "52ddbc05",
   "metadata": {},
   "source": [
    "#### 1. Valid Anagrams -> 242 Leetcode"
   ]
  },
  {
   "cell_type": "code",
   "execution_count": null,
   "id": "36925616",
   "metadata": {},
   "outputs": [
    {
     "name": "stdout",
     "output_type": "stream",
     "text": [
      "True\n",
      "True\n"
     ]
    }
   ],
   "source": [
    "\"\"\" \n",
    "Compare frequency table to each other, if same. It is the answer.\n",
    "\"\"\"\n",
    "\n",
    "\n",
    "s = \"anagram\"\n",
    "t = \"nagaram\"\n",
    "\n",
    "def frequency_map(s: str):\n",
    "    dict_temp = {}\n",
    "    for c in s:\n",
    "        if c in dict_temp:\n",
    "            dict_temp[c] += 1\n",
    "        else:\n",
    "            dict_temp[c] = 1\n",
    "\n",
    "    return dict_temp\n",
    "\n",
    "dict_s = frequency_map(s)\n",
    "dict_t = frequency_map(t)\n",
    "\n",
    "if dict_s == dict_t:\n",
    "    print(True)\n",
    "else:\n",
    "    print(False)\n",
    "\n",
    "# Counter function from Collections\n",
    "from collections import Counter\n",
    "\n",
    "s_fm = Counter(s)\n",
    "t_fm = Counter(t)\n",
    "print(s_fm == t_fm)\n"
   ]
  },
  {
   "cell_type": "markdown",
   "id": "c0053c10",
   "metadata": {},
   "source": [
    "#### 2. Reverse Only Letters -> Leetcode 917"
   ]
  },
  {
   "cell_type": "code",
   "execution_count": 17,
   "id": "0c8711f4",
   "metadata": {},
   "outputs": [
    {
     "name": "stdout",
     "output_type": "stream",
     "text": [
      "['Q', 'e', 'd', 'o', '1', 'c', 't', '-', 'e', 'e', 'L', 'g', '=', 'n', 't', 's', 'e', '-', 'T', '!']\n"
     ]
    }
   ],
   "source": [
    "s = \"Test1ng-Leet=code-Q!\"\n",
    "\n",
    "# two pointer with sum rules\n",
    "\n",
    "s = list(s)\n",
    "\n",
    "i = 0\n",
    "j = len(s) - 1\n",
    "\n",
    "while ( i < j ):\n",
    "    if not s[i].isalpha():\n",
    "        i += 1\n",
    "    elif not s[j].isalpha():\n",
    "        j -= 1\n",
    "    else:\n",
    "        s[i], s[j] = s[j], s[i]\n",
    "        i += 1\n",
    "        j -= 1\n",
    "    # print(s)\n",
    "\n",
    "print(s)\n"
   ]
  },
  {
   "cell_type": "markdown",
   "id": "8577345a",
   "metadata": {},
   "source": [
    "#### 3. Largest common prefix Leetcode 14\n",
    "\n",
    "Two loops\n",
    "out loop infinite with i for characters\n",
    "innter loop word by word, for matching first, second and so on characters of each word\n",
    "if not matcing or out of bounds break inner loop, set flag, to break outer loop.\n",
    "i++ when outside. "
   ]
  },
  {
   "cell_type": "code",
   "execution_count": 30,
   "id": "4f5f36d9",
   "metadata": {},
   "outputs": [
    {
     "name": "stdout",
     "output_type": "stream",
     "text": [
      "['f'] \n",
      "['f', 'l'] \n",
      "['f', 'l']\n"
     ]
    }
   ],
   "source": [
    "strs = [\"flower\",\"flow\",\"flight\"]\n",
    "\n",
    "ans = []\n",
    "ch = ''\n",
    "i = 0\n",
    "\n",
    "while True:\n",
    "    for str in strs:\n",
    "        \n",
    "        # any string going out of bound\n",
    "        if i >= len(str):\n",
    "                    # ch = ''\n",
    "                    break\n",
    "        \n",
    "        \n",
    "        \n",
    "        if ch == '':\n",
    "            ch = str[i]\n",
    "            # print(\"first initialization\", ch)\n",
    "        elif ch == str[i]:\n",
    "            # print(\"updated\")\n",
    "            # i += 1\n",
    "            pass\n",
    "        else:\n",
    "            ch = ''\n",
    "            break\n",
    "\n",
    "    if ch == '':\n",
    "        break\n",
    "    else:\n",
    "        ans.append(ch)\n",
    "        ch = ''\n",
    "\n",
    "    i += 1\n",
    "    print(ans, ch)\n",
    "\n",
    "\n",
    "print(ans)  \n",
    "\n",
    "    "
   ]
  },
  {
   "cell_type": "markdown",
   "id": "bc5150c4",
   "metadata": {},
   "source": [
    "#### 4. Reverse vowels of strings 345 leetcode"
   ]
  },
  {
   "cell_type": "code",
   "execution_count": 32,
   "id": "e2b875bd",
   "metadata": {},
   "outputs": [
    {
     "name": "stdout",
     "output_type": "stream",
     "text": [
      "AceCreIm\n"
     ]
    }
   ],
   "source": [
    "vowels = ['a', 'e', 'i', 'o', 'u', 'A', 'E', 'I', 'O', 'U']\n",
    "s = \"IceCreAm\"\n",
    "s = list(s)\n",
    "i = 0\n",
    "j = len(s) - 1\n",
    "\n",
    "while (i < j):\n",
    "    if s[i] not in vowels:\n",
    "        i += 1\n",
    "    elif s[j] not in vowels:\n",
    "        j -= 1\n",
    "    else:\n",
    "        s[i], s[j] = s[j], s[i]\n",
    "        i += 1\n",
    "        j -= 1\n",
    "\n",
    "print(\"\".join(s))"
   ]
  },
  {
   "cell_type": "markdown",
   "id": "167a675e",
   "metadata": {},
   "source": [
    "#### 5. Isomorphic Strings Leetcode 205\n",
    "\n",
    "Normalize strings, two normalized strings can be mapped. Isomorphic means same pattern. can map any letter to any\n",
    "letter, but one key cannot present two values, or one value cannot be represented by two keys. Only one to one mapping"
   ]
  },
  {
   "cell_type": "code",
   "execution_count": 38,
   "id": "5fdd0a3d",
   "metadata": {},
   "outputs": [
    {
     "name": "stdout",
     "output_type": "stream",
     "text": [
      "abb abb\n",
      "True\n"
     ]
    }
   ],
   "source": [
    "s = \"egg\"\n",
    "t = \"add\"\n",
    "\n",
    "ch = ord('a')\n",
    "\n",
    "map_s = {}\n",
    "map_t = {}\n",
    "counter = 0\n",
    "\n",
    "n_s = ''\n",
    "n_t = ''\n",
    "\n",
    "for c in s:\n",
    "    if c in map_s:\n",
    "        n_s += map_s[c] \n",
    "    else:\n",
    "        map_s[c] = chr(ch + counter)\n",
    "        n_s += map_s[c]\n",
    "        counter += 1\n",
    "\n",
    "counter = 0\n",
    "\n",
    "for c in t:\n",
    "    if c in map_t:\n",
    "        n_t += map_t[c]\n",
    "    else:\n",
    "        map_t[c] = chr(ch + counter)\n",
    "        n_t += map_t[c]\n",
    "        counter += 1\n",
    "print(n_s, n_t)\n",
    "print(n_s == n_t)"
   ]
  },
  {
   "cell_type": "markdown",
   "id": "d8c6d97f",
   "metadata": {},
   "source": [
    "#### 6. Reorganize String Leetcode 767\n",
    "\n",
    "First use hash map custom for frequency and index being characters themselves. \n",
    "Then put highest occuring character at i + 1 th positions inplace in the given string.\n",
    "If not possible, return false, as chr will come adjacently.\n",
    "If yes, now put rest of the letters in i + 1 positions starting from i = 1 except now rotation is allowed.  "
   ]
  },
  {
   "cell_type": "code",
   "execution_count": 20,
   "id": "7b35b282",
   "metadata": {},
   "outputs": [
    {
     "name": "stdout",
     "output_type": "stream",
     "text": [
      "[97, 'a', 'b', 'b', 'b']\n"
     ]
    }
   ],
   "source": [
    "s = \"baabb\"\n",
    "\n",
    "# First get one solution in i th solution, then chech for n th, if not posible, leave the solution -> Greedily solution\n",
    "N = len(s)\n",
    "s = list(s)\n",
    "\n",
    "# first get most frequent element with one index gap (non adjacently). Count hash, frequency map\n",
    "# Try place most occured in one go, then return not possible. \n",
    "# Go in rotations to place other characters, with one index gap\n",
    "\n",
    "\n",
    "hash_count = [0] * 26 # basically indexing using forumula, and on that index storing frequency, kind of like dict.\n",
    "\n",
    "for ch in s:\n",
    "    hash_count[ord(ch) - ord('a')] += 1\n",
    "\n",
    "most_frequency_index = hash_count.index((max(hash_count)))\n",
    "frequency = hash_count[most_frequency_index]\n",
    "\n",
    "most_freq_chr = chr(most_frequency_index + ord('a'))\n",
    "\n",
    "# Now placing most frequent\n",
    "i = 0\n",
    "while (frequency > 0 and i < N):\n",
    "    s[i] = most_freq_chr\n",
    "    # print(s[i], most_freq_chr, s, frequency)\n",
    "    i += 2\n",
    "    frequency -= 1\n",
    "    # print(s)\n",
    "\n",
    "\n",
    "if frequency != 0:\n",
    "    print(\"Not Possible\")\n",
    "\n",
    "# Placeing rest of the characters\n",
    "hash_count[most_frequency_index] = 0\n",
    "\n",
    "for i in range(0,26):\n",
    "    while (hash_count[i] > 0):\n",
    "        i = 1 if i >= N else i\n",
    "        s[i] = i + ord('a')\n",
    "        i += 2\n",
    "        hash_count[i] -= 1\n",
    "\n",
    "\n",
    "print(s)"
   ]
  },
  {
   "cell_type": "markdown",
   "id": "e41ee5e6",
   "metadata": {},
   "source": [
    "#### 7. Group Anagrams Leetcode 49"
   ]
  },
  {
   "cell_type": "code",
   "execution_count": 12,
   "id": "dbbfe7c7",
   "metadata": {},
   "outputs": [
    {
     "name": "stdout",
     "output_type": "stream",
     "text": [
      "{'aet': ['eat', 'tea', 'ate'], 'ant': ['tan', 'nat'], 'abt': ['bat']}\n"
     ]
    }
   ],
   "source": [
    "strs = [\"eat\",\"tea\",\"tan\",\"ate\",\"nat\",\"bat\"]\n",
    "\n",
    "m = dict()\n",
    "\n",
    "for str in strs:\n",
    "    tmp = \"\".join(sorted(str))\n",
    "    if tmp in m:\n",
    "        m[tmp].append(str)\n",
    "    else:\n",
    "        m[tmp] = [str]\n",
    "print(m)\n",
    "\n"
   ]
  },
  {
   "cell_type": "markdown",
   "id": "d801d2cb",
   "metadata": {},
   "source": [
    "#### 8. Longest palindromic substring Leetcode 5\n",
    "\n",
    "Use expand around the center.\n",
    "Another approach that ChatGPT told me is MANACHER'S ALGORITHM"
   ]
  },
  {
   "cell_type": "code",
   "execution_count": 47,
   "id": "89b8ff11",
   "metadata": {},
   "outputs": [
    {
     "name": "stdout",
     "output_type": "stream",
     "text": [
      "['a', 'c', 'a']\n"
     ]
    }
   ],
   "source": [
    "s = \"aacabdkacaa\"\n",
    "s = list(s)\n",
    "ans = []\n",
    "\n",
    "# Expand around the center. \n",
    "# First we will expand to take out odd substrings, then for even substrings. \n",
    "\n",
    "def even_substrings(s, i: int, j: int):\n",
    "    # print(\"hi\")\n",
    "    ans = []\n",
    "    tmp = []\n",
    "    while (i >= 0 and j < len(s)):\n",
    "        if s[i] == s[j]:\n",
    "            tmp = s[i:j+1]\n",
    "            if len(tmp) > len(ans):\n",
    "                ans = tmp.copy()\n",
    "                # print(tmp,ans)\n",
    "\n",
    "            i -= 1\n",
    "            j += 1\n",
    "        else:\n",
    "            break\n",
    "\n",
    "    # print(ans)\n",
    "    return ans\n",
    "\n",
    "\n",
    "def odd_substrings(s: list[str], i: int, j: int):\n",
    "    tmp = []\n",
    "    ans = []\n",
    "    \n",
    "    while i >= 0 and j < len(s):\n",
    "        if s[i] == s[j]:\n",
    "            tmp = s[i:j+1]\n",
    "            if len(tmp) > len(ans):\n",
    "                ans = tmp.copy()\n",
    "                # print(ans)\n",
    "            \n",
    "            i -= 1\n",
    "            j += 1\n",
    "        else:\n",
    "            break\n",
    "\n",
    "    return ans\n",
    "\n",
    "\n",
    "\n",
    "if len(s) > 1:\n",
    "# for even \n",
    "    for i in range(0,len(s)):\n",
    "        tmp = even_substrings(s,i,i+1)\n",
    "        if len(tmp) > len(ans):\n",
    "            ans = tmp.copy()\n",
    "\n",
    "# for odd\n",
    "    for i in range(0,len(s)):\n",
    "        tmp = odd_substrings(s,i,i)\n",
    "        if len(tmp) > len(ans):\n",
    "            ans = tmp.copy()\n",
    "\n",
    "else:\n",
    "    ans = s\n",
    "\n",
    "\n",
    "print(ans)\n"
   ]
  },
  {
   "cell_type": "markdown",
   "id": "bc744808",
   "metadata": {},
   "source": [
    "#### 9. Find the Index of First Occurence in a string 28 Leetcode\n",
    "\n",
    "Used SLIDING WINDOW "
   ]
  },
  {
   "cell_type": "code",
   "execution_count": 53,
   "id": "6f306b49",
   "metadata": {},
   "outputs": [
    {
     "name": "stdout",
     "output_type": "stream",
     "text": [
      "Yes\n"
     ]
    }
   ],
   "source": [
    "haystack = \"sadbutsad\" \n",
    "needle = \"but\"\n",
    "\n",
    "# will do by sliding window\n",
    "\n",
    "i = 0\n",
    "j = len(needle) - 1\n",
    "\n",
    "while ( j < len(haystack)):\n",
    "    if needle == haystack[i:j+1]:\n",
    "        print(\"Yes\")\n",
    "        break\n",
    "    i += 1\n",
    "    j += 1\n",
    "\n"
   ]
  },
  {
   "cell_type": "markdown",
   "id": "a8d61df9",
   "metadata": {},
   "source": [
    "#### 10. String to integer (atoi) Leetcode 8"
   ]
  },
  {
   "cell_type": "code",
   "execution_count": 100,
   "id": "e8ccb2a8",
   "metadata": {},
   "outputs": [
    {
     "name": "stdout",
     "output_type": "stream",
     "text": [
      "-98\n"
     ]
    }
   ],
   "source": [
    "s = \"  -098\"\n",
    "s = s.strip()\n",
    "num = 1\n",
    "\n",
    "if len(s) == 0:\n",
    "    print(\"yo\")\n",
    "\n",
    "if s[0] == '-' or s[0] == '+':\n",
    "    if s[0] == '-':\n",
    "        num = num * -1\n",
    "    s = s[1:]\n",
    "\n",
    "# print(s)\n",
    "\n",
    "\n",
    "i = 0\n",
    "number = 0\n",
    "m = pow(10,(len(s) - 1))\n",
    "\n",
    "INT_MIN = pow(-2,31)\n",
    "INT_MAX = pow(2,31) - 1\n",
    "\n",
    "while ( i < len(s) ):\n",
    "    \n",
    "    if s[i].isdigit():\n",
    "        number = number + int(s[i]) * m\n",
    "        m = m//10\n",
    "        i += 1\n",
    "        # print(number)\n",
    "    else:\n",
    "        number = number // (m*10)\n",
    "        break\n",
    "\n",
    "print(num*number)"
   ]
  },
  {
   "cell_type": "markdown",
   "id": "1d32f8a1",
   "metadata": {},
   "source": [
    "#### 11. String compression Leetcode 443 (Redo) "
   ]
  },
  {
   "cell_type": "code",
   "execution_count": 76,
   "id": "d4c40534",
   "metadata": {},
   "outputs": [
    {
     "name": "stdout",
     "output_type": "stream",
     "text": [
      "['a', 'b', 'c'] count 1 i 1 j 0\n",
      "hi\n",
      "['a', 'b', 'c'] count 1 i 2 j 1\n",
      "hi\n",
      "['a', 'b', 'c'] count 1 i 3 j 3\n",
      "['a', 'b', 'c']\n"
     ]
    }
   ],
   "source": [
    "chars = [\"a\",\"b\",\"c\"]\n",
    "\n",
    "# for single lenght string exception\n",
    "\n",
    "i = 0\n",
    "j = 0\n",
    "tmp = chars[0]\n",
    "count = 0\n",
    "N = len(chars)\n",
    "\n",
    "while ( i < N ):\n",
    "    if tmp == chars[i] and i != N - 1:\n",
    "        count += 1\n",
    "        i += 1\n",
    "    else:\n",
    "        if count == 1:\n",
    "            print(\"hi\")\n",
    "            if i == N - 1 and tmp == chars[i]:\n",
    "                count += 1\n",
    "                chars[j+1] = count\n",
    "                chars[j] = tmp\n",
    "                j += 2\n",
    "                i += 1\n",
    "            elif i == N - 1 and tmp != chars[i]:\n",
    "                j += 2\n",
    "                i += 1\n",
    "            else:\n",
    "                \n",
    "                chars[j] = tmp\n",
    "                tmp = chars[i]\n",
    "                j += 1\n",
    "                # chars[j] = str(count)\n",
    "                # j += 1\n",
    "                count = 1\n",
    "                i += 1\n",
    "\n",
    "        elif count > 9:\n",
    "            if i == N - 1:\n",
    "                count += 1\n",
    "            chars[j] = tmp\n",
    "            j += 1\n",
    "            chars[j] = str ( count // 10)\n",
    "            j += 1\n",
    "            chars[j]  = str ( count % 10 )\n",
    "            j += 1\n",
    "            tmp = chars[i]\n",
    "            count = 1\n",
    "            i += 1\n",
    "\n",
    "        else:\n",
    "            if i == N - 1:\n",
    "                count += 1\n",
    "            chars[j] = tmp\n",
    "            tmp = chars[i]\n",
    "            j += 1\n",
    "            chars[j] = str(count)\n",
    "            j += 1\n",
    "            count = 1\n",
    "            i += 1\n",
    "\n",
    "    print(chars, 'count', count, 'i', i, 'j', j)\n",
    "print(chars[:j])"
   ]
  },
  {
   "cell_type": "markdown",
   "id": "bdf18da5",
   "metadata": {},
   "source": [
    "#### 12. Integer to Roman Leetcode 12"
   ]
  },
  {
   "cell_type": "code",
   "execution_count": null,
   "id": "7b0ab782",
   "metadata": {},
   "outputs": [
    {
     "name": "stdout",
     "output_type": "stream",
     "text": [
      "['M', 'M', 'M', 'D', 'C', 'C', 'XL', 'IX']\n"
     ]
    }
   ],
   "source": [
    "num = 3749\n",
    "roman_dict = [\n",
    "    ['M', 1000],\n",
    "    ['CM', 900],\n",
    "    ['D', 500],\n",
    "    ['CD', 400],\n",
    "    ['C', 100],\n",
    "    ['XC', 90],\n",
    "    ['L', 50],\n",
    "    ['XL', 40],\n",
    "    ['X', 10],\n",
    "    ['IX', 9],\n",
    "    ['V', 5],\n",
    "    ['IV', 4],\n",
    "    ['I', 1],\n",
    "]\n",
    "\n",
    "roman_num = []\n",
    "i = 0\n",
    "\n",
    "while num > 0 :\n",
    "    if num >= roman_dict[i][1]:\n",
    "        roman_num.append( roman_dict[i][0] )\n",
    "        num -= int(roman_dict[i][1])\n",
    "        i = 0\n",
    "    else:\n",
    "        i += 1\n",
    "\n",
    "\n",
    "print(roman_num)\n",
    "# MMMDCCXLIX"
   ]
  },
  {
   "cell_type": "markdown",
   "id": "9ae0db1c",
   "metadata": {},
   "source": [
    "print(\"h\\nl\")"
   ]
  },
  {
   "cell_type": "code",
   "execution_count": 44,
   "id": "96002312",
   "metadata": {},
   "outputs": [
    {
     "name": "stdout",
     "output_type": "stream",
     "text": [
      "[['P', ' ', 'A', ' ', 'Y', ' ', 'P', ' '], [' ', ' ', 'A', ' '], [' ', 'L', ' ', ' '], ['I', ' ', 'S', ' ', 'H', ' ', 'I', ' '], [' ', ' ', 'R', ' '], [' ', 'I', ' ', ' '], ['N', ' ', 'G', ' ']]\n",
      "P  I  N\n",
      "  L  I \n",
      "AA SR G\n",
      "       \n",
      "Y  H   \n",
      "       \n",
      "P  I   \n",
      "       \n"
     ]
    }
   ],
   "source": [
    "s = \"PAYPALISHIRING\"\n",
    "numRows = 4\n",
    "\n",
    "l = list(reversed(s))\n",
    "# print(l)\n",
    "\n",
    "i = 0\n",
    "N = len(l)\n",
    "\n",
    "ans = []\n",
    "tmp = []\n",
    "# Exception when numRows = 2\n",
    "\n",
    "while ( i < N ):\n",
    "    \n",
    "    # First loop to print first column\n",
    "    first_loop = numRows\n",
    "    while (first_loop):\n",
    "        tmp.append(l.pop())\n",
    "        tmp.append(' ')\n",
    "        first_loop -= 1\n",
    "        i += 1\n",
    "        if i >= N:\n",
    "            break\n",
    "        # print(first_loop)\n",
    "\n",
    "    # appending tmp in ans and clearing it\n",
    "    ans.append(tmp.copy())\n",
    "    tmp.clear()\n",
    "\n",
    "    # Secod loop for for next numRows - 2 columns\n",
    "    column_loop = numRows - 2\n",
    "    while (column_loop and i < N):\n",
    "        # first we put equal number of \\n\n",
    "        tmp.extend([' '] * column_loop )\n",
    "        tmp.append(l.pop())\n",
    "        i += 1\n",
    "        if i >= N:\n",
    "            break\n",
    "\n",
    "        tmp.extend([' '] * (numRows - column_loop - 1))\n",
    "\n",
    "        ans.append(tmp.copy())\n",
    "        tmp.clear()\n",
    "        column_loop -= 1\n",
    "\n",
    "print(ans)\n",
    "\n",
    "# Step 1: Find the max column length (number of rows)\n",
    "max_len = max(len(col) for col in ans)\n",
    "\n",
    "# Step 2: Pad all columns to the same length (with spaces or your choice)\n",
    "for col in ans:\n",
    "    col += [' '] * (max_len - len(col))\n",
    "\n",
    "# Step 3: Transpose columns to rows\n",
    "rows = list(zip(*ans))\n",
    "\n",
    "# Step 4: Print each row\n",
    "for row in rows:\n",
    "    print(''.join(row))\n"
   ]
  },
  {
   "cell_type": "code",
   "execution_count": 45,
   "id": "e9824386",
   "metadata": {},
   "outputs": [
    {
     "name": "stdout",
     "output_type": "stream",
     "text": [
      "Input string: PAYPALISHIRING\n",
      "Number of rows: 4\n",
      "Zigzag Conversion: PINALSIGYAHRPI\n"
     ]
    }
   ],
   "source": [
    "def convert(s: str, numRows: int) -> str:\n",
    "    \"\"\"\n",
    "    Converts a string into a zigzag pattern on a given number of rows\n",
    "    and then reads it line by line.\n",
    "\n",
    "    Args:\n",
    "        s: The input string.\n",
    "        numRows: The number of rows for the zigzag pattern.\n",
    "\n",
    "    Returns:\n",
    "        The zigzag-converted string.\n",
    "    \"\"\"\n",
    "    # Edge case: If numRows is 1, or more than the string length,\n",
    "    # the pattern is just a single line.\n",
    "    if numRows <= 1 or numRows >= len(s):\n",
    "        return s\n",
    "\n",
    "    # Create a list of empty strings to store the characters for each row.\n",
    "    rows = [''] * numRows\n",
    "    \n",
    "    current_row = 0\n",
    "    # This boolean will track if we are moving down or up the rows.\n",
    "    going_down = False\n",
    "\n",
    "    # Iterate through each character of the input string.\n",
    "    for char in s:\n",
    "        # Add the character to the string at the current row index.\n",
    "        rows[current_row] += char\n",
    "        \n",
    "        # If we are at the top (row 0) or bottom row, we need to reverse direction.\n",
    "        if current_row == 0 or current_row == numRows - 1:\n",
    "            going_down = not going_down\n",
    "        \n",
    "        # Move to the next row based on the current direction.\n",
    "        if going_down:\n",
    "            current_row += 1\n",
    "        else:\n",
    "            current_row -= 1\n",
    "            \n",
    "    # Join all the row strings together to form the final result.\n",
    "    return ''.join(rows)\n",
    "\n",
    "# --- Your Example ---\n",
    "s = \"PAYPALISHIRING\"\n",
    "numRows = 4\n",
    "output = convert(s, numRows)\n",
    "print(f\"Input string: {s}\")\n",
    "print(f\"Number of rows: {numRows}\")\n",
    "print(f\"Zigzag Conversion: {output}\")\n",
    "# Expected output for this case is \"PINALSIGYAHRPI\"\n"
   ]
  },
  {
   "cell_type": "markdown",
   "id": "0d71673c",
   "metadata": {},
   "source": [
    "#### Largets number"
   ]
  },
  {
   "cell_type": "markdown",
   "id": "2e57e608",
   "metadata": {},
   "source": [
    "#### 14. Minimum Time Difference -> Leetcode 539\n",
    "\n",
    "1. First we take out minutes and create a list of that for ease since difference is in minutes.\n",
    "2. Then we arrange them in order and take out difference adjacently to find minimum difference (more efficient than making every possible combination).\n",
    "3. Then for the last exceptional case, we need to take out difference between last and first entry, not by directly subtracting though, we need to go the other shorter way on the circular clock.\n",
    "So we take out differnce of last entry from the 24th hour and add first entry.\n",
    "4. Then we compare minimum and then return. \n"
   ]
  },
  {
   "cell_type": "code",
   "execution_count": 2,
   "id": "38c7d6dc",
   "metadata": {},
   "outputs": [
    {
     "name": "stdout",
     "output_type": "stream",
     "text": [
      "2\n"
     ]
    }
   ],
   "source": [
    "timePoints = [\"23:59\",\"00:00\"]\n",
    "\n",
    "time1 = timePoints[0]\n",
    "\n",
    "print(len(time1[:time1.index(':')]))"
   ]
  },
  {
   "cell_type": "code",
   "execution_count": 57,
   "id": "e980d57d",
   "metadata": {},
   "outputs": [
    {
     "name": "stdout",
     "output_type": "stream",
     "text": [
      "[159, 626, 1303]\n",
      "296\n"
     ]
    }
   ],
   "source": [
    "# timePoints = [\"23:59\",\"00:00\"]\n",
    "timePoints = [\"02:39\",\"10:26\",\"21:43\"]\n",
    "# timePoints = [\"12:12\",\"00:13\"]\n",
    "\n",
    "for i in range(0,len(timePoints)):\n",
    "    time = timePoints[i]\n",
    "    hour = time[:time.index(':')]\n",
    "    minutes = time[time.index(':')+1:]\n",
    "    time = int(hour) * 60 + int(minutes)\n",
    "    timePoints[i] = time\n",
    "\n",
    "timePoints.sort()\n",
    "# if len(timePoints) > 2:\n",
    "#     timePoints.append(1440)\n",
    "\n",
    "print(timePoints)\n",
    "min_diff = 24*60\n",
    "for i in range(1,len(timePoints)):\n",
    "    min_diff = min(min_diff, timePoints[i] - timePoints[i-1])\n",
    "    \n",
    "min_diff = min(min_diff, timePoints[0] + 1440 - timePoints[-1])\n",
    "  \n",
    "print(min_diff)"
   ]
  },
  {
   "cell_type": "markdown",
   "id": "24b6aaef",
   "metadata": {},
   "source": [
    "#### 15. Number of laser beams in a bank, Leetcode -> 2125"
   ]
  },
  {
   "cell_type": "code",
   "execution_count": null,
   "id": "ab3ab952",
   "metadata": {},
   "outputs": [
    {
     "name": "stdout",
     "output_type": "stream",
     "text": [
      "Hi\n",
      "1\n",
      "Yo ?\n",
      "0\n"
     ]
    }
   ],
   "source": [
    "bank = [\"000\",\"111\",\"000\"]\n",
    "# print(bank[1].find('1'))\n",
    "\n",
    "\n",
    "def totalLasers(bank: list[str]) -> int:\n",
    "    N = len(bank)\n",
    "\n",
    "    if N < 2:\n",
    "        return 0\n",
    "    \n",
    "    totalLasersCount = 0\n",
    "    i = 0\n",
    "    j = i+1\n",
    "    # Traversing through entire array\n",
    "    while (i < N and j < N):\n",
    "        print(\"Hi\")\n",
    "    # Finding affective adjacent\n",
    "        while (i < N and j < N and bank[i].find('1') == - 1 ):\n",
    "            i += 1\n",
    "        # print(i)\n",
    "        j = i + 1\n",
    "\n",
    "        while ( j < N and bank[j].find('1') == - 1 ):\n",
    "            j += 1\n",
    "\n",
    "        # If out of bounds get out of loop\n",
    "        if (i >= N or j >= N):\n",
    "            # print(\"Yo ?\")\n",
    "            break\n",
    "\n",
    "        \n",
    "        firstRowLasers = bank[i].count('1')\n",
    "        secondRowLasers = bank[j].count('1')\n",
    "\n",
    "        totalLasersCount += firstRowLasers * secondRowLasers\n",
    "        print(i,j,firstRowLasers, secondRowLasers, totalLasersCount)\n",
    "        i += 1\n",
    "        j += 1\n",
    "\n",
    "    return totalLasersCount\n",
    "\n",
    "\n",
    "print(totalLasers(bank))"
   ]
  },
  {
   "cell_type": "code",
   "execution_count": 20,
   "id": "7a4ff3ee",
   "metadata": {},
   "outputs": [
    {
     "name": "stdout",
     "output_type": "stream",
     "text": [
      "8\n"
     ]
    }
   ],
   "source": [
    "bank = [\"011001\",\"000000\",\"010100\",\"001000\"]\n",
    "\n",
    "def moreOptimalTotalLasers(bank: list[str]) -> int:\n",
    "\n",
    "    result = 0\n",
    "    prev = 0\n",
    "\n",
    "    for row in bank:\n",
    "        count = row.count('1')\n",
    "        if count:\n",
    "            result += prev * count\n",
    "            prev = count\n",
    "\n",
    "    return result\n",
    "\n",
    "print(moreOptimalTotalLasers(bank))\n"
   ]
  },
  {
   "cell_type": "markdown",
   "id": "a3ccaa7b",
   "metadata": {},
   "source": [
    "#### 17. Remove All Adjacent Duplicates in String II Leetcode 1209"
   ]
  },
  {
   "cell_type": "code",
   "execution_count": 21,
   "id": "7518bdf5",
   "metadata": {},
   "outputs": [
    {
     "ename": "IndexError",
     "evalue": "list index out of range",
     "output_type": "error",
     "traceback": [
      "\u001b[1;31m---------------------------------------------------------------------------\u001b[0m",
      "\u001b[1;31mIndexError\u001b[0m                                Traceback (most recent call last)",
      "Cell \u001b[1;32mIn[21], line 2\u001b[0m\n\u001b[0;32m      1\u001b[0m stack \u001b[38;5;241m=\u001b[39m []\n\u001b[1;32m----> 2\u001b[0m \u001b[38;5;28mprint\u001b[39m(\u001b[43mstack\u001b[49m\u001b[43m[\u001b[49m\u001b[38;5;241;43m0\u001b[39;49m\u001b[43m]\u001b[49m)\n",
      "\u001b[1;31mIndexError\u001b[0m: list index out of range"
     ]
    }
   ],
   "source": [
    "stack = []\n",
    "print(stack[0])"
   ]
  },
  {
   "cell_type": "code",
   "execution_count": 28,
   "id": "91519660",
   "metadata": {},
   "outputs": [
    {
     "name": "stdout",
     "output_type": "stream",
     "text": [
      "['aa', 'v']\n"
     ]
    }
   ],
   "source": [
    "s = \"deeedbbcccbdaav\"\n",
    "k = 3\n",
    "\n",
    "stack = []\n",
    "# stack.append([s[0],1])\n",
    "i = 0\n",
    "# print(stack[-1][0])\n",
    "\n",
    "\n",
    "for ch in s:\n",
    "\n",
    "    if not stack:\n",
    "        stack.append([ch,1])\n",
    "    elif ch == stack[-1][0]:\n",
    "        stack[-1][1] += 1\n",
    "    else:\n",
    "        stack.append([ch,1]) \n",
    "\n",
    "    if stack[-1][1] == k:\n",
    "        stack.pop()\n",
    "\n",
    "\n",
    "ans = [x[0] * x[1] for x in stack]\n",
    "print(ans)"
   ]
  }
 ],
 "metadata": {
  "kernelspec": {
   "display_name": "Python 3",
   "language": "python",
   "name": "python3"
  },
  "language_info": {
   "codemirror_mode": {
    "name": "ipython",
    "version": 3
   },
   "file_extension": ".py",
   "mimetype": "text/x-python",
   "name": "python",
   "nbconvert_exporter": "python",
   "pygments_lexer": "ipython3",
   "version": "3.12.6"
  }
 },
 "nbformat": 4,
 "nbformat_minor": 5
}
