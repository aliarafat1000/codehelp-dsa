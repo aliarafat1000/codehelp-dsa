{
 "cells": [
  {
   "cell_type": "markdown",
   "id": "b520cb54",
   "metadata": {},
   "source": [
    "# Class 1 : Chars, Arrays and Strings"
   ]
  },
  {
   "cell_type": "code",
   "execution_count": 1,
   "id": "53a0ad2b",
   "metadata": {},
   "outputs": [
    {
     "name": "stdout",
     "output_type": "stream",
     "text": [
      "B\n"
     ]
    }
   ],
   "source": [
    "# Use .upper(), returns doesn't change in place\n",
    "a = chr(ord('b') + ord('A') - ord('a'))\n",
    "print(a)"
   ]
  },
  {
   "cell_type": "code",
   "execution_count": 2,
   "id": "c306c49d",
   "metadata": {},
   "outputs": [
    {
     "name": "stdout",
     "output_type": "stream",
     "text": [
      "B\n"
     ]
    }
   ],
   "source": [
    "# b -> 'b' + 'A' - 'a'\n",
    "\n",
    "print(chr(ord('b') + ord('A') - ord('a')))"
   ]
  }
 ],
 "metadata": {
  "kernelspec": {
   "display_name": "Python 3",
   "language": "python",
   "name": "python3"
  },
  "language_info": {
   "codemirror_mode": {
    "name": "ipython",
    "version": 3
   },
   "file_extension": ".py",
   "mimetype": "text/x-python",
   "name": "python",
   "nbconvert_exporter": "python",
   "pygments_lexer": "ipython3",
   "version": "3.12.6"
  }
 },
 "nbformat": 4,
 "nbformat_minor": 5
}
