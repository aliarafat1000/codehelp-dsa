{
 "cells": [
  {
   "cell_type": "markdown",
   "id": "6cd2f19c",
   "metadata": {},
   "source": [
    "## Char, Arrays and Strings - III"
   ]
  },
  {
   "cell_type": "markdown",
   "id": "3d4f9845",
   "metadata": {},
   "source": [
    "#### 1. Find and replace pattern -> Leetcode: 890"
   ]
  },
  {
   "cell_type": "code",
   "execution_count": null,
   "id": "13aef179",
   "metadata": {},
   "outputs": [],
   "source": []
  },
  {
   "cell_type": "markdown",
   "id": "dadcb79d",
   "metadata": {},
   "source": [
    "#### 2.  2325. Decode the Message leetcode\n",
    "\n",
    "First we will do mapping. Mind that if letters are to repeat in the key, then assign them same alphabets.\n",
    "Once mapping is done (unordered_map -> dict ( in pyton ))\n",
    "Then decode using dictionary"
   ]
  },
  {
   "cell_type": "code",
   "execution_count": 29,
   "id": "25bf7ece",
   "metadata": {},
   "outputs": [
    {
     "name": "stdout",
     "output_type": "stream",
     "text": [
      "thequickbrownfoxjumpsoverthelazydog\n",
      "abcdefghijklmnopqrstuvwxyz\n",
      "this is a secret\n"
     ]
    }
   ],
   "source": [
    "import string\n",
    "\n",
    "s = 'the quick brown fox jumps over the lazy dog'\n",
    "message = 'vkbs bs t suepuv'\n",
    "s = s.replace(' ', '')\n",
    "print(s)\n",
    "res = string.ascii_lowercase\n",
    "print(res)\n",
    "\n",
    "# create mapping\n",
    "# using dictionary\n",
    "\n",
    "letters = ord('a')\n",
    "mapping = {}\n",
    "count = 0\n",
    "\n",
    "for i in range(0,len(s)):\n",
    "    if s[i] in mapping:\n",
    "        pass\n",
    "    else:\n",
    "        mapping[s[i]] = chr(letters + count)\n",
    "        count += 1\n",
    "\n",
    "\n",
    "# step 2, mapping for answer\n",
    "ans = []\n",
    "for c in message:\n",
    "    if c == ' ':\n",
    "        ans.append(' ')\n",
    "    else:\n",
    "        ans.append(mapping[c])\n",
    "\n",
    "\n",
    "print(''.join(ans))\n",
    "\n",
    "\n"
   ]
  },
  {
   "cell_type": "markdown",
   "id": "84281621",
   "metadata": {},
   "source": [
    "#### 3. 2391. Minimum Amount of Time to Collect Garbage Leetcode"
   ]
  },
  {
   "cell_type": "code",
   "execution_count": 15,
   "id": "de9e10a6",
   "metadata": {},
   "outputs": [
    {
     "ename": "ValueError",
     "evalue": "'G' is not in list",
     "output_type": "error",
     "traceback": [
      "\u001b[1;31m---------------------------------------------------------------------------\u001b[0m",
      "\u001b[1;31mValueError\u001b[0m                                Traceback (most recent call last)",
      "Cell \u001b[1;32mIn[15], line 4\u001b[0m\n\u001b[0;32m      1\u001b[0m garbage \u001b[38;5;241m=\u001b[39m [\u001b[38;5;124m\"\u001b[39m\u001b[38;5;124mMMM\u001b[39m\u001b[38;5;124m\"\u001b[39m,\u001b[38;5;124m\"\u001b[39m\u001b[38;5;124mPGM\u001b[39m\u001b[38;5;124m\"\u001b[39m,\u001b[38;5;124m\"\u001b[39m\u001b[38;5;124mGP\u001b[39m\u001b[38;5;124m\"\u001b[39m]\n\u001b[0;32m      2\u001b[0m travel \u001b[38;5;241m=\u001b[39m [\u001b[38;5;241m3\u001b[39m,\u001b[38;5;241m10\u001b[39m]\n\u001b[1;32m----> 4\u001b[0m \u001b[38;5;28mprint\u001b[39m(\u001b[43mgarbage\u001b[49m\u001b[43m[\u001b[49m\u001b[43m:\u001b[49m\u001b[43m:\u001b[49m\u001b[38;5;241;43m-\u001b[39;49m\u001b[38;5;241;43m1\u001b[39;49m\u001b[43m]\u001b[49m\u001b[38;5;241;43m.\u001b[39;49m\u001b[43mindex\u001b[49m\u001b[43m(\u001b[49m\u001b[38;5;124;43m'\u001b[39;49m\u001b[38;5;124;43mG\u001b[39;49m\u001b[38;5;124;43m'\u001b[39;49m\u001b[43m)\u001b[49m)\n",
      "\u001b[1;31mValueError\u001b[0m: 'G' is not in list"
     ]
    }
   ],
   "source": [
    "garbage = [\"MMM\",\"PGM\",\"GP\"]\n",
    "travel = [3,10]\n",
    "\n",
    "print(garbage[::-1].index('G'))"
   ]
  },
  {
   "cell_type": "code",
   "execution_count": 10,
   "id": "f37a37f0",
   "metadata": {},
   "outputs": [
    {
     "ename": "ValueError",
     "evalue": "'P' is not in list",
     "output_type": "error",
     "traceback": [
      "\u001b[1;31m---------------------------------------------------------------------------\u001b[0m",
      "\u001b[1;31mValueError\u001b[0m                                Traceback (most recent call last)",
      "Cell \u001b[1;32mIn[10], line 24\u001b[0m\n\u001b[0;32m     21\u001b[0m metaltruck_last_stop \u001b[38;5;241m=\u001b[39m \u001b[38;5;241m0\u001b[39m\n\u001b[0;32m     23\u001b[0m \u001b[38;5;66;03m# Finding out last stop for each truck\u001b[39;00m\n\u001b[1;32m---> 24\u001b[0m papertruck_last_stop \u001b[38;5;241m=\u001b[39m \u001b[43mgarbage\u001b[49m\u001b[43m[\u001b[49m\u001b[43m:\u001b[49m\u001b[43m:\u001b[49m\u001b[38;5;241;43m-\u001b[39;49m\u001b[38;5;241;43m1\u001b[39;49m\u001b[43m]\u001b[49m\u001b[38;5;241;43m.\u001b[39;49m\u001b[43mindex\u001b[49m\u001b[43m(\u001b[49m\u001b[38;5;124;43m'\u001b[39;49m\u001b[38;5;124;43mP\u001b[39;49m\u001b[38;5;124;43m'\u001b[39;49m\u001b[43m)\u001b[49m\n\u001b[0;32m     25\u001b[0m glasstruck_last_stop \u001b[38;5;241m=\u001b[39m garbage[::\u001b[38;5;241m-\u001b[39m\u001b[38;5;241m1\u001b[39m]\u001b[38;5;241m.\u001b[39mindex(\u001b[38;5;124m'\u001b[39m\u001b[38;5;124mG\u001b[39m\u001b[38;5;124m'\u001b[39m)\n\u001b[0;32m     26\u001b[0m metaltruck_last_stop \u001b[38;5;241m=\u001b[39m garbage[::\u001b[38;5;241m-\u001b[39m\u001b[38;5;241m1\u001b[39m]\u001b[38;5;241m.\u001b[39mindex(\u001b[38;5;124m'\u001b[39m\u001b[38;5;124mM\u001b[39m\u001b[38;5;124m'\u001b[39m)\n",
      "\u001b[1;31mValueError\u001b[0m: 'P' is not in list"
     ]
    }
   ],
   "source": [
    "# LintCode website offers free leetcode websites. \n",
    "\n",
    "garbage = [\"MMM\",\"PGM\",\"GP\"]\n",
    "travel = [3,10]\n",
    "\n",
    "# pickup time takes one unit time.\n",
    "\n",
    "# Paper Truck\n",
    "papertruck_pickup_time = 0\n",
    "papertruck_travel_time = 0\n",
    "papertruck_last_stop = 0\n",
    "\n",
    "# Glass Truck\n",
    "glasstruck_pickup_time = 0\n",
    "glasstruck_travel_time = 0\n",
    "glasstruck_last_stop = 0\n",
    "\n",
    "# Metal Truck\n",
    "metaltruck_pickup_time = 0\n",
    "metaltruck_travel_time = 0\n",
    "metaltruck_last_stop = 0\n",
    "\n",
    "# Finding out last stop for each truck\n",
    "papertruck_last_stop = garbage[::-1].index('P')\n",
    "glasstruck_last_stop = garbage[::-1].index('G')\n",
    "metaltruck_last_stop = garbage[::-1].index('M')\n",
    "\n",
    "\n",
    "# for paper truck loop alone\n",
    "for i in range(0, papertruck_last_stop + 1):\n",
    "    \n",
    "    papertruck_pickup_time += 1\n",
    "    if i - 1 >= 0 and 'P' in garbage[i]:\n",
    "        papertruck_pickup_time += travel[i-1]\n",
    "\n",
    "\n",
    "# for glass truck loop alone\n",
    "for i in range(0, glasstruck_last_stop + 1):\n",
    "    \n",
    "    glasstruck_pickup_time += 1\n",
    "    if i - 1 >= 0 and 'G' in garbage[i]:\n",
    "        glasstruck_pickup_time += travel[i-1]\n",
    "\n",
    "\n",
    "\n",
    "# for metal truck loop alone\n",
    "for i in range(0, metaltruck_last_stop + 1):\n",
    "    \n",
    "    metaltruck_pickup_time += 1\n",
    "    if i - 1 >= 0 and 'M' in garbage[i]:\n",
    "        metaltruck_pickup_time += travel[i-1]\n",
    "\n",
    "total_time = papertruck_pickup_time + papertruck_travel_time + glasstruck_pickup_time + glasstruck_travel_time + metaltruck_pickup_time + metaltruck_travel_time\n",
    "print(total_time)"
   ]
  },
  {
   "cell_type": "code",
   "execution_count": 18,
   "id": "7cae328b",
   "metadata": {},
   "outputs": [
    {
     "name": "stdout",
     "output_type": "stream",
     "text": [
      "37\n"
     ]
    }
   ],
   "source": [
    "### Love babbar's more simple way\n",
    "garbage = [\"G\",\"P\",\"GP\",\"GG\"] \n",
    "travel = [2,4,3]\n",
    "garbage = [\"MMM\",\"PGM\",\"GP\"]\n",
    "travel = [3,10]\n",
    "\n",
    "travelP = 0\n",
    "travelG = 0\n",
    "travelM = 0\n",
    "\n",
    "laststopP = 0\n",
    "laststopG = 0\n",
    "laststopM = 0\n",
    "\n",
    "for i in range(0,len(garbage)):\n",
    "\n",
    "    tmp_str = garbage[i]\n",
    "\n",
    "    for j in range(0, len(tmp_str)):\n",
    "\n",
    "        if tmp_str[j] == 'P':\n",
    "            travelP += 1\n",
    "            laststopP = i\n",
    "        if tmp_str[j] == 'G':\n",
    "            travelP += 1\n",
    "            laststopG = i\n",
    "        if tmp_str[j] == 'M':\n",
    "            travelP += 1\n",
    "            laststopM = i\n",
    "\n",
    "# When i put index number of laststop as end, it's not included, so the loop will execute 1 less, hence the travel\n",
    "# array calculation is fixed\n",
    "\n",
    "# calculating travel time\n",
    "for i in range(0,laststopP):\n",
    "    travelP += travel[i]\n",
    "\n",
    "for i in range(0,laststopG):\n",
    "    travelG += travel[i]\n",
    "\n",
    "for i in range(0,laststopM):\n",
    "    travelM += travel[i]\n",
    "\n",
    "\n",
    "print(travelM+travelG+travelP)\n"
   ]
  },
  {
   "cell_type": "markdown",
   "id": "d61b9488",
   "metadata": {},
   "source": [
    "#### 4.  791. Custom Sort String -> Leetcode"
   ]
  },
  {
   "cell_type": "markdown",
   "id": "a0cba4d8",
   "metadata": {},
   "source": [
    "Ohk first, we use dictionary comprehension. we store characters as keys and their indexes as values using enumaerate to \n",
    "return indexes and values.\n",
    "\n",
    "They we use sorted fuction. In sorted function either it used a default value, or it uses a value another parameter called key. It no longer sorts the element itself but what key function returns for the element. \n",
    "\n",
    "key=lambda x: priority.get(x, len(order))\n",
    "\n",
    "######\n",
    "''.join(sorted(s, key=lambda x: priority.get(x, len(order))))\n",
    "priority.get(x, len(order)) means:\n",
    "take character 'x' from 's' and look up it's priority value in the priority dictionary\n",
    ".get() is dictionary method\n",
    "\n",
    "If x exists in priority:\n",
    "    return priority[x] — the index of the character in the order string.\n",
    "\n",
    "If x does NOT exist in priority:\n",
    "    return len(order). This ensures any character not defined in order gets a high index — and so they appear at the end of the sorted result."
   ]
  },
  {
   "cell_type": "code",
   "execution_count": null,
   "id": "5621bdb2",
   "metadata": {},
   "outputs": [
    {
     "name": "stdout",
     "output_type": "stream",
     "text": [
      "cbad\n",
      "0 c\n",
      "1 b\n",
      "2 a\n"
     ]
    }
   ],
   "source": [
    "order = \"cba\"\n",
    "s = \"abcd\"\n",
    "# Output: \"cbad\"\n",
    "\n",
    "def customSortString(order: str, s: str) -> str:\n",
    "    priority = {char: idx for idx, char in enumerate(order)}\n",
    "    return ''.join(sorted(s, key=lambda x: priority.get(x, len(order))))\n",
    "\n",
    "print(customSortString(order,s))\n",
    "\n",
    "\n"
   ]
  },
  {
   "cell_type": "markdown",
   "id": "e25bf6ce",
   "metadata": {},
   "source": [
    "#### 5. Number of laser beams in a Bank. Leetcode -> 2125"
   ]
  },
  {
   "cell_type": "markdown",
   "id": "33bd32b3",
   "metadata": {},
   "source": [
    "#### 6. Find and Replace Pattern -> Leetcode 890"
   ]
  },
  {
   "cell_type": "markdown",
   "id": "20f16887",
   "metadata": {},
   "source": [
    "In this question we try to normalize pattern. We go to letter, put 'a' in it, and store the assigned letter in a dict. \n",
    "If we encounter another letter that is not in dictionary we put 'a' + 1 and then store it. If it's in dict, then use \n",
    "what we assigned previously. \n",
    "\n",
    "after normalizing pattern and words, we check which are matching, store index, and then search for those words in \n",
    "words."
   ]
  },
  {
   "cell_type": "code",
   "execution_count": null,
   "id": "d4f3ae57",
   "metadata": {},
   "outputs": [
    {
     "name": "stdout",
     "output_type": "stream",
     "text": [
      "['abc', 'abc', 'abb', 'abb', 'aba', 'aaa']\n",
      "['abb']\n",
      "['mee', 'aqq']\n"
     ]
    }
   ],
   "source": [
    "words = [\"abc\",\"deq\",\"mee\",\"aqq\",\"dkd\",\"ccc\"]\n",
    "pattern = \"abb\"\n",
    "\n",
    "\n",
    "# First we normalize data, then we only check pattern. \n",
    "\n",
    "ch = ord('a')\n",
    "tmp_str = str()\n",
    "normalized_words = []\n",
    "normalized_pattern = []\n",
    "tmp_dict = {}\n",
    "count = 0\n",
    "\n",
    "# Normalizing pattern string\n",
    "\n",
    "for c in pattern:\n",
    "    if c in tmp_dict:\n",
    "        tmp_str = tmp_str +  tmp_dict[c]\n",
    "    else:\n",
    "        tmp_str  = tmp_str + chr(ch + count)\n",
    "        tmp_dict[c] = chr(ch + count)\n",
    "        count += 1\n",
    "    # print(tmp_dict, tmp_str, c)\n",
    "normalized_pattern.append(tmp_str)\n",
    "tmp_str = str()\n",
    "tmp_dict.clear()\n",
    "# ch = ord('a')\n",
    "count = 0\n",
    "\n",
    "# Normalizing word string list\n",
    "\n",
    "for word in words:\n",
    "    for c in word:\n",
    "        if c in tmp_dict:\n",
    "            tmp_str = tmp_str +  tmp_dict[c]\n",
    "        else:\n",
    "            tmp_str  = tmp_str + chr(ch + count)\n",
    "            tmp_dict[c] = chr(ch + count)\n",
    "            count += 1\n",
    "        # print(tmp_dict, tmp_str, c)\n",
    "    normalized_words.append(tmp_str)\n",
    "    tmp_str = str()\n",
    "    tmp_dict.clear()\n",
    "    # ch = ord('a')\n",
    "    count = 0\n",
    "\n",
    "# print(normalized_words)\n",
    "# print(normalized_pattern)\n",
    "\n",
    "# Now matching and finding. \n",
    "\n",
    "ans = []\n",
    "\n",
    "for index, word in enumerate(normalized_words):\n",
    "    if word == normalized_pattern[0]:\n",
    "        ans.append(words[index])\n",
    "\n",
    "print(ans)\n"
   ]
  },
  {
   "cell_type": "code",
   "execution_count": 6,
   "id": "8fc9e53d",
   "metadata": {},
   "outputs": [
    {
     "name": "stdout",
     "output_type": "stream",
     "text": [
      "abc\n",
      "abc\n"
     ]
    }
   ],
   "source": [
    "a = 'abc\\nabc'\n",
    "print(a)"
   ]
  }
 ],
 "metadata": {
  "kernelspec": {
   "display_name": "Python 3",
   "language": "python",
   "name": "python3"
  },
  "language_info": {
   "codemirror_mode": {
    "name": "ipython",
    "version": 3
   },
   "file_extension": ".py",
   "mimetype": "text/x-python",
   "name": "python",
   "nbconvert_exporter": "python",
   "pygments_lexer": "ipython3",
   "version": "3.12.6"
  }
 },
 "nbformat": 4,
 "nbformat_minor": 5
}
