{
 "cells": [
  {
   "cell_type": "code",
   "execution_count": 2,
   "id": "fc9fab07",
   "metadata": {},
   "outputs": [
    {
     "name": "stdout",
     "output_type": "stream",
     "text": [
      "0\n",
      "2\n",
      "4\n"
     ]
    }
   ],
   "source": [
    "for i in range(0,5,2):\n",
    "    print(i)"
   ]
  },
  {
   "cell_type": "code",
   "execution_count": 6,
   "id": "16566428",
   "metadata": {},
   "outputs": [
    {
     "name": "stdout",
     "output_type": "stream",
     "text": [
      "* * \n",
      "* * \n",
      "* * \n"
     ]
    }
   ],
   "source": [
    "for i in range(0,3):\n",
    "    for j in range(0,2):\n",
    "        print(\"* \",end=\"\")\n",
    "    print(\"\")"
   ]
  },
  {
   "cell_type": "code",
   "execution_count": 28,
   "id": "db1b19a0",
   "metadata": {},
   "outputs": [
    {
     "name": "stdout",
     "output_type": "stream",
     "text": [
      "\n",
      "1 \n",
      "1 2 \n",
      "1 2 3 \n",
      "1 2 3 4 \n",
      "1 2 3 4 5 \n",
      "1 2 3 4 5 6 \n",
      "1 2 3 4 5 6 7 \n",
      "1 2 3 4 5 6 7 8 \n",
      "1 2 3 4 5 6 7 8 9 \n"
     ]
    }
   ],
   "source": [
    "sizing = 10\n",
    "for i in range(0,sizing):\n",
    "    for j in range(1,i+1):\n",
    "            print(str(j) + \" \",end=\"\")\n",
    "    print(\"\")"
   ]
  },
  {
   "cell_type": "code",
   "execution_count": 19,
   "id": "2758285f",
   "metadata": {},
   "outputs": [
    {
     "name": "stdout",
     "output_type": "stream",
     "text": [
      "* * * * * * * * * * * * * * * * * * * * \n",
      "*                                     * \n",
      "*                                     * \n",
      "*                                     * \n",
      "*                                     * \n",
      "*                                     * \n",
      "*                                     * \n",
      "*                                     * \n",
      "*                                     * \n",
      "* * * * * * * * * * * * * * * * * * * * \n"
     ]
    }
   ],
   "source": [
    "sizing = 20\n",
    "for i in range(0,int(sizing/2)):\n",
    "    for j in range(0,sizing):\n",
    "        if ((i == 0 or i==sizing/2-1) or (j==0 or j==sizing-1)  ):\n",
    "            print(\"* \",end=\"\")\n",
    "        else:\n",
    "            print(\"  \",end=\"\")\n",
    "    print(\"\")"
   ]
  },
  {
   "cell_type": "code",
   "execution_count": 20,
   "id": "67160590",
   "metadata": {},
   "outputs": [
    {
     "name": "stdout",
     "output_type": "stream",
     "text": [
      "* * * * * * * * * * * * * * * * * * * * \n",
      "*                                     * \n",
      "*                                     * \n",
      "*                                     * \n",
      "*                                     * \n",
      "*                                     * \n",
      "*                                     * \n",
      "*                                     * \n",
      "*                                     * \n",
      "*                                     * \n",
      "*                                     * \n",
      "*                                     * \n",
      "*                                     * \n",
      "*                                     * \n",
      "*                                     * \n",
      "*                                     * \n",
      "*                                     * \n",
      "*                                     * \n",
      "*                                     * \n",
      "* * * * * * * * * * * * * * * * * * * * \n"
     ]
    }
   ],
   "source": [
    "sizing = 20\n",
    "for i in range(0,int(sizing)):\n",
    "    for j in range(0,sizing):\n",
    "        if ((i == 0 or i==sizing-1) or (j==0 or j==sizing-1)  ):\n",
    "            print(\"* \",end=\"\")\n",
    "        else:\n",
    "            print(\"  \",end=\"\")\n",
    "    print(\"\")"
   ]
  }
 ],
 "metadata": {
  "kernelspec": {
   "display_name": "Python 3",
   "language": "python",
   "name": "python3"
  },
  "language_info": {
   "codemirror_mode": {
    "name": "ipython",
    "version": 3
   },
   "file_extension": ".py",
   "mimetype": "text/x-python",
   "name": "python",
   "nbconvert_exporter": "python",
   "pygments_lexer": "ipython3",
   "version": "3.12.6"
  }
 },
 "nbformat": 4,
 "nbformat_minor": 5
}
