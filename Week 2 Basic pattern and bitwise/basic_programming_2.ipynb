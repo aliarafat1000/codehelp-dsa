{
 "cells": [
  {
   "cell_type": "markdown",
   "id": "e9941e37",
   "metadata": {},
   "source": [
    "Question 1 : Full pyramid. Done. According to rules.\n",
    "Mixed pyramid"
   ]
  },
  {
   "cell_type": "code",
   "execution_count": 15,
   "id": "ef1e94fe",
   "metadata": {},
   "outputs": [
    {
     "name": "stdout",
     "output_type": "stream",
     "text": [
      "     * \n",
      "    * * \n",
      "   * * * \n",
      "  * * * * \n",
      " * * * * * \n",
      " * * * * * \n",
      "  * * * * \n",
      "   * * * \n",
      "    * * \n",
      "     * \n"
     ]
    }
   ],
   "source": [
    "# no of rows = 5\n",
    "# r1 -> 4 space 1 star\n",
    "# r2 -> 3 space 2 stars\n",
    "# r3 -> 2 space 3 stars\n",
    "# r4 -> 1 space 4 stars\n",
    "# r5 -> 0 space 5 stars\n",
    "\n",
    "for i in range(0,5):\n",
    "    # first let's print spaces\n",
    "    for j in range(0,5-i):\n",
    "        print(\" \",end='')\n",
    "\n",
    "    # now printing stars\n",
    "    for j in range(0,i+1):\n",
    "        print(\"* \",end=\"\")\n",
    "\n",
    "    # for next line\n",
    "    print(\"\")\n",
    "\n",
    "for i in range(0,5):\n",
    "    # first let's print spaces\n",
    "    for j in range(0,i+1):\n",
    "        print(\" \",end='')\n",
    "\n",
    "    # now printing stars\n",
    "    for j in range(0,5-i):\n",
    "        print(\"* \",end=\"\")\n",
    "\n",
    "    # for next line\n",
    "    print(\"\")"
   ]
  },
  {
   "cell_type": "code",
   "execution_count": 26,
   "id": "836c6192",
   "metadata": {},
   "outputs": [
    {
     "name": "stdout",
     "output_type": "stream",
     "text": [
      "     \n",
      "    * \n",
      "   * * \n",
      "  *   * \n",
      " *     * \n",
      "*       * \n",
      " *     * \n",
      "  *   * \n",
      "   * * \n",
      "    * \n"
     ]
    }
   ],
   "source": [
    "for i in range(0,5):\n",
    "\n",
    "    \n",
    "    # first let's print spaces\n",
    "    for j in range(0,5-i):\n",
    "        print(\" \",end='')\n",
    "\n",
    "    # now printing stars\n",
    "    for j in range(0,i):\n",
    "        if ((i == 0) or (j == 0 or j == i - 1) ):\n",
    "            print(\"* \",end=\"\")\n",
    "        else:\n",
    "            print(\"  \",end=\"\")\n",
    "\n",
    "    # for next line\n",
    "    print(\"\")\n",
    "\n",
    "for i in range(0,5):\n",
    "\n",
    "    \n",
    "    # first let's print spaces\n",
    "    for j in range(0,i):\n",
    "        print(\" \",end='')\n",
    "\n",
    "    # now printing stars\n",
    "    for j in range(0,5-i):\n",
    "        if ((i == 4) or (j == 0 or j == 5 - i - 1) ):\n",
    "            print(\"* \",end=\"\")\n",
    "        else:\n",
    "            print(\"  \",end=\"\")\n",
    "\n",
    "    # for next line\n",
    "    print(\"\")"
   ]
  },
  {
   "cell_type": "code",
   "execution_count": 41,
   "id": "e3fb7c0c",
   "metadata": {},
   "outputs": [
    {
     "name": "stdout",
     "output_type": "stream",
     "text": [
      "* * * * *   * * * * * \n",
      "* * * *       * * * * \n",
      "* * *           * * * \n",
      "* *               * * \n",
      "*                   * \n",
      "*                   * \n",
      "* *               * * \n",
      "* * *           * * * \n",
      "* * * *       * * * * \n",
      "* * * * *   * * * * * \n"
     ]
    }
   ],
   "source": [
    "sizing = 5\n",
    "\n",
    "for i in range(0,sizing):\n",
    "    # First part of stars\n",
    "    for j in range(0,sizing - i):\n",
    "        print(\"* \",end=\"\")\n",
    "\n",
    "    # Hollow full pyramid\n",
    "    # first let's print spaces\n",
    "    for j in range(0,2*i + 1):\n",
    "        print(\"  \",end='')\n",
    "\n",
    "    #now rest of the stars\n",
    "\n",
    "    for j in range(0,sizing - i):\n",
    "        print(\"* \",end=\"\")\n",
    "\n",
    "    \n",
    "    \n",
    "    print(\"\")\n",
    "\n",
    "for i in range(0,sizing):\n",
    "    for j in range(0,i+1):\n",
    "        print(\"* \", end='')\n",
    "\n",
    "    # lower hollow\n",
    "    # first let's print spaces\n",
    "    for j in range(0,2*sizing-2*i -1):\n",
    "        print(\"  \",end='')\n",
    "\n",
    "    # # now printing stars\n",
    "    for j in range(0,i+1):\n",
    "        print(\"* \", end='')\n",
    "\n",
    "\n",
    "    print(\"\")"
   ]
  },
  {
   "cell_type": "code",
   "execution_count": null,
   "id": "97960412",
   "metadata": {},
   "outputs": [
    {
     "name": "stdout",
     "output_type": "stream",
     "text": [
      "1\n",
      "2 x 2\n",
      "3 x 3 x 3\n",
      "4 x 4 x 4 x 4\n",
      "5 x 5 x 5 x 5 x 5\n",
      "6 x 6 x 6 x 6 x 6 x 6\n",
      "7 x 7 x 7 x 7 x 7 x 7 x 7\n",
      "8 x 8 x 8 x 8 x 8 x 8 x 8 x 8\n",
      "9 x 9 x 9 x 9 x 9 x 9 x 9 x 9 x 9\n",
      "8 x 8 x 8 x 8 x 8 x 8 x 8 x 8\n",
      "7 x 7 x 7 x 7 x 7 x 7 x 7\n",
      "6 x 6 x 6 x 6 x 6 x 6\n",
      "5 x 5 x 5 x 5 x 5\n",
      "4 x 4 x 4 x 4\n",
      "3 x 3 x 3\n",
      "2 x 2\n",
      "1\n"
     ]
    }
   ],
   "source": [
    "# took help. problem with second half formula. Had to size-- before hand. then 2[size-rows] -1\n",
    "size = 9\n",
    "\n",
    "for rows in range(0,size):\n",
    "    for cols in range(0, 2*rows + 1):\n",
    "        # if cols % 2 == 0:\n",
    "        if cols&1 == 0:\n",
    "            print(rows + 1,end='')\n",
    "        else:\n",
    "            print(\" x \",end='')\n",
    "\n",
    "    print('')\n",
    "size -= 1\n",
    "for rows in range(0,size):\n",
    "    for cols in range(0,2*size - 2*rows - 1):\n",
    "        if cols&1 ==0:\n",
    "            print(size-rows,end='')\n",
    "        else:\n",
    "            print(\" x \",end='')\n",
    "    print('')\n",
    "\n"
   ]
  },
  {
   "cell_type": "code",
   "execution_count": 13,
   "id": "64f1cbd8",
   "metadata": {},
   "outputs": [
    {
     "name": "stdout",
     "output_type": "stream",
     "text": [
      "A  \n",
      "A  B  A  \n",
      "A  B  C  B  A  \n",
      "A  B  C  D  C  B  A  \n",
      "A  B  C  D  E  D  C  B  A  \n"
     ]
    }
   ],
   "source": [
    "size = 5\n",
    "\n",
    "for rows in range(0,size):\n",
    "\n",
    "    # loop for first half straigh forward\n",
    "    for cols in range(0,rows+1):\n",
    "        print(chr(ord('A')+cols),' ',end='')\n",
    "\n",
    "    # loop for second half reversed\n",
    "    for cols in range(0,rows):\n",
    "        # 'A' + (rows -1) - cols\n",
    "        print( chr(ord('A') + (rows -1) - cols) ,' ', end='')\n",
    "\n",
    "    print('')"
   ]
  },
  {
   "cell_type": "code",
   "execution_count": 61,
   "id": "57cdff06",
   "metadata": {},
   "outputs": [
    {
     "name": "stdout",
     "output_type": "stream",
     "text": [
      "1  \n",
      "2  3  \n",
      "4  5  6  \n",
      "7  8  9  10  \n"
     ]
    }
   ],
   "source": [
    "count = 1\n",
    "size = 4\n",
    "\n",
    "for rows in range(0,size):\n",
    "    for cols in range(0,rows+1):\n",
    "        print(count,' ',end='')\n",
    "        count += 1\n",
    "    print('')"
   ]
  },
  {
   "cell_type": "code",
   "execution_count": 15,
   "id": "e564767a",
   "metadata": {},
   "outputs": [
    {
     "name": "stdout",
     "output_type": "stream",
     "text": [
      "1  2  3  4  5  \n",
      "2        5  \n",
      "3     5  \n",
      "4  5  \n",
      "5  \n"
     ]
    }
   ],
   "source": [
    "size = 5\n",
    "for i in range(0,size):\n",
    "    for j in range(0,size - i):\n",
    "        if (i == 0 or i == size -1) or (j == 0 or j == size - i -1):\n",
    "            print(j+i+1, ' ',end='')\n",
    "        else:\n",
    "            print('   ',end='')\n",
    "    print('')"
   ]
  },
  {
   "cell_type": "code",
   "execution_count": 29,
   "id": "a9c588a2",
   "metadata": {},
   "outputs": [
    {
     "name": "stdout",
     "output_type": "stream",
     "text": [
      "          1 \n",
      "        1 2 1 \n",
      "      1 2 3 2 1 \n",
      "    1 2 3 4 3 2 1 \n",
      "  1 2 3 4 5 4 3 2 1 \n"
     ]
    }
   ],
   "source": [
    "# first inverted half space pyramid\n",
    "size = 5\n",
    "for i in range(0,size):\n",
    "    # spaces inverted half triangle\n",
    "    for j in range(0, size - i):\n",
    "        print(\"  \",end='')\n",
    "\n",
    "    # half numerical triangle\n",
    "    for j in range(0,i+1):\n",
    "        print(j+1,'' ,end='')\n",
    "\n",
    "    # half pyramid, reverse number in rows\n",
    "    for j in range(0,i):\n",
    "        print(i-j,'',end='')\n",
    "\n",
    "\n",
    "    \n",
    "    print('')\n",
    "\n"
   ]
  },
  {
   "cell_type": "code",
   "execution_count": 34,
   "id": "336af53f",
   "metadata": {},
   "outputs": [
    {
     "name": "stdout",
     "output_type": "stream",
     "text": [
      "********1********\n",
      "*******2*2*******\n",
      "******3*3*3******\n",
      "*****4*4*4*4*****\n",
      "****5*5*5*5*5****\n",
      "***6*6*6*6*6*6***\n"
     ]
    }
   ],
   "source": [
    "size = 6\n",
    "col_size = 17\n",
    "\n",
    "# break down problem, simple silly !\n",
    "for i in range(0,size):\n",
    "    #first print first stars\n",
    "    for j in range(0,int(col_size/2 - i)):\n",
    "        print('*',end='')\n",
    "    \n",
    "    # now the numerical pyramid\n",
    "    for j in range(0,2*i + 1):\n",
    "        if j&1 == 0:\n",
    "            print(i+1,end='')\n",
    "        else:\n",
    "            print(\"*\",end='')\n",
    "\n",
    "    # stars again\n",
    "    #first print first stars\n",
    "    for j in range(0,int(col_size/2 - i)):\n",
    "        print('*',end='')      \n",
    "    \n",
    "    print('')\n"
   ]
  },
  {
   "cell_type": "code",
   "execution_count": 27,
   "id": "35a99af4",
   "metadata": {},
   "outputs": [
    {
     "name": "stdout",
     "output_type": "stream",
     "text": [
      "1\n",
      "2*3\n",
      "4*5*6\n",
      "7*8*9*10\n",
      "7*8*9*10\n",
      "4*5*6\n",
      "2*3\n",
      "1\n"
     ]
    }
   ],
   "source": [
    "count = 1\n",
    "size = 4\n",
    "for rows in range(0,size):\n",
    "    for cols in range(0,2*rows+1):\n",
    "        if cols&1 == 0:\n",
    "            print(count,end='')\n",
    "            count += 1\n",
    "        else:\n",
    "            print('*',end='')\n",
    "        \n",
    "    print('')\n",
    "buffer = 2*size - 1\n",
    "counter = 1\n",
    "for rows in range(0,size):\n",
    "    count = buffer\n",
    "    for cols in range(0,2*size - 2*rows -1):\n",
    "        if cols&1 == 0:\n",
    "            print(count,end='')\n",
    "            count += 1\n",
    "        else:\n",
    "            print('*',end='')\n",
    "    buffer = buffer - (size - counter)\n",
    "    # print(f' this is {buffer}')\n",
    "    counter += 1\n",
    "    print('')\n"
   ]
  },
  {
   "cell_type": "code",
   "execution_count": null,
   "id": "0a252764",
   "metadata": {},
   "outputs": [
    {
     "name": "stdout",
     "output_type": "stream",
     "text": [
      "1\n",
      "121\n",
      "12321\n",
      "\n",
      "\n"
     ]
    }
   ],
   "source": [
    "size = 5\n",
    "for rows in range(0,size):\n",
    "    # a ternary operator\n",
    "    cond = 2*rows + 1 if rows <= size/2 else 0\n",
    "    for cols in range(0,cond):\n",
    "        if cols <= cond/2:\n",
    "            print(cols+1,end='')\n",
    "        else:\n",
    "            print(cond-cols,end='')\n",
    "    print('')"
   ]
  },
  {
   "cell_type": "code",
   "execution_count": 20,
   "id": "dafc762a",
   "metadata": {},
   "outputs": [
    {
     "name": "stdout",
     "output_type": "stream",
     "text": [
      "1\n",
      "121\n",
      "12321\n",
      "\n",
      "\n"
     ]
    }
   ],
   "source": [
    "size = 5\n",
    "\"\"\"\n",
    "*\n",
    "*1*\n",
    "*121*\n",
    "*12321*\n",
    "*121*\n",
    "*1*\n",
    "*\n",
    "\n",
    "\"\"\"\n",
    "\n",
    "for i in range(0,size):\n",
    "    growing_phase_index = 2*i + 1\n",
    "    if i <= int(size/2):\n",
    "        for j in range(0,growing_phase_index ):\n",
    "            if j <= int(growing_phase_index/2):\n",
    "                print(j+1,end='')\n",
    "            else:\n",
    "                print(growing_phase_index-j,end='')\n",
    "    print('')"
   ]
  },
  {
   "cell_type": "code",
   "execution_count": 40,
   "id": "d5d323c0",
   "metadata": {},
   "outputs": [
    {
     "name": "stdout",
     "output_type": "stream",
     "text": [
      "*\n",
      "*1*\n",
      "*121*\n",
      "*12321*\n",
      "*1234321*\n",
      "*123454321*\n",
      "*1234321*\n",
      "*12321*\n",
      "*121*\n",
      "*1*\n",
      "*\n"
     ]
    }
   ],
   "source": [
    "size = 9\n",
    "print(\"*\")\n",
    "for i in range(0,size):\n",
    "    print(\"*\",end='')\n",
    "    # Growing phase\n",
    "    cond = 2*i if i <= int(size/2) else 2*(size - i - 1)\n",
    "    for j in range(0,cond+1):\n",
    "        # Growing digits\n",
    "        if j <= int(cond/2):\n",
    "            print(j+1,end='')\n",
    "        # Shrinking digits\n",
    "        else:\n",
    "            print(cond-j+1,end='')\n",
    "\n",
    "    # Shrinking phase\n",
    "\n",
    "    print(\"*\",end='')\n",
    "    print('')\n",
    "print(\"*\")"
   ]
  },
  {
   "cell_type": "markdown",
   "id": "ebad6144",
   "metadata": {},
   "source": [
    "Pascal Triangle"
   ]
  },
  {
   "cell_type": "code",
   "execution_count": 42,
   "id": "f366aedd",
   "metadata": {},
   "outputs": [
    {
     "name": "stdout",
     "output_type": "stream",
     "text": [
      "\n",
      "1\n",
      "11\n",
      "121\n",
      "1331\n",
      "14641\n"
     ]
    }
   ],
   "source": [
    "N = 5\n",
    "for i in range(0,N+1):\n",
    "    C = 1\n",
    "    for j in range(1,i+1):\n",
    "        print(C,end='')\n",
    "        C = int(C*(i-j)/j)\n",
    "\n",
    "    print('')"
   ]
  },
  {
   "cell_type": "code",
   "execution_count": 48,
   "id": "6726d740",
   "metadata": {},
   "outputs": [
    {
     "name": "stdout",
     "output_type": "stream",
     "text": [
      "*                 * \n",
      "* *             * * \n",
      "* * *         * * * \n",
      "* * * *     * * * * \n",
      "* * * * * * * * * * \n",
      "* * * * * * * * * * \n",
      "* * * *     * * * * \n",
      "* * *         * * * \n",
      "* *             * * \n",
      "*                 * \n"
     ]
    }
   ],
   "source": [
    "# butter fly patters\n",
    "sizing = 5\n",
    "\n",
    "\n",
    "\n",
    "for i in range(0,sizing):\n",
    "    for j in range(0,i+1):\n",
    "        print(\"* \", end='')\n",
    "\n",
    "    # lower hollow\n",
    "    # first let's print spaces\n",
    "    for j in range(0,2*sizing-2*i -2):\n",
    "        print(\"  \",end='')\n",
    "\n",
    "    # # now printing stars\n",
    "    for j in range(0,i+1):\n",
    "        print(\"* \", end='')\n",
    "\n",
    "\n",
    "    print(\"\")\n",
    "\n",
    "\n",
    "\n",
    "\n",
    "for i in range(0,sizing):\n",
    "    # First part of stars\n",
    "    for j in range(0,sizing - i):\n",
    "        print(\"* \",end=\"\")\n",
    "\n",
    "    # Hollow full pyramid\n",
    "    # first let's print spaces\n",
    "    for j in range(0,2*i ):\n",
    "        print(\"  \",end='')\n",
    "\n",
    "    #now rest of the stars\n",
    "\n",
    "    for j in range(0,sizing - i):\n",
    "        print(\"* \",end=\"\")\n",
    "\n",
    "    \n",
    "    \n",
    "    print(\"\")"
   ]
  },
  {
   "cell_type": "code",
   "execution_count": 49,
   "id": "2abfbcb3",
   "metadata": {},
   "outputs": [
    {
     "name": "stdout",
     "output_type": "stream",
     "text": [
      "62.0 miles\n"
     ]
    }
   ],
   "source": [
    "def km_to_miles(km: int):\n",
    "    return km*0.62\n",
    "\n",
    "print(km_to_miles(100), 'miles')"
   ]
  },
  {
   "cell_type": "code",
   "execution_count": 55,
   "id": "e6080e33",
   "metadata": {},
   "outputs": [
    {
     "name": "stdout",
     "output_type": "stream",
     "text": [
      "4\n",
      "3\n",
      "2\n",
      "1\n",
      "0\n"
     ]
    }
   ],
   "source": [
    "def digits(num: int):\n",
    "    while (num != 0):\n",
    "        print(num%10)\n",
    "        num //=10\n",
    "    return 0\n",
    "\n",
    "print(digits(1234))\n"
   ]
  },
  {
   "cell_type": "code",
   "execution_count": 59,
   "id": "068587a0",
   "metadata": {},
   "outputs": [
    {
     "name": "stdout",
     "output_type": "stream",
     "text": [
      "628.0 m²\n",
      "None\n"
     ]
    }
   ],
   "source": [
    "def area_of_circle(radius: int):\n",
    "    print(2*3.14*radius, 'm\\u00B2')\n",
    "\n",
    "print(area_of_circle(100))"
   ]
  },
  {
   "cell_type": "code",
   "execution_count": 61,
   "id": "756fd1b6",
   "metadata": {},
   "outputs": [
    {
     "name": "stdout",
     "output_type": "stream",
     "text": [
      "odd\n"
     ]
    }
   ],
   "source": [
    "def odd_or_even(num: int):\n",
    "    result = 'even' if num&1 == 0 else 'odd'\n",
    "    return result\n",
    "\n",
    "print(odd_or_even(257))"
   ]
  },
  {
   "cell_type": "code",
   "execution_count": 67,
   "id": "3748b8f2",
   "metadata": {},
   "outputs": [
    {
     "name": "stdout",
     "output_type": "stream",
     "text": [
      "2422040124750272179867875093812352218590983385729207299450679664929938160215647420444519051666484819249321456671497049842327525093874817343838393757631459228450828499972271274140160311057830558463636337124079332447820739281101037112665387537180790257577919273108262916904750405235055060084012219492892375635136296622020023178109619818046179906897450420548912610870589088056503913584562211037693288782960900195074130999799035970711436279339094292032866260496375825461427727555710003007752906141470639574390024988514914264449865006458873226951941899545970333910351588559232940829569276986080222200289966128343931630028789203382654749603473516314765262772257171154686716862814184728741187147936349501653197457455660413134506049122044947052623384682088864790673309569292384215611788014274954905914148362303226200246816441301934846080254998647325270606104512088058712293349862185399243309054299576381718806247238195232604642614329894070636163753672091232751612378348273840757873567717532879242518337119540602943609411629349009566043720836737401090882392975031224612531245642687296717053747734506443314924558119560479901478736209556925161517737110399754730551854066328420014728657896286936523787080206476327157136441318773432751007263108056958251693811280957243202460157111778617472683761623869704457588005158037495665069625778930898095725794710701639238231528115579619120287378689238934335198508665933917257143975277707590597511989345068701735940169672561864713107115016747368992690116082633762172346688969840862517264384000000000000000000000000000000000000000000000000000000000000000000000000000000000000000000000000000000000000000000000000000000000000000000000000000000000000000000000000000000\n"
     ]
    }
   ],
   "source": [
    "# factorial\n",
    "def factorial(num: int):\n",
    "    result = 1\n",
    "    while (num > 0):\n",
    "        result *= num\n",
    "        num -= 1\n",
    "    \n",
    "    return result\n",
    "\n",
    "print(factorial(700))\n"
   ]
  },
  {
   "cell_type": "code",
   "execution_count": 90,
   "id": "42bd1d0b",
   "metadata": {},
   "outputs": [
    {
     "name": "stdout",
     "output_type": "stream",
     "text": [
      "[1, 2, 3, 5, 7, 11, 13]\n"
     ]
    }
   ],
   "source": [
    "# check if prime number or not\n",
    "def prime_or_not(num: int):\n",
    "    flag = True\n",
    "    prime = []\n",
    "    for j in range(1,num+1):\n",
    "        for i in range(2, j):\n",
    "            if j % i == 0:\n",
    "                flag = False\n",
    "\n",
    "        if flag == True:\n",
    "            prime.append(j)\n",
    "        else:\n",
    "            flag = True\n",
    "        \n",
    "\n",
    "    return prime\n",
    "\n",
    "print(prime_or_not(15))"
   ]
  },
  {
   "cell_type": "code",
   "execution_count": 92,
   "id": "d5216fa7",
   "metadata": {},
   "outputs": [
    {
     "name": "stdout",
     "output_type": "stream",
     "text": [
      "321\n"
     ]
    }
   ],
   "source": [
    "# Reverse integer\n",
    "N = 123\n",
    "answer = 0\n",
    "while (N != 0):\n",
    "    remainder = N % 10\n",
    "    answer = answer*10 + remainder\n",
    "    N = N//10\n",
    "\n",
    "print(answer)"
   ]
  },
  {
   "cell_type": "code",
   "execution_count": 96,
   "id": "71ab0da0",
   "metadata": {},
   "outputs": [
    {
     "name": "stdout",
     "output_type": "stream",
     "text": [
      "54321\n"
     ]
    }
   ],
   "source": [
    "# create number using digits\n",
    "digits = [1,2,3,4,5]\n",
    "number = 0\n",
    "for i in digits[::-1]:\n",
    "    number = number*10 + i\n",
    "\n",
    "print(number)"
   ]
  }
 ],
 "metadata": {
  "kernelspec": {
   "display_name": "Python 3",
   "language": "python",
   "name": "python3"
  },
  "language_info": {
   "codemirror_mode": {
    "name": "ipython",
    "version": 3
   },
   "file_extension": ".py",
   "mimetype": "text/x-python",
   "name": "python",
   "nbconvert_exporter": "python",
   "pygments_lexer": "ipython3",
   "version": "3.12.6"
  }
 },
 "nbformat": 4,
 "nbformat_minor": 5
}
