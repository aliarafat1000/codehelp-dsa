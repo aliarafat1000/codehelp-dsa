{
 "cells": [
  {
   "cell_type": "markdown",
   "id": "2b88001b",
   "metadata": {},
   "source": [
    "### 1. Bubble Sort"
   ]
  },
  {
   "cell_type": "code",
   "execution_count": null,
   "id": "117029b5",
   "metadata": {},
   "outputs": [
    {
     "name": "stdout",
     "output_type": "stream",
     "text": [
      "[4, 5, 3, 2, 1]\n",
      "[4, 3, 5, 2, 1]\n",
      "[4, 3, 2, 5, 1]\n",
      "[4, 3, 2, 1, 5]\n",
      "[3, 4, 2, 1, 5]\n",
      "[3, 2, 4, 1, 5]\n",
      "[3, 2, 1, 4, 5]\n",
      "[2, 3, 1, 4, 5]\n",
      "[2, 1, 3, 4, 5]\n",
      "[1, 2, 3, 4, 5]\n",
      "[1, 2, 3, 4, 5]\n"
     ]
    }
   ],
   "source": [
    "# Swap adjacent, will put largest element at last, so for next element, second highest, run loop till previous-1 times\n",
    "\n",
    "nums = [5, 4, 3, 2, 1]\n",
    "N = len(nums)\n",
    " \n",
    "for i in range(0,N):\n",
    "    for j in range(0,N-1-i):\n",
    "        if nums[j+1] < nums[j]:\n",
    "            nums[j+1], nums[j] = nums[j], nums[j+1]\n",
    "        print(nums)\n",
    "\n",
    "print(nums)"
   ]
  },
  {
   "cell_type": "markdown",
   "id": "bf74a1c1",
   "metadata": {},
   "source": [
    "### 2. Selection sort"
   ]
  },
  {
   "cell_type": "code",
   "execution_count": 23,
   "id": "4ae0830c",
   "metadata": {},
   "outputs": [
    {
     "name": "stdout",
     "output_type": "stream",
     "text": [
      "0 4 4 [1, 4, 3, 2, 5]\n",
      "1 4 3 [1, 2, 3, 4, 5]\n",
      "2 4 2 [1, 2, 3, 4, 5]\n",
      "3 4 3 [1, 2, 3, 4, 5]\n",
      "4 4 4 [1, 2, 3, 4, 5]\n",
      "[1, 2, 3, 4, 5]\n"
     ]
    }
   ],
   "source": [
    "# Selection sort is find smallest element and put it in the front. Find smallest in shrinking array\n",
    "nums = [5, 4, 3, 2, 1]\n",
    "N = len(nums)\n",
    "min_index = 0\n",
    "\n",
    "for i in range(0,N):\n",
    "    # print(i, nums)\n",
    "    min_index = i\n",
    "    for j in range(i,N):\n",
    "        if nums[min_index] > nums[j]:\n",
    "            min_index = j\n",
    "    nums[i], nums[min_index] = nums[min_index], nums[i]\n",
    "    \n",
    "    print(i, j, min_index, nums)\n",
    "\n",
    "print(nums)"
   ]
  },
  {
   "cell_type": "markdown",
   "id": "c925254e",
   "metadata": {},
   "source": [
    "### 3. Insertion Sort"
   ]
  },
  {
   "cell_type": "code",
   "execution_count": 69,
   "id": "2353961a",
   "metadata": {},
   "outputs": [
    {
     "name": "stdout",
     "output_type": "stream",
     "text": [
      "[4, 5, 6, 2, 9]\n",
      "[4, 5, 6, 2, 9]\n",
      "[2, 4, 5, 6, 9]\n",
      "[2, 4, 5, 6, 9]\n",
      "[2, 4, 5, 6, 9]\n"
     ]
    }
   ],
   "source": [
    "nums = [5, 4, 6, 2, 9]\n",
    "N = len(nums)\n",
    "target_index = 1\n",
    "temp_store = 1\n",
    "# Start from second index\n",
    "# For second index, check previous element is big or not, go till the end to find smaller element.\n",
    "# If find smaller element stop\n",
    "# If not find smaller element, go to the end\n",
    "# Store the element in question\n",
    "# Shift sub array before it forward\n",
    "# Put stored element in front or one position less than the smallest element\n",
    "\n",
    "for i in range(1,N):\n",
    "\n",
    "    for j in range(i-1, -1, -1):\n",
    "        # print(nums[j], end='')\n",
    "        if nums[i] < nums[j]:\n",
    "            target_index = j\n",
    "\n",
    "    temp_store = nums[i]\n",
    "    # print('temp_store', temp_store)\n",
    "    # print(nums)\n",
    "    for j in range(i-1, target_index - 1, -1): # mind this condition. It is reverse, so target_index - 1 will work\n",
    "        nums[j], nums[j+1] = nums[j+1], nums[j]\n",
    "        # print(nums)\n",
    "\n",
    "    nums[target_index] = temp_store\n",
    "\n",
    "    # print('')\n",
    "    print(nums)\n",
    "    target_index = i + 1\n",
    "\n",
    "\n",
    "print(nums)"
   ]
  },
  {
   "cell_type": "markdown",
   "id": "d329899b",
   "metadata": {},
   "source": [
    "### 4. Custom Comparitor"
   ]
  },
  {
   "cell_type": "code",
   "execution_count": null,
   "id": "20c6ab7a",
   "metadata": {},
   "outputs": [],
   "source": [
    "### C++ comparitor, \n",
    "### have to find equivalent python library. like .sort()"
   ]
  }
 ],
 "metadata": {
  "kernelspec": {
   "display_name": "Python 3",
   "language": "python",
   "name": "python3"
  },
  "language_info": {
   "codemirror_mode": {
    "name": "ipython",
    "version": 3
   },
   "file_extension": ".py",
   "mimetype": "text/x-python",
   "name": "python",
   "nbconvert_exporter": "python",
   "pygments_lexer": "ipython3",
   "version": "3.12.6"
  }
 },
 "nbformat": 4,
 "nbformat_minor": 5
}
