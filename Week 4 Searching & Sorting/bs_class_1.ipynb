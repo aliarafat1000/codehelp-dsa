{
 "cells": [
  {
   "cell_type": "markdown",
   "id": "10773d89",
   "metadata": {},
   "source": [
    "### Find first occurence. Binary Search."
   ]
  },
  {
   "cell_type": "code",
   "execution_count": 12,
   "id": "8561a438",
   "metadata": {},
   "outputs": [
    {
     "name": "stdout",
     "output_type": "stream",
     "text": [
      "2\n"
     ]
    }
   ],
   "source": [
    "l = [10, 20, 20, 30, 30, 50, 70, 70]\n",
    "target = 20\n",
    "\n",
    "# Store and compute\n",
    "temp_ans = 0\n",
    "start = 0\n",
    "end = len(l) - 1\n",
    "mid = 0\n",
    "while (start <= end):\n",
    "    mid = int( start + (end - start)/2 )\n",
    "\n",
    "    if ( target == l[mid] ):\n",
    "        temp_ans = mid\n",
    "        start = mid + 1\n",
    "    elif ( target > l[mid] ):\n",
    "        start = mid + 1\n",
    "    else:\n",
    "        end = mid - 1\n",
    "\n",
    "print(temp_ans)"
   ]
  },
  {
   "cell_type": "markdown",
   "id": "a49b5691",
   "metadata": {},
   "source": [
    "### Find total occurences"
   ]
  },
  {
   "cell_type": "code",
   "execution_count": 19,
   "id": "ecb3e00f",
   "metadata": {},
   "outputs": [
    {
     "name": "stdout",
     "output_type": "stream",
     "text": [
      "4\n"
     ]
    }
   ],
   "source": [
    "nums = [10, 20, 20, 20, 20, 50, 70, 70]\n",
    "target = 20\n",
    "\n",
    "# Store and compute\n",
    "first_ans = -1\n",
    "last_ans = -1\n",
    "\n",
    "start = 0\n",
    "end = len(nums) - 1\n",
    "mid = 0\n",
    "while (start <= end):\n",
    "    mid = int( start + (end - start)/2 )\n",
    "    if ( target == nums[mid] ):\n",
    "        last_ans = mid\n",
    "        start = mid + 1\n",
    "    elif ( target > nums[mid] ):\n",
    "        start = mid + 1\n",
    "    else:\n",
    "        end = mid - 1\n",
    "start = 0\n",
    "end = len(nums) - 1\n",
    "mid = 0\n",
    "\n",
    "while (start <= end):\n",
    "    mid = int( start + (end - start)/2 )\n",
    "    if ( target == nums[mid] ):\n",
    "        first_ans = mid\n",
    "        end = mid -1\n",
    "    elif ( target > nums[mid] ):\n",
    "        start = mid + 1\n",
    "    else:\n",
    "        end = mid - 1\n",
    "\n",
    "print(last_ans - first_ans + 1)"
   ]
  },
  {
   "cell_type": "markdown",
   "id": "daea6b9f",
   "metadata": {},
   "source": [
    "### Find missing number."
   ]
  },
  {
   "cell_type": "code",
   "execution_count": 27,
   "id": "dc5b6c8d",
   "metadata": {},
   "outputs": [
    {
     "name": "stdout",
     "output_type": "stream",
     "text": [
      "3\n"
     ]
    }
   ],
   "source": [
    "nums = [2, 0 ,1]\n",
    "# nums = [0,1]\n",
    "nums.sort()\n",
    "# store and compute\n",
    "ans1 = 0\n",
    "ans2 = 0\n",
    "start = 0\n",
    "end = len(nums) - 1\n",
    "\n",
    "while (start <= end):\n",
    "    mid = int ( start + (end - start)/ 2)\n",
    "\n",
    "    if nums[mid] > mid:\n",
    "        ans1 = nums[mid]\n",
    "        ans2 = mid\n",
    "        end = mid - 1\n",
    "    else:\n",
    "        start = mid + 1\n",
    "        ans2 = mid + 1\n",
    "\n",
    "print(ans2)\n",
    "\n"
   ]
  }
 ],
 "metadata": {
  "kernelspec": {
   "display_name": "Python 3",
   "language": "python",
   "name": "python3"
  },
  "language_info": {
   "codemirror_mode": {
    "name": "ipython",
    "version": 3
   },
   "file_extension": ".py",
   "mimetype": "text/x-python",
   "name": "python",
   "nbconvert_exporter": "python",
   "pygments_lexer": "ipython3",
   "version": "3.12.6"
  }
 },
 "nbformat": 4,
 "nbformat_minor": 5
}
