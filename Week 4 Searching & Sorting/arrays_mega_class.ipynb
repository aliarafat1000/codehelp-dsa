{
 "cells": [
  {
   "cell_type": "code",
   "execution_count": 47,
   "id": "9eb5c622",
   "metadata": {},
   "outputs": [
    {
     "name": "stdout",
     "output_type": "stream",
     "text": [
      "[[1 2 3]\n",
      " [4 5 6]\n",
      " [7 8 9]]\n"
     ]
    }
   ],
   "source": [
    "import numpy as np\n",
    "nums = np.arange(1,10).reshape(3,3)\n",
    "print(nums)"
   ]
  },
  {
   "cell_type": "markdown",
   "id": "de900c42",
   "metadata": {},
   "source": [
    "### Rotating 2D Arrays"
   ]
  },
  {
   "cell_type": "code",
   "execution_count": 62,
   "id": "5705e16c",
   "metadata": {},
   "outputs": [
    {
     "name": "stdout",
     "output_type": "stream",
     "text": [
      "5 1 9 11 \n",
      "2 4 8 10 \n",
      "13 3 6 7 \n",
      "15 14 12 16 \n",
      "\n",
      "5 2 9 11 \n",
      "1 4 8 10 \n",
      "13 3 6 7 \n",
      "15 14 12 16 \n",
      "\n",
      "5 2 9 11 \n",
      "1 4 8 14 \n",
      "13 3 6 7 \n",
      "15 10 12 16 \n",
      "\n",
      "5 2 13 11 \n",
      "1 4 8 14 \n",
      "9 3 6 7 \n",
      "15 10 12 16 \n",
      "\n",
      "5 2 13 11 \n",
      "1 4 8 10 \n",
      "9 3 6 7 \n",
      "15 14 12 16 \n",
      "\n",
      "5 2 13 11 \n",
      "1 4 8 10 \n",
      "9 3 6 12 \n",
      "15 14 7 16 \n",
      "\n",
      "5 2 13 15 \n",
      "1 4 8 10 \n",
      "9 3 6 12 \n",
      "11 14 7 16 \n",
      "\n",
      "5 2 13 15 \n",
      "1 4 8 14 \n",
      "9 3 6 12 \n",
      "11 10 7 16 \n",
      "\n",
      "5 2 13 15 \n",
      "1 4 8 14 \n",
      "9 3 6 7 \n",
      "11 10 12 16 \n",
      "\n",
      "5 2 13 15 \n",
      "1 4 8 14 \n",
      "9 3 6 7 \n",
      "11 10 12 16 \n",
      "\n",
      "==================================================\n",
      "[5, 2, 13, 15]\n",
      "----------------------------------------------------------------------------------------------------\n",
      "[1, 4, 8, 14]\n",
      "----------------------------------------------------------------------------------------------------\n",
      "[9, 3, 6, 7]\n",
      "----------------------------------------------------------------------------------------------------\n",
      "[11, 10, 12, 16]\n",
      "----------------------------------------------------------------------------------------------------\n",
      "[[15, 13, 2, 5], [14, 8, 4, 1], [7, 6, 3, 9], [16, 12, 10, 11]]\n"
     ]
    }
   ],
   "source": [
    "nums = [[5,1,9,11],[2,4,8,10],[13,3,6,7],[15,14,12,16]]\n",
    "\n",
    "for i in range(0,len(nums)):\n",
    "    for j in range(0,i+1):\n",
    "        # print(nums[i][j])\n",
    "        nums[i][j], nums[j][i] = nums[j][i], nums[i][j]\n",
    "        \n",
    "        for i in range(0,len(nums)):\n",
    "            for j in range(0,len(nums[0])):\n",
    "                print(nums[i][j], end=' ')\n",
    "            print('')\n",
    "        print('')\n",
    "\n",
    "i, j, k = 0, len(nums[0]) - 1, 0\n",
    "print('='*50)\n",
    "\n",
    "for rows in nums:\n",
    "    print(rows)\n",
    "    print('-'*100)\n",
    "\n",
    "for rows in nums:\n",
    "    rows.reverse()\n",
    "    \n",
    "\n",
    "# while (i <= j):\n",
    "#     nums[k][i], nums[k][j] = nums[k][j], nums[k][i]\n",
    "#     k += 1\n",
    "#     if k > len(nums) - 1:\n",
    "#         k = 0\n",
    "#         i += 1\n",
    "#         j -= 1\n",
    "    \n",
    "#     for a in range(0,len(nums)):\n",
    "#             for b in range(0,len(nums[0])):\n",
    "#                 print(nums[a][b], end=' ')\n",
    "#             print('')\n",
    "#     print('')\n",
    "    \n",
    "\n",
    "print(nums)"
   ]
  },
  {
   "cell_type": "markdown",
   "id": "8d15a2ab",
   "metadata": {},
   "source": [
    "### Maximum Sub Array, Kdane's algorithm"
   ]
  },
  {
   "cell_type": "code",
   "execution_count": 69,
   "id": "009c2b45",
   "metadata": {},
   "outputs": [
    {
     "name": "stdout",
     "output_type": "stream",
     "text": [
      "-1 is temp_sum for start point at -1\n",
      "-1\n"
     ]
    }
   ],
   "source": [
    "# nums = [-2,1,-3,4,-1,2,1,-5,4]\n",
    "nums = [-1]\n",
    "\n",
    "max_sum = nums[0]\n",
    "temp_sum = 0\n",
    "for i in range(0,len(nums)):\n",
    "    for j in range(i,len(nums)):\n",
    "        temp_sum += nums[j]\n",
    "        print(f'{temp_sum} is temp_sum for start point at {nums[i]}')\n",
    "        if temp_sum > max_sum:\n",
    "            max_sum = temp_sum\n",
    "            print(f'{max_sum} is max sum')\n",
    "    temp_sum = 0\n",
    "print( max_sum)"
   ]
  },
  {
   "cell_type": "code",
   "execution_count": 80,
   "id": "11ef7352",
   "metadata": {},
   "outputs": [
    {
     "name": "stdout",
     "output_type": "stream",
     "text": [
      "6\n"
     ]
    }
   ],
   "source": [
    "# USING KDANE'S ALGORITHM\n",
    "temp_sum = 0\n",
    "max_sum = nums[0]\n",
    "nums = [1,2,3]\n",
    "for elements in nums:\n",
    "            temp_sum += elements\n",
    "            # print(temp_sum, 'this is temp sum', elements)\n",
    "            if temp_sum < 0:\n",
    "                temp_sum = 0\n",
    "            elif temp_sum > max_sum:\n",
    "                max_sum = temp_sum\n",
    "                # print(max_sum)\n",
    "print(max_sum)"
   ]
  }
 ],
 "metadata": {
  "kernelspec": {
   "display_name": "Python 3",
   "language": "python",
   "name": "python3"
  },
  "language_info": {
   "codemirror_mode": {
    "name": "ipython",
    "version": 3
   },
   "file_extension": ".py",
   "mimetype": "text/x-python",
   "name": "python",
   "nbconvert_exporter": "python",
   "pygments_lexer": "ipython3",
   "version": "3.12.6"
  }
 },
 "nbformat": 4,
 "nbformat_minor": 5
}
