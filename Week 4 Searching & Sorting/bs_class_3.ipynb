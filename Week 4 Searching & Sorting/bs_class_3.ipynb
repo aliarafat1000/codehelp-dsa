{
 "cells": [
  {
   "cell_type": "markdown",
   "id": "ebf3cb14",
   "metadata": {},
   "source": [
    "### Give quotient without using \" / \" or \" % \" operator."
   ]
  },
  {
   "cell_type": "code",
   "execution_count": null,
   "id": "7be803b7",
   "metadata": {},
   "outputs": [
    {
     "name": "stdout",
     "output_type": "stream",
     "text": [
      "2147483648\n"
     ]
    }
   ],
   "source": [
    "\"\"\"\n",
    "Easy\n",
    "\"\"\"\n",
    "\n",
    "dividend = -2147483648\n",
    "divisor = -1\n",
    "temp_ans = 0\n",
    "\n",
    "start = 0\n",
    "end = abs(dividend)\n",
    "\n",
    "\n",
    "\n",
    "while (start <= end):\n",
    "    # Use operator precedence when using shift, using left shift to divide by two, since question asked not to use '/'\n",
    "    mid = int(start + ((end - start)>>1))\n",
    "\n",
    "    if abs(divisor) * mid <= abs(dividend):\n",
    "        temp_ans = mid\n",
    "        start = mid + 1\n",
    "    else:\n",
    "        end = mid - 1\n",
    "\n",
    "\n",
    "if divisor < 0 or dividend < 0:\n",
    "    temp_ans *= -1\n",
    "if divisor < 0 and dividend < 0:\n",
    "    temp_ans = abs(temp_ans)\n",
    "\n",
    "\n",
    "\n",
    "    \n",
    "# on leetcode, there are edge cases like dividen being -ve, both being -ve and number overflowing, int_min to int_max\n",
    "# int_max = 2 ^ 31 - 1, int_min = 2 ^ 31, so need to handle when dividend in int_min and divisor is int_max\n",
    "        # if divisor < 0 or dividend < 0:\n",
    "        #     temp_ans *= -1\n",
    "        # if divisor < 0 and dividend < 0:\n",
    "        #     temp_ans = abs(temp_ans)\n",
    "        # if temp_ans > 2**31 - 1:\n",
    "        #     temp_ans -= 1\n",
    "        # return temp_ans\n",
    "        \n",
    "\n",
    "print(temp_ans)"
   ]
  },
  {
   "cell_type": "markdown",
   "id": "1fbfed95",
   "metadata": {},
   "source": [
    "### Search in a nearly/almost sorted array"
   ]
  },
  {
   "cell_type": "code",
   "execution_count": 11,
   "id": "b12e4d78",
   "metadata": {},
   "outputs": [
    {
     "name": "stdout",
     "output_type": "stream",
     "text": [
      "6\n"
     ]
    }
   ],
   "source": [
    "nums = [3, 10, 20, 40, 50, 70, 80] # Sorted array\n",
    "nums = [10, 3, 40, 20, 50, 80, 70] # Nearly sorted array, the element that should be at i index, can be found at i - 1, i or i + 1\n",
    "target = 70\n",
    "\n",
    "start = 0\n",
    "end = len(nums) - 1\n",
    "ans = 0\n",
    "\n",
    "while ( start <= end ):\n",
    "    mid = start + ( end - start ) // 2\n",
    "\n",
    "    if (target == nums[mid]):\n",
    "        ans = mid\n",
    "        break\n",
    "    if (mid - 1 >= 0):\n",
    "        if target == nums[mid - 1]:\n",
    "            ans = mid - 1\n",
    "            break\n",
    "    if (mid + 1 < len(nums) ):\n",
    "        if target == nums[mid + 1]:\n",
    "            ans = mid + 1\n",
    "            break\n",
    "\n",
    "    if target > nums[mid]:\n",
    "        start = mid + 2\n",
    "    else:\n",
    "        end = mid - 2\n",
    "\n",
    "\n",
    "print(ans)\n"
   ]
  },
  {
   "cell_type": "markdown",
   "id": "22e80649",
   "metadata": {},
   "source": [
    "### Odd occuring elements"
   ]
  },
  {
   "cell_type": "code",
   "execution_count": null,
   "id": "7e0017b8",
   "metadata": {},
   "outputs": [
    {
     "name": "stdout",
     "output_type": "stream",
     "text": [
      "5\n",
      " The dupliacte number: 10 at index: 4\n"
     ]
    }
   ],
   "source": [
    "\"\"\" \n",
    "All element occur at even number of times except one,\n",
    "Elements repeat itself in pair\n",
    "No pair repeats itself, no number can occur more than 2 times in a single stretch\n",
    "Find the element that occur odd times. \n",
    "\"\"\"\n",
    "\n",
    "nums = [1, 1, 2, 2, 3, 3, 4, 5, 5, 3, 3]\n",
    "nums = [1, 2, 2, 3, 3]\n",
    "nums = [1, 1, 2]\n",
    "nums = [3,3,7,7,10,11,11]\n",
    "\n",
    "# O(n) solution with xor operator se ho jayega\n",
    "# But for O(logn) main kaise hoga ? BS\n",
    "\n",
    "# array is not sorted, but if i focus on indexes, after odd number has occured that pair starts at an odd index\n",
    "\n",
    "# mind the edge cases we can run into, and how to use caution and reprimand them\n",
    "\n",
    "start = 0\n",
    "end = len(nums) - 1\n",
    "\n",
    "while (start <= end):\n",
    "\n",
    "    mid = start + (end - start)//2\n",
    "\n",
    "    if mid&1 == 1:\n",
    "        if nums[mid - 1] == nums[mid]:\n",
    "            start = mid + 1\n",
    "        elif nums[mid + 1] == nums[mid]:\n",
    "                end = mid - 1\n",
    "        else:\n",
    "            print(f' The dupliacte number: {nums[mid]} at index: {mid}')\n",
    "            break\n",
    "    else:\n",
    "        # if mid + 1 < len(nums):\n",
    "        print(mid+1)\n",
    "        if  mid + 1 < len(nums) and nums[mid + 1] == nums[mid]:\n",
    "            start = mid + 1\n",
    "            print(mid)\n",
    "        elif nums[mid] == nums[mid - 1] and mid - 1 >= 0:\n",
    "            end = mid - 1\n",
    "            # print(\"c\")\n",
    "        else:\n",
    "            print(f' The dupliacte number: {nums[mid]} at index: {mid}')\n",
    "            break\n",
    "\n",
    "return -1\n",
    "\n",
    "        "
   ]
  }
 ],
 "metadata": {
  "kernelspec": {
   "display_name": "Python 3",
   "language": "python",
   "name": "python3"
  },
  "language_info": {
   "codemirror_mode": {
    "name": "ipython",
    "version": 3
   },
   "file_extension": ".py",
   "mimetype": "text/x-python",
   "name": "python",
   "nbconvert_exporter": "python",
   "pygments_lexer": "ipython3",
   "version": "3.12.6"
  }
 },
 "nbformat": 4,
 "nbformat_minor": 5
}
