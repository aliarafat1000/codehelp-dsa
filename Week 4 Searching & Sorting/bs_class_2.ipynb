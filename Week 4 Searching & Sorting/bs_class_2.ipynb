{
 "cells": [
  {
   "cell_type": "markdown",
   "id": "58e5d0d8",
   "metadata": {},
   "source": [
    "### New Binary Search patters, like bs in 2D arrays, and end = mid is used"
   ]
  },
  {
   "cell_type": "markdown",
   "id": "34f288a3",
   "metadata": {},
   "source": [
    "### 1. Find peak element"
   ]
  },
  {
   "cell_type": "code",
   "execution_count": 7,
   "id": "641f8754",
   "metadata": {},
   "outputs": [
    {
     "name": "stdout",
     "output_type": "stream",
     "text": [
      "70\n"
     ]
    }
   ],
   "source": [
    "# Find peak element\n",
    "nums = [10,20,70,60,50,30,15,5]\n",
    "peak = nums[0]\n",
    "\n",
    "if len(nums) == 1:\n",
    "    print(nums[0])\n",
    "\n",
    "start = 0\n",
    "end = len(nums) - 1\n",
    "\n",
    "while ( start <= end ):\n",
    "    mid = int( start + (end - start) / 2 )\n",
    "\n",
    "    if mid - 1 >= 0 and mid + 1 < len(nums):\n",
    "\n",
    "        if nums[mid] > nums[mid - 1] and nums[mid] > nums[mid + 1]:\n",
    "            print(nums[mid])\n",
    "            break\n",
    "        elif nums[mid] > nums[mid - 1] and nums[mid] < nums[mid + 1]:\n",
    "            start = mid + 1\n",
    "        elif nums[mid] < nums[mid - 1] and nums[mid] > nums[mid + 1]:\n",
    "            end = mid - 1\n",
    "    else:\n",
    "        if nums[mid] > nums[mid + 1]:\n",
    "            print(nums[mid])\n",
    "            break\n",
    "        else:\n",
    "            print(nums[mid+1])\n",
    "            break\n",
    "    # elif mid == len(nums) - 1:\n",
    "    #     if nums[mid] > nums[mid - 1]:\n",
    "    #         print(nums[mid])\n",
    "    #         break\n",
    "    #     else:\n",
    "    #         print(nums[mid-1])\n",
    "    #         break\n",
    "\n",
    "\n",
    "    \n"
   ]
  },
  {
   "cell_type": "markdown",
   "id": "58041ec1",
   "metadata": {},
   "source": [
    "### 2. Search in Rotated Sorted Array"
   ]
  },
  {
   "cell_type": "code",
   "execution_count": 16,
   "id": "0ca5e92f",
   "metadata": {},
   "outputs": [
    {
     "name": "stdout",
     "output_type": "stream",
     "text": [
      "0\n"
     ]
    }
   ],
   "source": [
    "# nums = [4,5,6,7,0,1,2]\n",
    "nums = [1,3,5]\n",
    "target = 1\n",
    "\n",
    "def pivot_element(nums: list[int]) -> int:\n",
    "    start = 0\n",
    "    end = len(nums) - 1\n",
    "    # mid = int( ( start + end )/2)\n",
    "\n",
    "    if len(nums) == 1:\n",
    "        return 0\n",
    "    elif len(nums) == 2:\n",
    "        return 0 if nums[0] < nums[1] else 1\n",
    "    elif nums[0] < nums[len(nums) - 1]:\n",
    "        return 0\n",
    "    \n",
    "    while(start <= end):\n",
    "        mid = int( start + (end - start)/2)\n",
    "        if nums[mid] > nums[mid + 1]:\n",
    "            return mid + 1\n",
    "        \n",
    "\n",
    "        if nums[mid] < nums[len(nums) - 1]:\n",
    "            end = mid - 1\n",
    "        else:\n",
    "            start = mid + 1\n",
    "\n",
    "\n",
    "\n",
    "def binary_search(nums: list[int], target: int, pivot: int) -> int:\n",
    "    start, end = 0, 0\n",
    "    if target > nums[len(nums) - 1]:\n",
    "        start = 0\n",
    "        end = pivot - 1\n",
    "    else:\n",
    "        start = pivot\n",
    "        end = len(nums) - 1\n",
    "\n",
    "    while (start <= end):\n",
    "\n",
    "        mid = int(start + (end - start)/2)\n",
    "\n",
    "        if target == nums[mid]:\n",
    "            return mid\n",
    "        elif target > nums[mid]:\n",
    "            start = mid + 1\n",
    "        else:\n",
    "            end = mid - 1\n",
    "\n",
    "    \n",
    "    return -1\n",
    "\n",
    "\n",
    "print(binary_search(nums, target, pivot_element(nums)))\n",
    "\n"
   ]
  },
  {
   "cell_type": "markdown",
   "id": "fa5b1595",
   "metadata": {},
   "source": [
    "### Search Space Pattern "
   ]
  },
  {
   "cell_type": "code",
   "execution_count": 60,
   "id": "6e6ea08d",
   "metadata": {},
   "outputs": [
    {
     "name": "stdout",
     "output_type": "stream",
     "text": [
      "7.34326171875\n"
     ]
    }
   ],
   "source": [
    "num = 54\n",
    "start, end = 0, num\n",
    "ans = 0\n",
    "\n",
    "while (end - start > 0.01):\n",
    "    mid = start + (end - start)/2.0\n",
    "\n",
    "    # if mid*mid == num:\n",
    "    #     ans = mid\n",
    "    #     break\n",
    "    # if mid*mid > num:\n",
    "    #     end = mid - 1\n",
    "    # else:\n",
    "    #     start = mid + 1\n",
    "    #     ans = mid\n",
    "\n",
    "    if mid * mid < num:\n",
    "        ans = mid\n",
    "        start = mid \n",
    "    else:\n",
    "        end = mid\n",
    "\n",
    "print(ans)\n",
    "\n",
    "\n",
    "\n",
    "# decimals = 5\n",
    "# back_part = 0.1\n",
    "# temp_ans = float(ans)\n",
    "# num = float(num)\n",
    "# # counter =\n",
    "\n",
    "# # temp = ans + back_part\n",
    "\n",
    "\n",
    "# while (decimals > 0):\n",
    "#     temp_ans = round(temp_ans + back_part,10)\n",
    "    \n",
    "#     if temp_ans * temp_ans < num:\n",
    "#         pass\n",
    "#     else:\n",
    "#         temp_ans = round(temp_ans - back_part,10)\n",
    "#         back_part *= 0.1\n",
    "#         decimals -= 1\n",
    "\n",
    "\n",
    "# print(temp_ans)\n",
    "    "
   ]
  },
  {
   "cell_type": "markdown",
   "id": "c85c2621",
   "metadata": {},
   "source": [
    "### search in 2d matrix bs"
   ]
  },
  {
   "cell_type": "code",
   "execution_count": null,
   "id": "299bcd12",
   "metadata": {},
   "outputs": [],
   "source": [
    "class Solution:\n",
    "    def searchMatrix(self, matrix: List[List[int]], target: int) -> bool:\n",
    "        r = len(matrix)\n",
    "        c = len(matrix[0])\n",
    "        n = r * c\n",
    "\n",
    "        start = 0\n",
    "        end = n - 1\n",
    "        # mid = int(start + (end - start)/2)\n",
    "        \n",
    "        while (start <= end):\n",
    "            mid = start + (end - start)//2\n",
    "            if target == matrix[mid//c][mid%c]:\n",
    "                return True\n",
    "            elif target > matrix[mid//c][mid%c]:\n",
    "                start = mid + 1\n",
    "            else:\n",
    "                end = mid - 1\n",
    "\n",
    "        return False\n",
    "        "
   ]
  }
 ],
 "metadata": {
  "kernelspec": {
   "display_name": "Python 3",
   "language": "python",
   "name": "python3"
  },
  "language_info": {
   "codemirror_mode": {
    "name": "ipython",
    "version": 3
   },
   "file_extension": ".py",
   "mimetype": "text/x-python",
   "name": "python",
   "nbconvert_exporter": "python",
   "pygments_lexer": "ipython3",
   "version": "3.12.6"
  }
 },
 "nbformat": 4,
 "nbformat_minor": 5
}
