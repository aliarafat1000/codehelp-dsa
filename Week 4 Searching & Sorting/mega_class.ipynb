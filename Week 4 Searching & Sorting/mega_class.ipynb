{
 "cells": [
  {
   "cell_type": "markdown",
   "id": "667a5c61",
   "metadata": {},
   "source": [
    "### 1. SQRT BS with precision"
   ]
  },
  {
   "cell_type": "code",
   "execution_count": 37,
   "id": "b0a581b5",
   "metadata": {},
   "outputs": [
    {
     "name": "stdout",
     "output_type": "stream",
     "text": [
      "\n",
      "Ans: 7.9372539331\n"
     ]
    }
   ],
   "source": [
    "\"\"\"\n",
    "Think about this. Problem is getting precision. Remove flood division in mid, when end and start gets closer, \n",
    "in decimal places, if they are greater than 0.001, 3 precision, they will continue to search for ans. Now mid might\n",
    "have more decimals due to devision, but they can be ignored and only wanted one can be printed below. Since precision,\n",
    "is maintained untill end and start difference in 0.001 or lower. \n",
    "\"\"\"\n",
    "\n",
    "\n",
    "num = 63\n",
    "ans = 0\n",
    "start = 0\n",
    "end = num\n",
    "precision = 10\n",
    "condition = 10 ** -precision\n",
    "increment = condition * condition\n",
    "\n",
    "while ( end - start > condition ):\n",
    "    mid = start + ( end - start )/2 \n",
    "    # print(f'{'Start':<{20}} {'Mid':<{20}} {'End':<{20}} {'Difference':<{20}}')\n",
    "    # print(f'{start:<{20}} {mid:<{20}} {end:<{20}} {end - start:<{20}}')\n",
    "\n",
    "\n",
    "    if mid * mid < num:\n",
    "        ans = mid\n",
    "        start = mid + increment # you can use start = mid, and end = mid will also work because floating is not precise to begin with\n",
    "    else:\n",
    "        end = mid - increment\n",
    "\n",
    "print(f'\\nAns: {ans:.{precision}f}')"
   ]
  },
  {
   "cell_type": "markdown",
   "id": "bd47f8a6",
   "metadata": {},
   "source": [
    "### 2. Koko eating bananas. Leetcode 875."
   ]
  },
  {
   "cell_type": "code",
   "execution_count": null,
   "id": "5f08fefe",
   "metadata": {},
   "outputs": [
    {
     "name": "stdout",
     "output_type": "stream",
     "text": [
      "62576894\n"
     ]
    }
   ],
   "source": [
    "piles = [312884470]\n",
    "h = 5\n",
    "# kidn of like a predicate.\n",
    "# space [0,11]\n",
    "\n",
    "start = 0\n",
    "end = 968709470\n",
    "ans = 0\n",
    "\n",
    "# predicate function\n",
    "def koko_failed(piles: list[int], mid: int, h: int) -> bool:\n",
    "\n",
    "    total_time = 0\n",
    "\n",
    "    for pile in piles:\n",
    "        total_time += -(-pile // mid)\n",
    "\n",
    "    # print('total time',total_time)\n",
    "    # print(total_time)\n",
    "    if total_time > h:\n",
    "        # print('c')\n",
    "        return True\n",
    "    else:\n",
    "        # print(\"h\")\n",
    "        return False\n",
    "\n",
    "while ( start <= end ):\n",
    "    mid = start + ( end - start )//2\n",
    "    # print(mid)\n",
    "\n",
    "    if koko_failed(piles, mid, h):\n",
    "        start = mid + 1\n",
    "    else:\n",
    "        end = mid - 1\n",
    "        ans = mid\n",
    "    # print(f'start {start} end {end}')\n",
    "print(ans)\n"
   ]
  },
  {
   "cell_type": "markdown",
   "id": "87915f76",
   "metadata": {},
   "source": [
    "### 3. Minimum Number of Days to Make m Bouquets Leetcode - 1482"
   ]
  },
  {
   "cell_type": "code",
   "execution_count": 76,
   "id": "1389577a",
   "metadata": {},
   "outputs": [
    {
     "name": "stdout",
     "output_type": "stream",
     "text": [
      "mid 5\n",
      "temp ans -1\n",
      "mid 8\n",
      "temp ans -1\n",
      "mid 9\n",
      "temp ans -1\n",
      "mid 10\n",
      "temp ans -1\n",
      "-1\n"
     ]
    }
   ],
   "source": [
    "bloomDay = [1,10,3,10,2]\n",
    "m = 3\n",
    "k = 2\n",
    "start = min(bloomDay)\n",
    "end = max(bloomDay)\n",
    "ans = -1\n",
    "\n",
    "def bouquets_possible(bloomDay: list[int], m: int, k:int, days: int) -> bool:\n",
    "    \n",
    "    if len(bloomDay) < m*k:\n",
    "        # return('stupid')\n",
    "        return False\n",
    "    \n",
    "    for i in range(0,len(bloomDay)):\n",
    "        bloomDay[i] = bloomDay[i] // (days + 1)\n",
    "        \n",
    "\n",
    "    print(bloomDay)\n",
    "    c = 0\n",
    "# [0, 2, 0, 2, 0]\n",
    "\n",
    "    for bloomed in bloomDay:\n",
    "        if bloomed == 0:\n",
    "            c += 1\n",
    "        else:\n",
    "            c = 0\n",
    "        if c == k:\n",
    "            m -= 1\n",
    "            c = 0\n",
    "        if m == 0:\n",
    "            return True\n",
    "        print(f'm {m}')\n",
    "        \n",
    "    return False\n",
    "\n",
    "\n",
    "while (start <= end):\n",
    "\n",
    "    mid = start + (end - start)//2\n",
    "    print(f'mid {mid}')\n",
    "\n",
    "    if bouquets_possible(bloomDay.copy(), m, k, mid):\n",
    "        end = mid - 1\n",
    "        ans = mid\n",
    "    else:\n",
    "        start = mid + 1\n",
    "\n",
    "    print(f'temp ans {ans}')\n",
    "\n",
    "print(ans)"
   ]
  }
 ],
 "metadata": {
  "kernelspec": {
   "display_name": "Python 3",
   "language": "python",
   "name": "python3"
  },
  "language_info": {
   "codemirror_mode": {
    "name": "ipython",
    "version": 3
   },
   "file_extension": ".py",
   "mimetype": "text/x-python",
   "name": "python",
   "nbconvert_exporter": "python",
   "pygments_lexer": "ipython3",
   "version": "3.12.6"
  }
 },
 "nbformat": 4,
 "nbformat_minor": 5
}
