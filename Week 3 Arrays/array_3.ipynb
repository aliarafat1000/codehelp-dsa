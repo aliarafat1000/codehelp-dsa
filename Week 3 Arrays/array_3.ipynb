{
 "cells": [
  {
   "cell_type": "code",
   "execution_count": 2,
   "id": "cc178632",
   "metadata": {},
   "outputs": [],
   "source": [
    "import numpy as np\n",
    "# for vector stimulation we can use list in python"
   ]
  },
  {
   "cell_type": "code",
   "execution_count": 22,
   "id": "3c392b92",
   "metadata": {},
   "outputs": [
    {
     "name": "stdout",
     "output_type": "stream",
     "text": [
      "    7 \n",
      "  5   \n",
      "3     \n"
     ]
    }
   ],
   "source": [
    "l = [\n",
    "    [1,2,3], \n",
    "    [4,5,6],\n",
    "    [7,8,9]\n",
    "    ]\n",
    "\n",
    "for i in range(0,3):\n",
    "    for j in range(0,3):\n",
    "        if i + j == 2:\n",
    "            print(l[j][i],'',  end='')\n",
    "        else:\n",
    "            print('  ',end='')\n",
    "    print('')"
   ]
  },
  {
   "cell_type": "code",
   "execution_count": 13,
   "id": "9163b8a6",
   "metadata": {},
   "outputs": [
    {
     "name": "stdout",
     "output_type": "stream",
     "text": [
      "[[0 1 2]\n",
      " [3 4 5]\n",
      " [6 7 8]]\n"
     ]
    }
   ],
   "source": [
    "matrix = np.arange(9)\n",
    "matrix = matrix.reshape(3,3)\n",
    "print(matrix)"
   ]
  },
  {
   "cell_type": "markdown",
   "id": "58ce8424",
   "metadata": {},
   "source": [
    "### Transpose of 2d array or matrix"
   ]
  },
  {
   "cell_type": "code",
   "execution_count": 35,
   "id": "32437705",
   "metadata": {},
   "outputs": [
    {
     "name": "stdout",
     "output_type": "stream",
     "text": [
      "1 4 7 \n",
      "2 5 8 \n",
      "3 6 9 \n"
     ]
    }
   ],
   "source": [
    "l = [\n",
    "    [1,2,3], \n",
    "    [4,5,6],\n",
    "    [7,8,9]\n",
    "    ]\n",
    "\n",
    "for i in range(0,3):\n",
    "    for j in range(i,3):\n",
    "        l[i][j], l[j][i] = l[j][i], l[i][j]\n",
    "\n",
    "for i in range(0,3):\n",
    "    for j in range(0,3):\n",
    "        print(l[i][j],'',  end='')\n",
    "\n",
    "    print('')"
   ]
  }
 ],
 "metadata": {
  "kernelspec": {
   "display_name": "Python 3",
   "language": "python",
   "name": "python3"
  },
  "language_info": {
   "codemirror_mode": {
    "name": "ipython",
    "version": 3
   },
   "file_extension": ".py",
   "mimetype": "text/x-python",
   "name": "python",
   "nbconvert_exporter": "python",
   "pygments_lexer": "ipython3",
   "version": "3.12.6"
  }
 },
 "nbformat": 4,
 "nbformat_minor": 5
}
