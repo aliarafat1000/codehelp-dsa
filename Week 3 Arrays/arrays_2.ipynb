{
 "cells": [
  {
   "cell_type": "markdown",
   "id": "2e4bea76",
   "metadata": {},
   "source": [
    "## Get more comfortable with Arrays"
   ]
  },
  {
   "cell_type": "code",
   "execution_count": 2,
   "id": "8cdfc1ef",
   "metadata": {},
   "outputs": [],
   "source": [
    "import numpy as np"
   ]
  },
  {
   "cell_type": "markdown",
   "id": "fc977a66",
   "metadata": {},
   "source": [
    "Solve 0s and 1s"
   ]
  },
  {
   "cell_type": "code",
   "execution_count": 15,
   "id": "00ae1628",
   "metadata": {},
   "outputs": [
    {
     "data": {
      "text/plain": [
       "array([1, 1, 0, 0, 0, 0, 1, 0, 1], dtype=int32)"
      ]
     },
     "execution_count": 15,
     "metadata": {},
     "output_type": "execute_result"
    }
   ],
   "source": [
    "# sort 0's and 1's \n",
    "arr = np.array([1,1,0,0,0,0,1,0,1], dtype=np.int32)\n",
    "arr"
   ]
  },
  {
   "cell_type": "code",
   "execution_count": 16,
   "id": "60296325",
   "metadata": {},
   "outputs": [
    {
     "name": "stdout",
     "output_type": "stream",
     "text": [
      "[1 1 0 0 0 0 1 0 1]\n",
      "[0 1 0 0 0 0 1 1 1]\n",
      "[0 1 0 0 0 0 1 1 1]\n",
      "[0 0 0 0 0 1 1 1 1]\n",
      "[0 0 0 0 0 1 1 1 1]\n",
      "[0 0 0 0 0 1 1 1 1]\n",
      "[0 0 0 0 0 1 1 1 1]\n",
      "[0 0 0 0 0 1 1 1 1]\n"
     ]
    }
   ],
   "source": [
    "i = 0\n",
    "j = arr.size - 1\n",
    "while (i < j):\n",
    "    if arr[i] == 0:\n",
    "        i += 1\n",
    "    else:\n",
    "        arr[i], arr[j] = arr[j], arr[i]\n",
    "    \n",
    "    if arr[j] == 1:\n",
    "        j -= 1\n",
    "    else:\n",
    "        arr[i], arr[j] = arr[j], arr[i]\n",
    "\n",
    "    print(arr)\n",
    "\n",
    "print(arr)"
   ]
  },
  {
   "cell_type": "markdown",
   "id": "eae08bc5",
   "metadata": {},
   "source": [
    "Dutch National Flag"
   ]
  },
  {
   "cell_type": "code",
   "execution_count": 17,
   "id": "02bc3478",
   "metadata": {},
   "outputs": [],
   "source": [
    "arr = np.array([2,2,0,1,1,0,0,1,2,0,2,2,1,1,0])"
   ]
  },
  {
   "cell_type": "code",
   "execution_count": 19,
   "id": "0cc4ec73",
   "metadata": {},
   "outputs": [
    {
     "name": "stdout",
     "output_type": "stream",
     "text": [
      "[0 0 0 0 0 1 1 1 1 1 2 2 2 2 2]\n"
     ]
    }
   ],
   "source": [
    "i, j, k = 0,arr.size - 1,0\n",
    "while (i < j and k < j):\n",
    "    if arr[i] == 0:\n",
    "        i += 1\n",
    "        if k < i:\n",
    "            k += 1\n",
    "    elif arr[k] == 0:\n",
    "        arr[i], arr[k] = arr[k], arr[i]\n",
    "        i += 1\n",
    "        if k < i:\n",
    "            k += 1\n",
    "    elif arr[j] == 2:\n",
    "        j -= 1\n",
    "    elif arr[k] == 2:\n",
    "        arr[j], arr[k] = arr[k], arr[j]\n",
    "        j -= 1\n",
    "    else:\n",
    "        k += 1\n",
    "\n",
    "print(arr)\n"
   ]
  },
  {
   "cell_type": "code",
   "execution_count": 21,
   "id": "04378bd3",
   "metadata": {},
   "outputs": [
    {
     "data": {
      "text/plain": [
       "3"
      ]
     },
     "execution_count": 21,
     "metadata": {},
     "output_type": "execute_result"
    }
   ],
   "source": [
    "n = [1,2,3]\n",
    "len(n)"
   ]
  },
  {
   "cell_type": "markdown",
   "id": "77cccd88",
   "metadata": {},
   "source": [
    "takes 2's compliment"
   ]
  },
  {
   "cell_type": "code",
   "execution_count": 47,
   "id": "7ce2cf29",
   "metadata": {},
   "outputs": [
    {
     "name": "stdout",
     "output_type": "stream",
     "text": [
      "[0 0 1 1 1 0 1]\n",
      "[1 1 0 0 0 1 0]\n",
      "0\n",
      "[1 1 0 0 0 1 1]\n"
     ]
    }
   ],
   "source": [
    "arr = np.array([0,0,1,1,1,0,1])\n",
    "print(arr)\n",
    "\n",
    "for i in range(0,arr.size):\n",
    "    if arr[i] == 0:\n",
    "        arr[i] = 1\n",
    "    else:\n",
    "        arr[i] = 0\n",
    "print(arr)\n",
    "\n",
    "\n",
    "flag = 1\n",
    "\n",
    "i = arr.size - 1\n",
    "while (i >= 0):\n",
    "    if  arr[i] + flag == 0:\n",
    "        i -= 0\n",
    "        flag = 0\n",
    "        i -= 1\n",
    "    elif arr[i] + flag == 1:\n",
    "        arr[i] = 1\n",
    "        flag = 0\n",
    "        i -= 1\n",
    "    elif arr[i] + flag == 2:\n",
    "        arr[i] = 0 \n",
    "        flag = 1\n",
    "        i -= 1\n",
    "\n",
    "\n",
    "print(flag)\n",
    "if flag == 1:\n",
    "    print(flag, arr)\n",
    "else:\n",
    "    print(arr)"
   ]
  },
  {
   "cell_type": "code",
   "execution_count": 90,
   "id": "ce5b59e9",
   "metadata": {},
   "outputs": [
    {
     "data": {
      "text/plain": [
       "[1]"
      ]
     },
     "execution_count": 90,
     "metadata": {},
     "output_type": "execute_result"
    }
   ],
   "source": [
    "num = 1\n",
    "binary = []\n",
    "while (num != 0):\n",
    "    if num&1 == 0:\n",
    "        binary.append(0)\n",
    "    else:\n",
    "        binary.append(1)\n",
    "\n",
    "    num //= 2\n",
    "\n",
    "binary = binary[::-1] \n",
    "binary"
   ]
  },
  {
   "cell_type": "code",
   "execution_count": 91,
   "id": "8c1d024a",
   "metadata": {},
   "outputs": [
    {
     "name": "stdout",
     "output_type": "stream",
     "text": [
      "[0]\n"
     ]
    }
   ],
   "source": [
    "for i in range(0,len(binary)):\n",
    "    if binary[i] == 0:\n",
    "        binary[i] = 1\n",
    "    else:\n",
    "        binary[i] = 0\n",
    "\n",
    "print(binary)"
   ]
  },
  {
   "cell_type": "code",
   "execution_count": 92,
   "id": "d453bb79",
   "metadata": {},
   "outputs": [
    {
     "name": "stdout",
     "output_type": "stream",
     "text": [
      "elelment 1 actual 0 sum 0 power 0\n",
      "0\n"
     ]
    }
   ],
   "source": [
    "number = 0\n",
    "size = len(binary) - 1\n",
    "for i in range(len(binary) -1, -1, -1):\n",
    "    number = number + binary[i]*pow(2,size - i)\n",
    "    # print(number)\n",
    "    print('elelment', pow(2,size-i), 'actual',binary[i], 'sum', number, 'power', size - i)\n",
    "print(number)"
   ]
  },
  {
   "cell_type": "code",
   "execution_count": 102,
   "id": "fece9995",
   "metadata": {},
   "outputs": [
    {
     "name": "stdout",
     "output_type": "stream",
     "text": [
      "0 2\n"
     ]
    }
   ],
   "source": [
    "nums = [3,2,4]\n",
    "hash_map = {} # val: index\n",
    "target = 7\n",
    "for i, j in enumerate(nums):\n",
    "    difference = target - j\n",
    "    if difference in hash_map:\n",
    "        print(hash_map[difference],i)\n",
    "        pass\n",
    "    else:\n",
    "        hash_map[j] = i"
   ]
  },
  {
   "cell_type": "code",
   "execution_count": 23,
   "id": "f3eceb96",
   "metadata": {},
   "outputs": [],
   "source": [
    "arr = np.array([1,2,3,4,5], dtype=np.int32)\n",
    "target = 7  "
   ]
  },
  {
   "cell_type": "code",
   "execution_count": 30,
   "id": "b09c4296",
   "metadata": {},
   "outputs": [
    {
     "name": "stdout",
     "output_type": "stream",
     "text": [
      "4 at index 3 and 3 at index 2 gives 7\n"
     ]
    }
   ],
   "source": [
    "ans = {}\n",
    "\n",
    "for i, j in enumerate(arr):\n",
    "    diff = target - j\n",
    "    if diff in ans:\n",
    "        print(f'{j} at index {i} and {diff} at index {ans[diff]} gives {target}')\n",
    "        break\n",
    "    else:\n",
    "        ans[j] = i"
   ]
  },
  {
   "cell_type": "code",
   "execution_count": null,
   "id": "ea5c8cbf",
   "metadata": {},
   "outputs": [
    {
     "name": "stdout",
     "output_type": "stream",
     "text": [
      "10 10\n",
      "10 20\n",
      "10 30\n",
      "10 40\n",
      "\n",
      "20 20\n",
      "20 30\n",
      "20 40\n",
      "\n",
      "30 30\n",
      "30 40\n",
      "\n",
      "40 40\n",
      "\n"
     ]
    }
   ],
   "source": [
    "l = [10,20,30,40]\n",
    "\n",
    "for i in range(0,len(l)):\n",
    "    for j in range(i,len(l)):\n",
    "        print(l[i],l[j])\n",
    "    print('')"
   ]
  },
  {
   "cell_type": "markdown",
   "id": "844f25a2",
   "metadata": {},
   "source": [
    "### Shifiting array to right"
   ]
  },
  {
   "cell_type": "code",
   "execution_count": 52,
   "id": "2a2952d7",
   "metadata": {},
   "outputs": [
    {
     "name": "stdout",
     "output_type": "stream",
     "text": [
      "[2 3 4 5 1]\n"
     ]
    }
   ],
   "source": [
    "arr = np.array([1,2,3,4,5], dtype=np.int32)\n",
    "\n",
    "def shifting_to_right(arr, pos: int):\n",
    "    pos = pos % 5\n",
    "    temp = np.zeros(10,dtype=np.int32)\n",
    "    n = len(arr)\n",
    "    # step one, store in temporary array all the elements that will come before as per pos\n",
    "    for i in range(0,pos):\n",
    "        temp[i] = arr[n - pos + i]\n",
    "    \n",
    "    # step 2\n",
    "    for i in range(0,n-pos):\n",
    "        arr[n - i - 1] = arr[n - pos - i - 1]\n",
    "\n",
    "    # step 3, put the temp array in front\n",
    "    for i in range(0,pos):\n",
    "        arr[i] = temp[i]\n",
    "\n",
    "    return arr\n",
    "\n",
    "print(shifting_to_right(arr,4))\n"
   ]
  }
 ],
 "metadata": {
  "kernelspec": {
   "display_name": "Python 3",
   "language": "python",
   "name": "python3"
  },
  "language_info": {
   "codemirror_mode": {
    "name": "ipython",
    "version": 3
   },
   "file_extension": ".py",
   "mimetype": "text/x-python",
   "name": "python",
   "nbconvert_exporter": "python",
   "pygments_lexer": "ipython3",
   "version": "3.12.6"
  }
 },
 "nbformat": 4,
 "nbformat_minor": 5
}
