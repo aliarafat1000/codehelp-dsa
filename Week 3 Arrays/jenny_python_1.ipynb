{
 "cells": [
  {
   "cell_type": "code",
   "execution_count": 57,
   "id": "6738c6ba",
   "metadata": {},
   "outputs": [
    {
     "name": "stdout",
     "output_type": "stream",
     "text": [
      "Stringg Hello Aadf\n",
      "o aad\n"
     ]
    }
   ],
   "source": [
    "# Python strings\n",
    "string = 'stringg hello aadf'\n",
    "string.capitalize()\n",
    "string\n",
    "print(string.title())\n",
    "print(string[-6:-1])"
   ]
  },
  {
   "cell_type": "code",
   "execution_count": 64,
   "id": "4c7095bc",
   "metadata": {},
   "outputs": [
    {
     "name": "stdout",
     "output_type": "stream",
     "text": [
      "heenhi\n"
     ]
    }
   ],
   "source": [
    "print(\"heen\"  + \"hi\")"
   ]
  },
  {
   "cell_type": "code",
   "execution_count": 71,
   "id": "1c883e58",
   "metadata": {},
   "outputs": [
    {
     "name": "stdout",
     "output_type": "stream",
     "text": [
      "True\n",
      "1743629003584 1743629462016\n"
     ]
    }
   ],
   "source": [
    "a = [1, 2, 3]\n",
    "b = [1, 2, 3]\n",
    "print(a == b)\n",
    "print(id(a), id(b))"
   ]
  },
  {
   "cell_type": "code",
   "execution_count": 77,
   "id": "be98a43b",
   "metadata": {},
   "outputs": [
    {
     "name": "stdout",
     "output_type": "stream",
     "text": [
      "21.13 20.0\n"
     ]
    }
   ],
   "source": [
    "num = 21.12745\n",
    "print(f'{num:1.2f}', round(num,-1))"
   ]
  },
  {
   "cell_type": "code",
   "execution_count": 25,
   "id": "e91f1b80",
   "metadata": {},
   "outputs": [
    {
     "data": {
      "text/plain": [
       "[]"
      ]
     },
     "execution_count": 25,
     "metadata": {},
     "output_type": "execute_result"
    }
   ],
   "source": [
    "num = [2,1,3,4,5]\n",
    "num.sort()\n",
    "num.append(6)\n",
    "num.insert(1,99)\n",
    "num.extend([9,8,7])\n",
    "num.pop(0)\n",
    "num.count(2)\n",
    "num.sort(key=None, reverse=True)\n",
    "num.clear()\n",
    "num"
   ]
  },
  {
   "cell_type": "code",
   "execution_count": 40,
   "id": "ff2a4358",
   "metadata": {},
   "outputs": [
    {
     "name": "stdout",
     "output_type": "stream",
     "text": [
      "['Welcome', 'to', \"Jenny's\", 'Course']\n",
      "banana\n"
     ]
    }
   ],
   "source": [
    "import random\n",
    "fruits = ['apple', 'banana']\n",
    "text = \"Welcome to Jenny's Course\"\n",
    "print(text.split(\" \"))\n",
    "fruits_tuple = (\"apple\",\"banana\")\n",
    "print(max(fruits_tuple))"
   ]
  },
  {
   "cell_type": "code",
   "execution_count": null,
   "id": "8931ffa1",
   "metadata": {},
   "outputs": [
    {
     "name": "stdout",
     "output_type": "stream",
     "text": [
      "2006\n",
      "01/21/2008\n"
     ]
    }
   ],
   "source": [
    "d1 = \"01/24/2007\"\n",
    "d2 = \"01/21/2008\"\n",
    "d3 = \"02/29/2009\"\n",
    "d4 = \"02/30/2006\"\n",
    "d5 = \"02/28/2006\"\n",
    "d6 = \"02/29/2006\"\n",
    "\n",
    "def get_earliest(*dates):\n",
    "    year_list = []\n",
    "    month_list = []\n",
    "    day_list = []\n",
    "    \n",
    "    # we'll take years, days and months in integer format for comparability\n",
    "    # for date in dates:\n",
    "    #     year_list.append(int(date[2]))\n",
    "    #     day_list.append(int(date[1]))\n",
    "    #     month_list.append(int(date[0]))\n",
    "\n",
    "    # year_list = [expression for item in iterable]\n",
    "    year_list = [ int(date.split(\"/\")[2]) for date in dates]\n",
    "    day_list = [ int(date.split(\"/\")[1]) for date in dates]\n",
    "    month_list = [ int(date.split(\"/\")[0]) for date in dates]\n",
    "\n",
    "    key_index = 0\n",
    "\n",
    "    min_year = min(year_list)\n",
    "    min_month = min(month_list)\n",
    "    min_day = min(day_list)\n",
    "\n",
    "    min_year_list = [year for year in year_list if year = min_year]\n",
    "\n",
    "\n",
    "    if year_list.count(min_year) == 1:\n",
    "        key_index = year_list.index(min_year)\n",
    "    elif month_list.count(min_month) == 1:\n",
    "        key_index = month_list.index(min_month)\n",
    "    else:\n",
    "        key_index = day_list.index(min_day)\n",
    "\n",
    "    return (\"/\".join([ \n",
    "        f\"{month_list[key_index]:02d}\", \n",
    "        f\"{day_list[key_index]:02d}\", \n",
    "        f\"{year_list[key_index]:04d}\"\n",
    "            ]))\n",
    "    \n",
    "print(get_earliest(d1,d2,d3,d4,d5,d6))\n"
   ]
  },
  {
   "cell_type": "code",
   "execution_count": 80,
   "id": "9d2f0183",
   "metadata": {},
   "outputs": [
    {
     "ename": "NameError",
     "evalue": "name 'set1' is not defined",
     "output_type": "error",
     "traceback": [
      "\u001b[1;31m---------------------------------------------------------------------------\u001b[0m",
      "\u001b[1;31mNameError\u001b[0m                                 Traceback (most recent call last)",
      "Cell \u001b[1;32mIn[80], line 5\u001b[0m\n\u001b[0;32m      3\u001b[0m set1 \u001b[38;5;241m&\u001b[39m set2\n\u001b[0;32m      4\u001b[0m \u001b[38;5;28;01mdel\u001b[39;00m set1\n\u001b[1;32m----> 5\u001b[0m \u001b[38;5;28mprint\u001b[39m(\u001b[43mset1\u001b[49m)\n",
      "\u001b[1;31mNameError\u001b[0m: name 'set1' is not defined"
     ]
    }
   ],
   "source": [
    "set1 = {10, True, 'Jenny', 1.11}\n",
    "set2 = {15, True, 'Jenny', 1.11}\n",
    "set1 & set2\n",
    "del set1\n",
    "print(set1)"
   ]
  }
 ],
 "metadata": {
  "kernelspec": {
   "display_name": "Python 3",
   "language": "python",
   "name": "python3"
  },
  "language_info": {
   "codemirror_mode": {
    "name": "ipython",
    "version": 3
   },
   "file_extension": ".py",
   "mimetype": "text/x-python",
   "name": "python",
   "nbconvert_exporter": "python",
   "pygments_lexer": "ipython3",
   "version": "3.12.6"
  }
 },
 "nbformat": 4,
 "nbformat_minor": 5
}
