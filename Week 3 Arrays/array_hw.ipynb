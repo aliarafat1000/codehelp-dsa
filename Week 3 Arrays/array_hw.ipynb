{
 "cells": [
  {
   "cell_type": "code",
   "execution_count": 1,
   "id": "a0d95d75",
   "metadata": {},
   "outputs": [],
   "source": [
    "import numpy as np"
   ]
  },
  {
   "cell_type": "markdown",
   "id": "cb8cf135",
   "metadata": {},
   "source": [
    "### Find pivot index: Leetcode (Already done two sum efficient solution using dictionary and quick search in dict)"
   ]
  },
  {
   "cell_type": "code",
   "execution_count": 23,
   "id": "67397a31",
   "metadata": {},
   "outputs": [],
   "source": [
    "z = np.array([1,7,3,6,5,6])"
   ]
  },
  {
   "cell_type": "code",
   "execution_count": 24,
   "id": "b53b68ce",
   "metadata": {},
   "outputs": [
    {
     "name": "stdout",
     "output_type": "stream",
     "text": [
      "27\n",
      "20 1\n",
      "17 8\n",
      "11 11\n",
      "3\n",
      "3\n"
     ]
    }
   ],
   "source": [
    "lsum = 0\n",
    "rsum = 0\n",
    "for i in range(1,len(z)):\n",
    "    rsum += z[i]\n",
    "\n",
    "print(rsum)\n",
    "\n",
    "i = 0\n",
    "while (i < len(z)-1):\n",
    "    if rsum == lsum:\n",
    "        print(i)\n",
    "        break\n",
    "    else:\n",
    "        lsum += z[i]\n",
    "        i += 1\n",
    "        rsum -= z[i]\n",
    "    print(rsum,lsum)\n",
    "    if rsum == lsum:\n",
    "        print(i)"
   ]
  },
  {
   "cell_type": "markdown",
   "id": "c0debcf0",
   "metadata": {},
   "source": [
    "### Find Pivot index two array storage method"
   ]
  },
  {
   "cell_type": "code",
   "execution_count": 35,
   "id": "22c970e7",
   "metadata": {},
   "outputs": [
    {
     "name": "stdout",
     "output_type": "stream",
     "text": [
      "[0 1 2 1 0]\n",
      "[-1 -2 -1  0  0]\n",
      "4\n"
     ]
    }
   ],
   "source": [
    "z = np.array([1,1,-1,-1,0])\n",
    "larr = np.zeros(z.size,dtype=np.int32)\n",
    "rarr = np.zeros(z.size,dtype=np.int32)\n",
    "temp = 0\n",
    "for i in range(len(z)):\n",
    "    larr[i] = temp\n",
    "    temp += z[i]\n",
    "temp = 0\n",
    "for i in range(len(z)):\n",
    "    rarr[len(z) - 1 - i] = temp\n",
    "    temp += z[len(z) - 1 - i]\n",
    "\n",
    "print(larr)\n",
    "print(rarr)\n",
    "\n",
    "for i in range(len(z)):\n",
    "    if larr[i] == rarr[i]:\n",
    "        print(i)\n",
    "    \n",
    "\n"
   ]
  },
  {
   "cell_type": "markdown",
   "id": "3850e4d9",
   "metadata": {},
   "source": [
    "### Removing duplicates and finding total no. of unique elements"
   ]
  },
  {
   "cell_type": "code",
   "execution_count": 41,
   "id": "4a86f64b",
   "metadata": {},
   "outputs": [],
   "source": [
    "arr = np.array([0,0,1,1,1,2,2,3,3,4],dtype=np.int32)"
   ]
  },
  {
   "cell_type": "code",
   "execution_count": 42,
   "id": "6315ef72",
   "metadata": {},
   "outputs": [
    {
     "name": "stdout",
     "output_type": "stream",
     "text": [
      "[0 1 2 3 4 2 2 3 3 4] 4\n"
     ]
    }
   ],
   "source": [
    "i, j = 0, 0\n",
    "while (j < len(arr)):\n",
    "    if arr[i] == arr[j]:\n",
    "        j += 1\n",
    "    else:\n",
    "        i += 1\n",
    "        arr[i] = arr[j]\n",
    "\n",
    "print(arr, i)"
   ]
  },
  {
   "cell_type": "markdown",
   "id": "43c30531",
   "metadata": {},
   "source": [
    "### Moving average in window"
   ]
  },
  {
   "cell_type": "code",
   "execution_count": 49,
   "id": "61de4279",
   "metadata": {},
   "outputs": [
    {
     "name": "stdout",
     "output_type": "stream",
     "text": [
      "5.0\n"
     ]
    }
   ],
   "source": [
    "arr = np.array([5],dtype=np.int32)\n",
    "k = 1\n",
    "initial_sum = 0\n",
    "for i in range(0,k):\n",
    "    initial_sum += arr[i]\n",
    "\n",
    "# avg_ans = initial_sum / k\n",
    "temp_sum = initial_sum\n",
    "i = 1\n",
    "while (i + k -1 < len(arr)):\n",
    "    temp_sum += arr[i + k - 1]\n",
    "    temp_sum -= arr[i - 1]\n",
    "    initial_sum = max(initial_sum, temp_sum)\n",
    "    i += 1\n",
    "\n",
    "print( initial_sum / k )"
   ]
  },
  {
   "cell_type": "markdown",
   "id": "e8927f00",
   "metadata": {},
   "source": [
    "### Return duplicate number"
   ]
  },
  {
   "cell_type": "code",
   "execution_count": 51,
   "id": "070905f4",
   "metadata": {},
   "outputs": [
    {
     "name": "stdout",
     "output_type": "stream",
     "text": [
      "2\n"
     ]
    }
   ],
   "source": [
    "arr = np.array([1,3,4,2,2],dtype=np.int32)\n",
    "\n",
    "temp_dict = {}\n",
    "\n",
    "for i in range(0, len(arr)):\n",
    "    if arr[i] in temp_dict:\n",
    "        print(arr[i])\n",
    "    else:\n",
    "        temp_dict[arr[i]] = i\n",
    "\n"
   ]
  },
  {
   "cell_type": "markdown",
   "id": "86fe0a0c",
   "metadata": {},
   "source": [
    "### Missing elements from an Array with Duplicates"
   ]
  },
  {
   "cell_type": "code",
   "execution_count": null,
   "id": "ca1facb2",
   "metadata": {},
   "outputs": [
    {
     "name": "stdout",
     "output_type": "stream",
     "text": [
      "[-1  3 -1 -1 -1]\n",
      "2\n"
     ]
    }
   ],
   "source": [
    "arr = np.array([1,3,5,3,4],dtype=np.int32)\n",
    "temp = arr.copy()\n",
    "\n",
    "for i in range(0,len(arr)):\n",
    "    temp[arr[i] -1] = -1\n",
    "    # print(temp, arr[i])\n",
    "\n",
    "# print(temp)\n",
    "\n",
    "ans = 0\n",
    "for i in range(0, len(arr)):\n",
    "    if temp[i] != -1:\n",
    "        ans = i\n",
    "\n",
    "print(ans + 1)\n",
    "\n"
   ]
  },
  {
   "cell_type": "markdown",
   "id": "615b4071",
   "metadata": {},
   "source": [
    "#### Find the first repeating element"
   ]
  },
  {
   "cell_type": "code",
   "execution_count": 70,
   "id": "fe36b02f",
   "metadata": {},
   "outputs": [],
   "source": [
    "from collections import Counter"
   ]
  },
  {
   "cell_type": "code",
   "execution_count": 71,
   "id": "f24c9f2b",
   "metadata": {},
   "outputs": [
    {
     "data": {
      "text/plain": [
       "Counter({np.int32(5): 2,\n",
       "         np.int32(3): 2,\n",
       "         np.int32(1): 1,\n",
       "         np.int32(4): 1,\n",
       "         np.int32(6): 1})"
      ]
     },
     "execution_count": 71,
     "metadata": {},
     "output_type": "execute_result"
    }
   ],
   "source": [
    "arr = np.array([1,5,3,4,3,5,6],dtype=np.int32)\n",
    "\n",
    "temp_dict = {}\n",
    "\n",
    "count_map = Counter(arr)\n",
    "count_map\n"
   ]
  },
  {
   "cell_type": "code",
   "execution_count": null,
   "id": "edf8a69b",
   "metadata": {},
   "outputs": [
    {
     "name": "stdout",
     "output_type": "stream",
     "text": [
      "5\n"
     ]
    }
   ],
   "source": [
    "for i, j in count_map.items():\n",
    "    if j > 1:\n",
    "        print(i) \n",
    "        break"
   ]
  },
  {
   "cell_type": "markdown",
   "id": "060b6e4b",
   "metadata": {},
   "source": [
    "### Common elements in 3 sorted arrays"
   ]
  },
  {
   "cell_type": "code",
   "execution_count": 2,
   "id": "72f79906",
   "metadata": {},
   "outputs": [],
   "source": [
    "arr1 = np.array([1,5,10,20,40,80])\n",
    "arr2 = np.array([6,7,20,80,100])\n",
    "arr3 = np.array([3,4,15,20,30, 70, 80, 120])"
   ]
  },
  {
   "cell_type": "code",
   "execution_count": 9,
   "id": "7a5c5d1a",
   "metadata": {},
   "outputs": [
    {
     "name": "stdout",
     "output_type": "stream",
     "text": [
      "arr1 at 3, arr2 at 2 and arr3 at 3 has common element 20\n"
     ]
    },
    {
     "data": {
      "text/plain": [
       "'\\nTernary Operator\\nvalue_if_true if condition1 else value_if_false\\nvalue_if_true if conditon else value_if_false\\nvalue1 if condition1 else value2 if condition2 else value3 if condition3 else value4\\n'"
      ]
     },
     "execution_count": 9,
     "metadata": {},
     "output_type": "execute_result"
    }
   ],
   "source": [
    "i, j, k = 0, 0, 0\n",
    "\n",
    "n1, n2, n3 = len(arr1), len(arr2), len(arr3)\n",
    "\n",
    "while (i < n1 and j < n2 and k < n3):\n",
    "    if arr1[i] == arr2[j] and arr2[j] == arr3[k]:\n",
    "        print(f'arr1 at {i}, arr2 at {j} and arr3 at {k} has common element {arr1[i]}')\n",
    "        break\n",
    "    # elif arr1[i] < arr2[j] and arr1[i] < arr3[k]:\n",
    "    #     i += 1\n",
    "    # elif arr2[j] < arr1[i] and arr2[j] < arr3[k]:\n",
    "    #     j += 1\n",
    "    # elif arr3[k] < arr2[j] and arr3[k] < arr1[i]:\n",
    "    #     k += 1\n",
    "    min_value = min(arr1[i], arr2[j], arr3[k])\n",
    "    i += arr1[i] == min_value\n",
    "    j += arr2[j] == min_value\n",
    "    k += arr3[k] == min_value\n",
    "\n",
    "\n",
    "\"\"\"\n",
    "Ternary Operator\n",
    "value_if_true if condition1 else value_if_false\n",
    "value_if_true if conditon else value_if_false\n",
    "value1 if condition1 else value2 if condition2 else value3 if condition3 else value4\n",
    "\"\"\""
   ]
  },
  {
   "cell_type": "markdown",
   "id": "6b528577",
   "metadata": {},
   "source": [
    "### Wave print a matrix"
   ]
  },
  {
   "cell_type": "code",
   "execution_count": 30,
   "id": "8cab254a",
   "metadata": {},
   "outputs": [
    {
     "name": "stdout",
     "output_type": "stream",
     "text": [
      "[[ 0  1  2  3]\n",
      " [ 4  5  6  7]\n",
      " [ 8  9 10 11]]\n",
      "0 4 8 9 5 1 2 6 10 11 7 3 "
     ]
    }
   ],
   "source": [
    "mat = np.arange(12,dtype=np.int32)\n",
    "mat = mat.reshape(3,4)\n",
    "print(mat)\n",
    "\n",
    "for i in range(0,len(mat[0])):\n",
    "    for j in range(0, len(mat)):\n",
    "        if i&1 == 0:\n",
    "            print(mat[j][i], end=' ')\n",
    "        else:\n",
    "            print(mat[len(mat) - j - 1][i], end=' ')\n"
   ]
  },
  {
   "cell_type": "markdown",
   "id": "bc0d74c6",
   "metadata": {},
   "source": [
    "### Sprial Print Matrix"
   ]
  },
  {
   "cell_type": "code",
   "execution_count": 71,
   "id": "1876cbca",
   "metadata": {},
   "outputs": [
    {
     "name": "stdout",
     "output_type": "stream",
     "text": [
      "[[ 0  1  2  3]\n",
      " [ 4  5  6  7]\n",
      " [ 8  9 10 11]]\n",
      "==================================================\n",
      "0 1 2 3 7 11 10 9 8 4 5 6 "
     ]
    }
   ],
   "source": [
    "mat = np.arange(12,dtype=np.int32)\n",
    "mat = mat.reshape(3,4)\n",
    "print(mat)\n",
    "\n",
    "\n",
    "left_index, right_index, up_index, bottom_index = 0, len(mat[0]) - 1, 0, len(mat) - 1\n",
    "# print(left_index, right_index, up_index, bottom_index)\n",
    "print('='*50)\n",
    "\n",
    "counter = len(mat) * len(mat[0])\n",
    "\n",
    "while (counter > 0):\n",
    "    # First we print first row\n",
    "    for i in range(left_index,right_index + 1):\n",
    "        print(mat[up_index][i], end=' ')\n",
    "        counter -= 1 \n",
    "    up_index += 1\n",
    "\n",
    "    if counter == 0:\n",
    "        break\n",
    "\n",
    "    # Second we print right side column, but no duplicate\n",
    "    for i in range(up_index, bottom_index + 1):\n",
    "        print(mat[i][right_index], end=' ')\n",
    "        counter -= 1\n",
    "    right_index -= 1\n",
    "\n",
    "    if counter == 0:\n",
    "        break\n",
    "\n",
    "    # Third we print bottom row\n",
    "    for i in range(right_index, left_index -1, -1):\n",
    "        print(mat[bottom_index][i], end=' ')\n",
    "        counter -= 1\n",
    "    bottom_index -= 1\n",
    "\n",
    "    if counter == 0:\n",
    "        break\n",
    "\n",
    "    # Finally the first collumn from bottom up needs to be printed\n",
    "    for i in range(bottom_index, up_index -1, -1):\n",
    "        print(mat[i][left_index], end=' ')\n",
    "        counter -= 1\n",
    "    left_index += 1\n",
    "\n",
    "    if counter == 0:\n",
    "        break\n",
    "\n",
    "\n",
    "\n",
    "    "
   ]
  },
  {
   "cell_type": "markdown",
   "id": "f48079a1",
   "metadata": {},
   "source": [
    "### Factorial of a large number"
   ]
  },
  {
   "cell_type": "code",
   "execution_count": 98,
   "id": "7a029d7e",
   "metadata": {},
   "outputs": [
    {
     "name": "stdout",
     "output_type": "stream",
     "text": [
      "[1, 2, 0]\n"
     ]
    }
   ],
   "source": [
    "num = 5\n",
    "num_list = []\n",
    "ans_list = [1]\n",
    "flag = 0\n",
    "multi = 0\n",
    "for i in range(num,0,-1):\n",
    "    num_list.append(i)\n",
    "\n",
    "for i in range(len(num_list)-1, -1, -1):\n",
    "    # print(num_list[i])\n",
    "    for j in range(len(ans_list)-1,-1,-1):\n",
    "        multi = ans_list[j] * num_list[i]\n",
    "        ld = int(multi%10)\n",
    "        ans_list[j] = ld + flag\n",
    "        flag = int(multi/10)\n",
    "\n",
    "    if flag:\n",
    "        ans_list.insert(0,flag)\n",
    "        flag = 0\n",
    "\n",
    "    # print(ans_list)  \n",
    "\n",
    "print(ans_list)\n",
    "\n"
   ]
  }
 ],
 "metadata": {
  "kernelspec": {
   "display_name": "Python 3",
   "language": "python",
   "name": "python3"
  },
  "language_info": {
   "codemirror_mode": {
    "name": "ipython",
    "version": 3
   },
   "file_extension": ".py",
   "mimetype": "text/x-python",
   "name": "python",
   "nbconvert_exporter": "python",
   "pygments_lexer": "ipython3",
   "version": "3.12.6"
  }
 },
 "nbformat": 4,
 "nbformat_minor": 5
}
