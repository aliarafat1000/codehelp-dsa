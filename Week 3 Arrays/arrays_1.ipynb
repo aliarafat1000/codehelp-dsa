{
 "cells": [
  {
   "cell_type": "markdown",
   "id": "e06b7846",
   "metadata": {},
   "source": [
    "# Love Babbar Array - I"
   ]
  },
  {
   "cell_type": "code",
   "execution_count": 23,
   "id": "8a0b540f",
   "metadata": {},
   "outputs": [],
   "source": [
    "import array\n",
    "import numpy as np\n",
    "import sys"
   ]
  },
  {
   "cell_type": "code",
   "execution_count": 10,
   "id": "f1d4a7e6",
   "metadata": {},
   "outputs": [
    {
     "name": "stdout",
     "output_type": "stream",
     "text": [
      "array('i', [1, 2, 3, 4, 5])\n"
     ]
    }
   ],
   "source": [
    "arr = array.array('i',[1,2,3,4,5])\n",
    "print(arr)\n",
    "arr[2] = 99"
   ]
  },
  {
   "cell_type": "code",
   "execution_count": 11,
   "id": "b6f77564",
   "metadata": {},
   "outputs": [
    {
     "name": "stdout",
     "output_type": "stream",
     "text": [
      "array('i', [1, 2, 99, 4, 5])\n"
     ]
    }
   ],
   "source": [
    "print(arr)"
   ]
  },
  {
   "cell_type": "code",
   "execution_count": 13,
   "id": "4ed9dc12",
   "metadata": {},
   "outputs": [
    {
     "name": "stdout",
     "output_type": "stream",
     "text": [
      "['Delhi' 'Mumbai']\n"
     ]
    }
   ],
   "source": [
    "np_array = np.array(['Delhi','Mumbai'])\n",
    "print(np_array)"
   ]
  },
  {
   "cell_type": "code",
   "execution_count": 50,
   "id": "00a76829",
   "metadata": {},
   "outputs": [],
   "source": [
    "arr = np.array([1, 2, 3, 4, 5, 6], dtype=np.int32)"
   ]
  },
  {
   "cell_type": "code",
   "execution_count": 32,
   "id": "16e114b5",
   "metadata": {},
   "outputs": [],
   "source": [
    "def element_search(element: int, arr: np.ndarray) -> bool:\n",
    "    for i in range(0,arr.size):\n",
    "        if arr[i] == element:\n",
    "            return True\n",
    "        \n",
    "    return False"
   ]
  },
  {
   "cell_type": "code",
   "execution_count": 34,
   "id": "6999bf10",
   "metadata": {},
   "outputs": [
    {
     "data": {
      "text/plain": [
       "False"
      ]
     },
     "execution_count": 34,
     "metadata": {},
     "output_type": "execute_result"
    }
   ],
   "source": [
    "element_search(9,arr)\n"
   ]
  },
  {
   "cell_type": "code",
   "execution_count": 39,
   "id": "b9e0e2f0",
   "metadata": {},
   "outputs": [],
   "source": [
    "def max_num(arr: np.ndarray) -> int:\n",
    "    max_element = arr[0]\n",
    "    for i in range(0,arr.size):\n",
    "        if arr[i] > max_element:\n",
    "            max_element = arr[i]\n",
    "\n",
    "    return int(max_element)"
   ]
  },
  {
   "cell_type": "code",
   "execution_count": 42,
   "id": "c558a65d",
   "metadata": {},
   "outputs": [
    {
     "data": {
      "text/plain": [
       "9"
      ]
     },
     "execution_count": 42,
     "metadata": {},
     "output_type": "execute_result"
    }
   ],
   "source": [
    "max_num(arr)"
   ]
  },
  {
   "cell_type": "code",
   "execution_count": 55,
   "id": "265edf2c",
   "metadata": {},
   "outputs": [
    {
     "name": "stdout",
     "output_type": "stream",
     "text": [
      "1 6 2 5 3 4 "
     ]
    }
   ],
   "source": [
    "# Extreme printing\n",
    "i = 0\n",
    "j = arr.size - 1\n",
    "while (i <= j):\n",
    "    print(arr[i],' ', arr[j], ' ', end='', sep='')\n",
    "    i += 1\n",
    "    j -= 1\n",
    "\n",
    "    "
   ]
  },
  {
   "cell_type": "code",
   "execution_count": 58,
   "id": "f436d5ef",
   "metadata": {},
   "outputs": [],
   "source": [
    "def reverse(arr: np.ndarray) -> np.ndarray:\n",
    "    i = 0\n",
    "    j = arr.size - 1\n",
    "\n",
    "    while(i < j):\n",
    "        arr[i] = arr[i] ^ arr[j]\n",
    "        arr[j] = arr[i] ^ arr[j]\n",
    "        arr[i] = arr[i] ^ arr[j]\n",
    "        i += 1\n",
    "        j -= 1\n",
    "\n",
    "    return arr"
   ]
  },
  {
   "cell_type": "code",
   "execution_count": 59,
   "id": "d32464c5",
   "metadata": {},
   "outputs": [
    {
     "name": "stdout",
     "output_type": "stream",
     "text": [
      "[6 5 4 3 2 1]\n"
     ]
    }
   ],
   "source": [
    "print(reverse(arr))"
   ]
  }
 ],
 "metadata": {
  "kernelspec": {
   "display_name": "Python 3",
   "language": "python",
   "name": "python3"
  },
  "language_info": {
   "codemirror_mode": {
    "name": "ipython",
    "version": 3
   },
   "file_extension": ".py",
   "mimetype": "text/x-python",
   "name": "python",
   "nbconvert_exporter": "python",
   "pygments_lexer": "ipython3",
   "version": "3.12.6"
  }
 },
 "nbformat": 4,
 "nbformat_minor": 5
}
