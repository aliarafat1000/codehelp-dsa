{
 "cells": [
  {
   "cell_type": "markdown",
   "id": "9a4c3bee",
   "metadata": {},
   "source": [
    "#### 1. Last occurence of a char, string"
   ]
  },
  {
   "cell_type": "code",
   "execution_count": 27,
   "id": "40433fa3",
   "metadata": {},
   "outputs": [
    {
     "name": "stdout",
     "output_type": "stream",
     "text": [
      "1\n",
      "-1\n"
     ]
    }
   ],
   "source": [
    "s = 'abcdefge'\n",
    "\n",
    "def lastOccurence(s: str, ch: chr, i: int, ans: int) -> int:\n",
    "    # Base Case\n",
    "    \n",
    "    if i == len(s):\n",
    "        return ans\n",
    "\n",
    "    if s[i] == ch:\n",
    "        ans = i\n",
    "\n",
    "    recANs =  lastOccurence(s, ch, i+1, ans)\n",
    "    return recANs\n",
    "\n",
    "def lastOccurence_l(s: str, i: int, ch: chr) -> int:\n",
    "    # base case\n",
    "    if s[i] == ch:\n",
    "        return i\n",
    "\n",
    "    if i == 0:\n",
    "        return -1\n",
    "\n",
    "    return lastOccurence_l(s, i-1, ch)\n",
    "\n",
    "print(lastOccurence(s, 'b', 0, -1))\n",
    "print(lastOccurence_l(s, len(s)-1, 'z'))"
   ]
  },
  {
   "cell_type": "markdown",
   "id": "2b87edc6",
   "metadata": {},
   "source": [
    "#### 2. Reverse a string recursively"
   ]
  },
  {
   "cell_type": "code",
   "execution_count": 31,
   "id": "07d166e8",
   "metadata": {},
   "outputs": [
    {
     "name": "stdout",
     "output_type": "stream",
     "text": [
      "['a', 'b', 'c', 'd', 'e', 'f', 'g', 'z']\n",
      "['z', 'g', 'f', 'e', 'd', 'c', 'b', 'a']\n"
     ]
    }
   ],
   "source": [
    "s = 'abcdefgz'\n",
    "s = list(s)\n",
    "print(s)\n",
    "def reversing(s: list[str], i: int):\n",
    "    \n",
    "    if i == len(s)//2:\n",
    "        return\n",
    "    \n",
    "    s[i], s[-1-i] = s[-1-i], s[i]\n",
    "\n",
    "    reversing(s, i+1)\n",
    "\n",
    "reversing(s,0)\n",
    "print(s)"
   ]
  },
  {
   "cell_type": "markdown",
   "id": "c9e61a06",
   "metadata": {},
   "source": [
    "#### 3. Add strings Leetcode -> 415"
   ]
  },
  {
   "cell_type": "code",
   "execution_count": 75,
   "id": "a5386e20",
   "metadata": {},
   "outputs": [
    {
     "name": "stdout",
     "output_type": "stream",
     "text": [
      "1000\n"
     ]
    }
   ],
   "source": [
    "num1 = \"999\"\n",
    "num2 = \"1\"\n",
    "\n",
    "def solve(num1: str, num2: str, ans: str, carry: str) -> str:\n",
    "\n",
    "    # Base Case\n",
    "    if num1 == '' and num2 == '':\n",
    "        return str(carry) + ans if carry != 0 else ans\n",
    "\n",
    "\n",
    "    # Processing and recurrence relation\n",
    "    if num1 == '' or num2 == '':\n",
    "        if num1 == '':\n",
    "            ans_digit = carry + int(num2[-1])\n",
    "            carry = ans_digit // 10\n",
    "            ans = str(int(ans_digit) % 10)  + ans\n",
    "\n",
    "\n",
    "            # ans = str(int(num2[-1]) + carry) + ans\n",
    "            # carry = (int(num2[-1]) + carry) // 10\n",
    "        else:\n",
    "            ans_digit = carry + int(num1[-1])\n",
    "            carry = ans_digit // 10\n",
    "            ans = str(int(ans_digit) % 10)  + ans\n",
    "\n",
    "\n",
    "            # ans = str(int(num1[-1]) + carry) + ans\n",
    "            # carry = (int(num1[-1]) + carry) // 10\n",
    "        return solve(num1[:-1],num2[:-1],ans,carry)\n",
    "    else:\n",
    "        ans_digit = str(carry + int(num1[-1]) + int(num2[-1]))\n",
    "        carry = int(ans_digit) // 10\n",
    "        ans = str( int(ans_digit) % 10) + ans\n",
    "        # print(ans,ans_digit)\n",
    "    # print(ans,carry)\n",
    "    recAns = solve(num1[:-1],num2[:-1],ans,carry)\n",
    "    return recAns\n",
    "\n",
    "\n",
    "print(solve(num1,num2,'',0))"
   ]
  },
  {
   "cell_type": "code",
   "execution_count": null,
   "id": "e8f6095e",
   "metadata": {},
   "outputs": [
    {
     "name": "stdout",
     "output_type": "stream",
     "text": [
      "1000\n"
     ]
    }
   ],
   "source": [
    "num1 = \"999\"\n",
    "num2 = \"1\"\n",
    "\n",
    "def solve(num1: str, num2: str, ans: str, carry: int) -> str:\n",
    "\n",
    "    # Base Case\n",
    "    if num1 == '' and num2 == '':\n",
    "        return str(carry) + ans if carry != 0 else ans\n",
    "\n",
    "    # Processing and recurrence relation, i solve one case below, where it touches all exceptions\n",
    "    ans_digit = str(\n",
    "        carry + \n",
    "        int(num1[-1] if num1 != '' else '0') +\n",
    "        int(num2[-1] if num2 != '' else '0')               \n",
    "                    )\n",
    "    carry = int(ans_digit) // 10\n",
    "    ans = str( int(ans_digit) % 10) + ans\n",
    "\n",
    "    # rest is fixed by recAns. I send back ans which solve fill up and then return in recAns, so i return\n",
    "    # only the recAns, not ans as it's for to pass into solve to build upon the ans\n",
    "    recAns = solve(num1[:-1] if num1 != '' else '' ,num2[:-1] if num2 != '' else '',ans,carry)\n",
    "    return recAns\n",
    "\n",
    "\n",
    "print(solve(num1,num2,'',0))"
   ]
  },
  {
   "cell_type": "markdown",
   "id": "d02af654",
   "metadata": {},
   "source": [
    "#### 4. Check Palindrome Recursion"
   ]
  },
  {
   "cell_type": "code",
   "execution_count": null,
   "id": "e1467c32",
   "metadata": {},
   "outputs": [
    {
     "name": "stdout",
     "output_type": "stream",
     "text": [
      "False\n"
     ]
    }
   ],
   "source": [
    "s = \"adca\"\n",
    "\n",
    "def solve(s: str) -> bool:\n",
    "    \n",
    "    # Base Case\n",
    "    if s == '':\n",
    "        return True\n",
    "    \n",
    "    # Processing and recursion relation\n",
    "    ans = s[0] == s[-1]\n",
    "    recAns = solve(s[1:len(s)-1])\n",
    "    ans = ans & recAns\n",
    "\n",
    "    # Below is also correct but above is more step by step approach, \n",
    "    # we solve one case, then got rest of the ans from recursion, and then get total ans from recusrion relation\n",
    "    # return that ans\n",
    "    # if we get one false, we return false and ans keep updating as false.\n",
    "\n",
    "    # if s[0] == s[-1]:\n",
    "    #     ans = solve(s[1:len(s)-1])\n",
    "    # else:\n",
    "    #     ans = False\n",
    "\n",
    "    return ans\n",
    "\n",
    "\n",
    "print(solve(s))\n"
   ]
  },
  {
   "cell_type": "markdown",
   "id": "8a30a235",
   "metadata": {},
   "source": [
    "#### 5. Print all subarrays"
   ]
  },
  {
   "cell_type": "code",
   "execution_count": 109,
   "id": "6043039d",
   "metadata": {},
   "outputs": [
    {
     "name": "stdout",
     "output_type": "stream",
     "text": [
      "1\n",
      "12\n",
      "123\n",
      "1234\n",
      "12345\n",
      "2\n",
      "23\n",
      "234\n",
      "2345\n",
      "3\n",
      "34\n",
      "345\n",
      "4\n",
      "45\n",
      "5\n"
     ]
    }
   ],
   "source": [
    "nums = [1,2,3,4,5]\n",
    "\n",
    "def solve(nums: list[int], start: int, end: int):\n",
    "\n",
    "    if end == len(nums) or start == len(nums):\n",
    "        return\n",
    "    \n",
    "    for i in range(start, end+1):\n",
    "        print(nums[i],end='')\n",
    "    print('')\n",
    "\n",
    "    solve(nums, start, end+1)\n",
    "\n",
    "\n",
    "    return\n",
    "\n",
    "for i in range(0,len(nums)):\n",
    "    solve(nums,i,i)"
   ]
  },
  {
   "cell_type": "markdown",
   "id": "e553dd29",
   "metadata": {},
   "source": [
    "#### 6. Remove all occurences of the substring. Leetcode 1910\n"
   ]
  },
  {
   "cell_type": "code",
   "execution_count": 1,
   "id": "ad4d548d",
   "metadata": {},
   "outputs": [
    {
     "name": "stdout",
     "output_type": "stream",
     "text": [
      "[['d', 'a']]\n"
     ]
    }
   ],
   "source": [
    "s = 'daabcacadbbcaca'\n",
    "sub = 'bca'\n",
    "s = list(s)\n",
    "\n",
    "l = []\n",
    "l.append(s[0:2])\n",
    "print(l)"
   ]
  },
  {
   "cell_type": "code",
   "execution_count": 14,
   "id": "1e67e51f",
   "metadata": {},
   "outputs": [
    {
     "name": "stdout",
     "output_type": "stream",
     "text": [
      "knqywmlhevgc\n"
     ]
    }
   ],
   "source": [
    "s = 'ixcupqoixcupqokevnpokevnpoknqywmlhevgc'\n",
    "sub = 'ixcupqokevnpo'\n",
    "\n",
    "def solve(s: list[str], sub: list[str], i: int) -> list[str]:\n",
    "\n",
    "    # Base Case\n",
    "    if i == len(s):\n",
    "        return s\n",
    "\n",
    "    # Processing\n",
    "    if s[ i : i + len(sub) ] == sub:\n",
    "        s = s[0: i] + s[ i + len(sub): ] \n",
    "        recAns = (solve(s,sub,max(i - (len(sub) - 1),0)))\n",
    "    else: \n",
    "        recAns = solve(s,sub,i+1)\n",
    "    \n",
    "    \n",
    "    \n",
    "    return recAns\n",
    "\n",
    "print(\"\".join(solve(list(s), list(sub), 0)))"
   ]
  },
  {
   "cell_type": "markdown",
   "id": "7e43713f",
   "metadata": {},
   "source": [
    "#### 7. Best time to buy and sell stock. Leetcode -> 210\n",
    "\n",
    "\n",
    "Two pointer solution is actually easy: but I don't understand the story\n",
    "here basically if there is profit, keep increase sell day,\n",
    "if profit is negative, move buy day forward\n",
    "keep sell day ahead of buy day, and update profit if profit is higher than previous one"
   ]
  },
  {
   "cell_type": "code",
   "execution_count": null,
   "id": "d388817f",
   "metadata": {},
   "outputs": [],
   "source": [
    "#### Two pointer solution is actually easy: but I don't understand the story\n",
    "#### here basically if there is profit, keep increase sell day,\n",
    "#### if profit is negative, move buy day forward\n",
    "#### keep sell day ahead of buy day, and update profit if profit is higher than previous one\n",
    "\n",
    "def maxProfit(self, prices: List[int]) -> int:\n",
    "        buy_day = 0\n",
    "        sell_day = 1\n",
    "        profit = 0\n",
    "\n",
    "        if len(prices) == 1:\n",
    "            return 0\n",
    "\n",
    "        while(sell_day < len(prices)):\n",
    "            temp_profit = prices[sell_day] - prices[buy_day]\n",
    "\n",
    "            if temp_profit > profit:\n",
    "                profit = temp_profit\n",
    "                sell_day += 1\n",
    "            elif temp_profit > 0:\n",
    "                sell_day += 1\n",
    "            else:\n",
    "                buy_day += 1\n",
    "                if buy_day >= sell_day:\n",
    "                    sell_day = buy_day + 1\n",
    "\n",
    "        return profit"
   ]
  },
  {
   "cell_type": "code",
   "execution_count": 3,
   "id": "ee476f07",
   "metadata": {},
   "outputs": [
    {
     "name": "stdout",
     "output_type": "stream",
     "text": [
      "Profit: 5\n"
     ]
    }
   ],
   "source": [
    "#### Two pointer solution is actually easy: but I don't understand the story\n",
    "#### here basically if there is profit, keep increase sell day,\n",
    "#### if profit is negative, move buy day forward\n",
    "#### keep sell day ahead of buy day, and update profit if profit is higher than previous one\n",
    "\n",
    "prices = [7,1,5,3,6,4]\n",
    "\n",
    "def maxProfit(prices: list[int], profit, buy_day: int, sell_day: int) -> int:\n",
    "\n",
    "    if sell_day == len(prices):\n",
    "        return profit\n",
    "    \n",
    "\n",
    "    temp_profit = prices[sell_day] - prices[buy_day]\n",
    "    if temp_profit > profit:\n",
    "        profit = temp_profit\n",
    "        sell_day += 1\n",
    "    elif temp_profit > 0:\n",
    "        sell_day += 1\n",
    "    else:\n",
    "        buy_day += 1\n",
    "        if buy_day >= sell_day:\n",
    "            sell_day = buy_day + 1\n",
    "\n",
    "    profit = maxProfit(prices, profit, buy_day, sell_day)\n",
    "    \n",
    "    return profit\n",
    "\n",
    "print(\"Profit:\",maxProfit(prices, 0, 0, 1))"
   ]
  },
  {
   "cell_type": "markdown",
   "id": "e00a8c0a",
   "metadata": {},
   "source": [
    "#### 8. 273. Integer to English Words (Leetcode) (REDO)\n",
    "\n",
    "I couldn't do the solution, got stuck at not being able to resolve 1\n",
    "1. I found out nearest number.\n",
    "2. Then tried to get first and second part.\n",
    "3. But base condditions returns 1, and i cannot resolve it. If i put zero there there is a problem of unlimited recusrsion.\n",
    "\n",
    "The next code is Lakshay's:\n",
    "1. Search for nearest number, in the key so the get a build number, then we build the front part of it.\n",
    "2. we only need to build first part when build no is greater or equal to 100, below that there is no necessity. Kitne 100, 1000 not kitne 80\n",
    "3. So we get b string from loop, then a string from recursion only when it's above or equal to 100, otherwise it will remain a blank string, 87 -> eighty seven always, nothing in front.\n",
    "4. Now to get c string (later part) we pass in the rest of the number, only when we need to find it, for example 100 is One Hundred, there is no later part, so we check in num % build_no not zero and only then try to find c string through recursion otherwise c = ''\n",
    "5. We string ans each time as that is when individual words without other parts are formed, and add a + b + c with spaces, and we return that as an answer.\n",
    "6. As for the base condition, it's a little hard to figure out.\n",
    "7. if num == 0 return 0. But this only works in num in first go is zero, otherwise for later part when num == 0, recursion call is never made, instead we return the recursion ans at below, not at base condition. \n",
    "8. So Base condition only works in exception case when num = 0 is given in the question. Otherwise and return ans\n",
    "only works.\n",
    "\n",
    "As for time complexity -> \n",
    "tc -> no. of words\n",
    "no. of words -> no. of digits ( 2 or less words per digit )\n",
    "no. of digits -> seil of log<sub>10</sub><sup>num</sup>\n",
    "\n",
    "for 123 -> \n",
    "ciel of (log<sub>10</sub><sup>123</sup>) -> \n",
    "ciel of (2.09) -> 2\n",
    "\n",
    "similar for space complexity.\n",
    "\n",
    "\n",
    "saving the md format : log<sub>10</sub><sup>num</sup>+log<sub>b</sub><sup>y</sup>"
   ]
  },
  {
   "cell_type": "code",
   "execution_count": 30,
   "id": "090c9045",
   "metadata": {},
   "outputs": [
    {
     "name": "stdout",
     "output_type": "stream",
     "text": [
      "1000000\n",
      "2 2000000 1000000\n",
      "2\n",
      "1 2 2\n",
      "[]\n",
      "[2]\n",
      "[2, 1000000]\n",
      "['Two', 'Million']\n"
     ]
    }
   ],
   "source": [
    "num = 2000000\n",
    "\n",
    "nword = (\n",
    "    ('Million', 1000000),\n",
    "    ('Thousand', 1000),\n",
    "    ('Hundred', 100),\n",
    "    ('Ninety', 90),\n",
    "    ('Eighty', 80),\n",
    "    ('Seventy', 70),\n",
    "    ('Sixty', 60),\n",
    "    ('Fifty', 50),\n",
    "    ('Forty', 40),\n",
    "    ('Thirty', 30),\n",
    "    ('Twenty', 20),\n",
    "    ('Nineteen', 19),\n",
    "    ('Eighteen', 18),\n",
    "    ('Seventeen', 17),\n",
    "    ('Sixteen', 16),\n",
    "    ('Fifteen', 15),\n",
    "    ('Fourteen', 14),\n",
    "    ('Thirteen', 13),\n",
    "    ('Twelve', 12),\n",
    "    ('Eleven', 11),\n",
    "    ('Ten', 10),\n",
    "    ('Nine', 9),\n",
    "    ('Eight', 8),\n",
    "    ('Seven', 7),\n",
    "    ('Six', 6),\n",
    "    ('Five', 5),\n",
    "    ('Four', 4),\n",
    "    ('Three', 3),\n",
    "    ('Two', 2),\n",
    "    ('One', 1)\n",
    ")\n",
    "\n",
    "ndict = {\n",
    "    \n",
    "    1000000: 'Million',\n",
    "    1000: 'Thousand',\n",
    "    100: 'Hundred',\n",
    "    90: 'Ninety',\n",
    "    80: 'Eighty',\n",
    "    70: 'Seventy',\n",
    "    60: 'Sixty',\n",
    "    50: 'Fifty',\n",
    "    40: 'Forty',\n",
    "    30: 'Thirty',\n",
    "    20: 'Twenty',\n",
    "    19: 'Nineteen',\n",
    "    18: 'Eighteen',\n",
    "    17: 'Seventeen',\n",
    "    16: 'Sixteen',\n",
    "    15: 'Fifteen',\n",
    "    14: 'Fourteen',\n",
    "    13: 'Thirteen',\n",
    "    12: 'Twelve',\n",
    "    11: 'Eleven',\n",
    "    10: 'Ten',\n",
    "    9: 'Nine',\n",
    "    8: 'Eight',\n",
    "    7: 'Seven',\n",
    "    6: 'Six',\n",
    "    5: 'Five',\n",
    "    4: 'Four',\n",
    "    3: 'Three',\n",
    "    2: 'Two',\n",
    "    1: 'One'\n",
    "}\n",
    "\n",
    "\n",
    "def isPower(x, y):\n",
    "    # The only power of 1 is 1 itself\n",
    "    if x == 1:\n",
    "        return y == 1\n",
    "\n",
    "    # Repeatedly compute power of x\n",
    "    pow = 1\n",
    "    while pow < y:\n",
    "        pow *= x\n",
    "\n",
    "    # Check if power of x becomes y\n",
    "    return pow == y\n",
    "\n",
    "\n",
    "\n",
    "def solve(num: int, nword: dict, ans: list[str]) -> list[str ]:\n",
    "\n",
    "    if num <= 1:\n",
    "        return ans\n",
    "    \n",
    "    build_no = 0\n",
    "    \n",
    "    for _, value in nword:\n",
    "        if value <= num:\n",
    "            build_no = value\n",
    "            # print(\"hi\")\n",
    "            break\n",
    "    print(build_no)\n",
    "    # ans.append(build_no)\n",
    "    \n",
    "    front_number = num // build_no\n",
    "    print(front_number,num,build_no)\n",
    "    # print(front_number)\n",
    "    tmp = []\n",
    "    # if front_number > 0:\n",
    "    front_number_list = solve(front_number, nword, tmp)\n",
    "    print(front_number_list)\n",
    "    # print(front_number_list)\n",
    "    # if front_number_list:\n",
    "    #     ans.extend(front_number_list)\n",
    "    # else:\n",
    "    #     ans.append(1)\n",
    "    ans.extend(front_number_list)\n",
    "    # elif front_number == 1:\n",
    "    #     ans.extend([1])\n",
    "    \n",
    "    ans.append(build_no)\n",
    "    num = num % build_no\n",
    "\n",
    "    \n",
    "    \n",
    "    recAns = solve(num, nword, ans)\n",
    "\n",
    "    return recAns\n",
    "\n",
    "substrate = solve(num, nword, [])\n",
    "# print(substrate)\n",
    "\n",
    "final_ans = []\n",
    "print(substrate)\n",
    "for i in range(0,len(substrate)):\n",
    "    final_ans.append(ndict[substrate[i]])\n",
    "\n",
    "print(final_ans)"
   ]
  },
  {
   "cell_type": "code",
   "execution_count": 31,
   "id": "23d1e6a2",
   "metadata": {},
   "outputs": [
    {
     "name": "stdout",
     "output_type": "stream",
     "text": [
      "One Hundred\n"
     ]
    }
   ],
   "source": [
    "# Lakshay's soltuion\n",
    "num = 100\n",
    "\n",
    "nword = {\n",
    "    \n",
    "    1000000000 : 'Billion',\n",
    "    1000000: 'Million',\n",
    "    1000: 'Thousand',\n",
    "    100: 'Hundred',\n",
    "    90: 'Ninety',\n",
    "    80: 'Eighty',\n",
    "    70: 'Seventy',\n",
    "    60: 'Sixty',\n",
    "    50: 'Fifty',\n",
    "    40: 'Forty',\n",
    "    30: 'Thirty',\n",
    "    20: 'Twenty',\n",
    "    19: 'Nineteen',\n",
    "    18: 'Eighteen',\n",
    "    17: 'Seventeen',\n",
    "    16: 'Sixteen',\n",
    "    15: 'Fifteen',\n",
    "    14: 'Fourteen',\n",
    "    13: 'Thirteen',\n",
    "    12: 'Twelve',\n",
    "    11: 'Eleven',\n",
    "    10: 'Ten',\n",
    "    9: 'Nine',\n",
    "    8: 'Eight',\n",
    "    7: 'Seven',\n",
    "    6: 'Six',\n",
    "    5: 'Five',\n",
    "    4: 'Four',\n",
    "    3: 'Three',\n",
    "    2: 'Two',\n",
    "    1: 'One'\n",
    "}\n",
    "\n",
    "\n",
    "\n",
    "def solve(num: int, nword: list[tuple]) -> str:\n",
    "    \n",
    "    # Base Condition\n",
    "    if num == 0:\n",
    "        return 'Zero'\n",
    "\n",
    "    # Processing and recursive relation.\n",
    "\n",
    "    # First we find out nearest keyword, from which we will start building number.\n",
    "    build_no = 0\n",
    "    for key, _ in nword.items():\n",
    "        if key <= num:\n",
    "            build_no = key\n",
    "            break\n",
    "\n",
    "    b = nword[build_no]\n",
    "    # Kitne buld_no, aur kitne hundreds ? kitne thousands ? kitne millions ? but only for num >= 100\n",
    "    # There is no, ktie 90, kitne 80, only 97 or 83, but in hundred 300 -> kitne hundreds ?:3 hundreds.\n",
    "    a = ''\n",
    "    if num >= 100:\n",
    "        a = solve(num // build_no, nword)\n",
    "\n",
    "    c = ''\n",
    "    if num % build_no != 0:\n",
    "        c = solve(num % build_no, nword)\n",
    "\n",
    "    ans = a + ' ' +  b + ' ' + c\n",
    "\n",
    "    return ans.strip(' ')\n",
    "    \n",
    "print(solve(num, nword))"
   ]
  },
  {
   "cell_type": "markdown",
   "id": "9904a492",
   "metadata": {},
   "source": [
    "#### 9. Wildcard Matching. Leetcode 44\n",
    "\n",
    "Include / Disclude recursion approach. "
   ]
  },
  {
   "cell_type": "code",
   "execution_count": 35,
   "id": "e1534cd2",
   "metadata": {},
   "outputs": [
    {
     "name": "stdout",
     "output_type": "stream",
     "text": [
      "yes\n"
     ]
    }
   ],
   "source": [
    "p = ''\n",
    "if not p: \n",
    "    print(\"yes\")"
   ]
  },
  {
   "cell_type": "code",
   "execution_count": 69,
   "id": "33242dbe",
   "metadata": {},
   "outputs": [
    {
     "name": "stdout",
     "output_type": "stream",
     "text": [
      "True\n"
     ]
    }
   ],
   "source": [
    "s = 'acdcb'\n",
    "p = 'a*c?b'\n",
    "\n",
    "\n",
    "\n",
    "\n",
    "def solve(s: str, p: str) -> bool:\n",
    "\n",
    "    # Base condition\n",
    "    if s == p:\n",
    "        return True\n",
    "    elif (not s) and ('*' in p):\n",
    "        return True\n",
    "    elif (not p) ^ (not s):\n",
    "        return False\n",
    "\n",
    "    # Processing and recursive relation\n",
    "    i = 0\n",
    "    while ( ( i < len(s)) and (i < len(p) ) ) and (s[i] == p[i] or p[i] == '?'):\n",
    "        i += 1\n",
    "\n",
    "    # exclude or after * not consuming anything\n",
    "\n",
    "    if i < len(p) and p[i] == '*':\n",
    "        # print(s[i:], p[i+1:], '   ', s[i+1:],p[i:])\n",
    "        excludeAns = solve(s[i:], p[i+1:])\n",
    "        # include or after * consuming one character\n",
    "        includeAns = solve(s[i+1:], p[i:])\n",
    "        return includeAns or excludeAns\n",
    "    else:\n",
    "        return False\n",
    "\n",
    "\n",
    "\n",
    "\n",
    "print(solve(s,p))"
   ]
  },
  {
   "cell_type": "markdown",
   "id": "506354db",
   "metadata": {},
   "source": [
    "#### 10. Number of Dice Roll With Target Sum. Leetcode -> 1155\n",
    "\n",
    "Lakshays' solution:\n",
    "We need to see all possible solutions, p&c where n dices with k faces can reach target\n",
    "1. We will pass target - i th of k faces, when we reach target and exhaust all our dices ie. n == 0, we return 1\n",
    "and add it to the sum. All other cases we reach till the end, we return 0.\n",
    "2. We'll run a loop to go through all the faces, and upon calling, pass them in recursion, and return, then add the answer.\n",
    "3. Basically we choose a phase, and pass that phase to recursion who will fetch it's answer and put in in answer. "
   ]
  },
  {
   "cell_type": "code",
   "execution_count": 1,
   "id": "d6aad756",
   "metadata": {},
   "outputs": [
    {
     "name": "stdout",
     "output_type": "stream",
     "text": [
      "15\n"
     ]
    }
   ],
   "source": [
    "n = 3\n",
    "k = 6\n",
    "target = 14\n",
    "\n",
    "def solve(n: int, k: int, target: int) -> int:\n",
    "\n",
    "    # Base Case\n",
    "    if n == 0 and target == 0:\n",
    "        return 1\n",
    "    elif ((target != 0) ^ (n != 0)) or target < 0:\n",
    "        return 0\n",
    "   \n",
    "\n",
    "\n",
    "    sum = 0\n",
    "    # Processing and recurrence relation\n",
    "    for i in range(1,k+1):\n",
    "        # print(n-1,k,target-i)\n",
    "        sum += solve(n-1,k,target-i)\n",
    "        # print('sum', sum)\n",
    "        # print(n-1,k,target-i)\n",
    "\n",
    "    return sum\n",
    "\n",
    "\n",
    "print(solve(n,k,target))"
   ]
  },
  {
   "cell_type": "markdown",
   "id": "f3c230b3",
   "metadata": {},
   "source": []
  }
 ],
 "metadata": {
  "kernelspec": {
   "display_name": "Python 3",
   "language": "python",
   "name": "python3"
  },
  "language_info": {
   "codemirror_mode": {
    "name": "ipython",
    "version": 3
   },
   "file_extension": ".py",
   "mimetype": "text/x-python",
   "name": "python",
   "nbconvert_exporter": "python",
   "pygments_lexer": "ipython3",
   "version": "3.12.6"
  }
 },
 "nbformat": 4,
 "nbformat_minor": 5
}
