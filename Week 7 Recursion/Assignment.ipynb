{
 "cells": [
  {
   "cell_type": "markdown",
   "id": "9a4c3bee",
   "metadata": {},
   "source": [
    "#### 1. Last occurence of a char, string"
   ]
  },
  {
   "cell_type": "code",
   "execution_count": 27,
   "id": "40433fa3",
   "metadata": {},
   "outputs": [
    {
     "name": "stdout",
     "output_type": "stream",
     "text": [
      "1\n",
      "-1\n"
     ]
    }
   ],
   "source": [
    "s = 'abcdefge'\n",
    "\n",
    "def lastOccurence(s: str, ch: chr, i: int, ans: int) -> int:\n",
    "    # Base Case\n",
    "    \n",
    "    if i == len(s):\n",
    "        return ans\n",
    "\n",
    "    if s[i] == ch:\n",
    "        ans = i\n",
    "\n",
    "    recANs =  lastOccurence(s, ch, i+1, ans)\n",
    "    return recANs\n",
    "\n",
    "def lastOccurence_l(s: str, i: int, ch: chr) -> int:\n",
    "    # base case\n",
    "    if s[i] == ch:\n",
    "        return i\n",
    "\n",
    "    if i == 0:\n",
    "        return -1\n",
    "\n",
    "    return lastOccurence_l(s, i-1, ch)\n",
    "\n",
    "print(lastOccurence(s, 'b', 0, -1))\n",
    "print(lastOccurence_l(s, len(s)-1, 'z'))"
   ]
  },
  {
   "cell_type": "markdown",
   "id": "2b87edc6",
   "metadata": {},
   "source": [
    "#### 2. Reverse a string recursively"
   ]
  },
  {
   "cell_type": "code",
   "execution_count": 31,
   "id": "07d166e8",
   "metadata": {},
   "outputs": [
    {
     "name": "stdout",
     "output_type": "stream",
     "text": [
      "['a', 'b', 'c', 'd', 'e', 'f', 'g', 'z']\n",
      "['z', 'g', 'f', 'e', 'd', 'c', 'b', 'a']\n"
     ]
    }
   ],
   "source": [
    "s = 'abcdefgz'\n",
    "s = list(s)\n",
    "print(s)\n",
    "def reversing(s: list[str], i: int):\n",
    "    \n",
    "    if i == len(s)//2:\n",
    "        return\n",
    "    \n",
    "    s[i], s[-1-i] = s[-1-i], s[i]\n",
    "\n",
    "    reversing(s, i+1)\n",
    "\n",
    "reversing(s,0)\n",
    "print(s)"
   ]
  },
  {
   "cell_type": "markdown",
   "id": "c9e61a06",
   "metadata": {},
   "source": [
    "#### 3. Add strings Leetcode -> 415"
   ]
  },
  {
   "cell_type": "code",
   "execution_count": 75,
   "id": "a5386e20",
   "metadata": {},
   "outputs": [
    {
     "name": "stdout",
     "output_type": "stream",
     "text": [
      "1000\n"
     ]
    }
   ],
   "source": [
    "num1 = \"999\"\n",
    "num2 = \"1\"\n",
    "\n",
    "def solve(num1: str, num2: str, ans: str, carry: str) -> str:\n",
    "\n",
    "    # Base Case\n",
    "    if num1 == '' and num2 == '':\n",
    "        return str(carry) + ans if carry != 0 else ans\n",
    "\n",
    "\n",
    "    # Processing and recurrence relation\n",
    "    if num1 == '' or num2 == '':\n",
    "        if num1 == '':\n",
    "            ans_digit = carry + int(num2[-1])\n",
    "            carry = ans_digit // 10\n",
    "            ans = str(int(ans_digit) % 10)  + ans\n",
    "\n",
    "\n",
    "            # ans = str(int(num2[-1]) + carry) + ans\n",
    "            # carry = (int(num2[-1]) + carry) // 10\n",
    "        else:\n",
    "            ans_digit = carry + int(num1[-1])\n",
    "            carry = ans_digit // 10\n",
    "            ans = str(int(ans_digit) % 10)  + ans\n",
    "\n",
    "\n",
    "            # ans = str(int(num1[-1]) + carry) + ans\n",
    "            # carry = (int(num1[-1]) + carry) // 10\n",
    "        return solve(num1[:-1],num2[:-1],ans,carry)\n",
    "    else:\n",
    "        ans_digit = str(carry + int(num1[-1]) + int(num2[-1]))\n",
    "        carry = int(ans_digit) // 10\n",
    "        ans = str( int(ans_digit) % 10) + ans\n",
    "        # print(ans,ans_digit)\n",
    "    # print(ans,carry)\n",
    "    recAns = solve(num1[:-1],num2[:-1],ans,carry)\n",
    "    return recAns\n",
    "\n",
    "\n",
    "print(solve(num1,num2,'',0))"
   ]
  },
  {
   "cell_type": "code",
   "execution_count": null,
   "id": "e8f6095e",
   "metadata": {},
   "outputs": [
    {
     "name": "stdout",
     "output_type": "stream",
     "text": [
      "1000\n"
     ]
    }
   ],
   "source": [
    "num1 = \"999\"\n",
    "num2 = \"1\"\n",
    "\n",
    "def solve(num1: str, num2: str, ans: str, carry: int) -> str:\n",
    "\n",
    "    # Base Case\n",
    "    if num1 == '' and num2 == '':\n",
    "        return str(carry) + ans if carry != 0 else ans\n",
    "\n",
    "    # Processing and recurrence relation, i solve one case below, where it touches all exceptions\n",
    "    ans_digit = str(\n",
    "        carry + \n",
    "        int(num1[-1] if num1 != '' else '0') +\n",
    "        int(num2[-1] if num2 != '' else '0')               \n",
    "                    )\n",
    "    carry = int(ans_digit) // 10\n",
    "    ans = str( int(ans_digit) % 10) + ans\n",
    "\n",
    "    # rest is fixed by recAns. I send back ans which solve fill up and then return in recAns, so i return\n",
    "    # only the recAns, not ans as it's for to pass into solve to build upon the ans\n",
    "    recAns = solve(num1[:-1] if num1 != '' else '' ,num2[:-1] if num2 != '' else '',ans,carry)\n",
    "    return recAns\n",
    "\n",
    "\n",
    "print(solve(num1,num2,'',0))"
   ]
  },
  {
   "cell_type": "markdown",
   "id": "d02af654",
   "metadata": {},
   "source": [
    "#### 4. Check Palindrome Recursion"
   ]
  },
  {
   "cell_type": "code",
   "execution_count": null,
   "id": "e1467c32",
   "metadata": {},
   "outputs": [
    {
     "name": "stdout",
     "output_type": "stream",
     "text": [
      "False\n"
     ]
    }
   ],
   "source": [
    "s = \"adca\"\n",
    "\n",
    "def solve(s: str) -> bool:\n",
    "    \n",
    "    # Base Case\n",
    "    if s == '':\n",
    "        return True\n",
    "    \n",
    "    # Processing and recursion relation\n",
    "    ans = s[0] == s[-1]\n",
    "    recAns = solve(s[1:len(s)-1])\n",
    "    ans = ans & recAns\n",
    "\n",
    "    # Below is also correct but above is more step by step approach, \n",
    "    # we solve one case, then got rest of the ans from recursion, and then get total ans from recusrion relation\n",
    "    # return that ans\n",
    "    # if we get one false, we return false and ans keep updating as false.\n",
    "\n",
    "    # if s[0] == s[-1]:\n",
    "    #     ans = solve(s[1:len(s)-1])\n",
    "    # else:\n",
    "    #     ans = False\n",
    "\n",
    "    return ans\n",
    "\n",
    "\n",
    "print(solve(s))\n"
   ]
  },
  {
   "cell_type": "markdown",
   "id": "8a30a235",
   "metadata": {},
   "source": [
    "#### 5. Print all subarrays"
   ]
  },
  {
   "cell_type": "code",
   "execution_count": 109,
   "id": "6043039d",
   "metadata": {},
   "outputs": [
    {
     "name": "stdout",
     "output_type": "stream",
     "text": [
      "1\n",
      "12\n",
      "123\n",
      "1234\n",
      "12345\n",
      "2\n",
      "23\n",
      "234\n",
      "2345\n",
      "3\n",
      "34\n",
      "345\n",
      "4\n",
      "45\n",
      "5\n"
     ]
    }
   ],
   "source": [
    "nums = [1,2,3,4,5]\n",
    "\n",
    "def solve(nums: list[int], start: int, end: int):\n",
    "\n",
    "    if end == len(nums) or start == len(nums):\n",
    "        return\n",
    "    \n",
    "    for i in range(start, end+1):\n",
    "        print(nums[i],end='')\n",
    "    print('')\n",
    "\n",
    "    solve(nums, start, end+1)\n",
    "\n",
    "\n",
    "    return\n",
    "\n",
    "for i in range(0,len(nums)):\n",
    "    solve(nums,i,i)"
   ]
  },
  {
   "cell_type": "markdown",
   "id": "e553dd29",
   "metadata": {},
   "source": [
    "#### 6. Remove all occurences of the substring\n"
   ]
  },
  {
   "cell_type": "code",
   "execution_count": null,
   "id": "1e67e51f",
   "metadata": {},
   "outputs": [],
   "source": [
    "s = 'da'"
   ]
  }
 ],
 "metadata": {
  "kernelspec": {
   "display_name": "Python 3",
   "language": "python",
   "name": "python3"
  },
  "language_info": {
   "codemirror_mode": {
    "name": "ipython",
    "version": 3
   },
   "file_extension": ".py",
   "mimetype": "text/x-python",
   "name": "python",
   "nbconvert_exporter": "python",
   "pygments_lexer": "ipython3",
   "version": "3.12.6"
  }
 },
 "nbformat": 4,
 "nbformat_minor": 5
}
