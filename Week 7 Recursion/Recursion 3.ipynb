{
 "cells": [
  {
   "cell_type": "markdown",
   "id": "12d23b43",
   "metadata": {},
   "source": [
    "## Include / Exclude Pattern\n",
    "\n",
    "Check ans after including and excluding a candidate item, keep ans you like only. "
   ]
  },
  {
   "cell_type": "markdown",
   "id": "137d1e52",
   "metadata": {},
   "source": [
    "#### Find all possible subsequence using recursive include / exclude"
   ]
  },
  {
   "cell_type": "code",
   "execution_count": 8,
   "id": "da5304a2",
   "metadata": {},
   "outputs": [
    {
     "name": "stdout",
     "output_type": "stream",
     "text": [
      "['a', 'b', 'c']\n",
      "['a', 'b']\n",
      "['a', 'c']\n",
      "['a']\n",
      "['b', 'c']\n",
      "['b']\n",
      "['c']\n",
      "[]\n"
     ]
    }
   ],
   "source": [
    "s = 'abc'\n",
    "ans = []\n",
    "\n",
    "def find_subsequence(s: str, ans: list[str], i: int):\n",
    "\n",
    "    # Base Case\n",
    "    if i == len(s):\n",
    "        print(ans)\n",
    "        return\n",
    "\n",
    "    # Processing. ek case solve karna hai include and exclude waala\n",
    "    # include waala\n",
    "    # pehle include kar ke baaki ka ans nikaal laye\n",
    "    ans.append(s[i])\n",
    "    find_subsequence(s,ans,i+1)\n",
    "\n",
    "    # exclude waala\n",
    "    # Phir exclude karke baaki ka ans nikaal laye\n",
    "    ans.pop()\n",
    "    find_subsequence(s,ans,i+1)\n",
    "\n",
    "\n",
    "find_subsequence(s,ans,0)"
   ]
  },
  {
   "cell_type": "markdown",
   "id": "7c3b706a",
   "metadata": {},
   "source": [
    "#### 1. House Robber Leetcode 198 \n",
    "\n",
    "nums = [2, 7, 9, 3, 1], cannot steal adjacently, how to steal maximum amount of money, just return maximum amount. \n",
    "\n",
    "Will do dry run again. \n",
    "\n",
    "Simple -> \n",
    "First base case is end of line, we return 0 to be added up.\n",
    "get include ans, then exclude ans and return max of them. \n",
    "Break writing code into simple recursion calls when more than two recursive call present. That is instead of thinking about overall problem, just think less and think, bro recursion will do the rest. \n",
    "\n",
    "Will check all routes before going to previous calls -> remember that. \n"
   ]
  },
  {
   "cell_type": "code",
   "execution_count": 25,
   "id": "646d0151",
   "metadata": {},
   "outputs": [
    {
     "name": "stdout",
     "output_type": "stream",
     "text": [
      "1 0\n",
      "1 0\n",
      "3 1\n",
      "10 3\n",
      "1 0\n",
      "3 1\n",
      "1 0\n",
      "1 0\n",
      "3 1\n",
      "10 3\n",
      "10 10\n",
      "12 10\n",
      "12\n"
     ]
    }
   ],
   "source": [
    "nums = [2,7,9,3,1]\n",
    "ans = 0\n",
    "tmp = 0\n",
    "\n",
    "def total_stolen(nums: list[int], i: int) -> int:\n",
    "    # Base Case\n",
    "    if i >= len(nums):\n",
    "        return 0\n",
    "    \n",
    "    includeAns = nums[i] + total_stolen(nums,i+2)\n",
    "    execludeAns = 0 + total_stolen(nums,i+1)\n",
    "    print(includeAns,execludeAns)\n",
    "    return max(includeAns, execludeAns)\n",
    "    \n",
    "\n",
    "\n",
    "print(total_stolen(nums,0))\n"
   ]
  },
  {
   "cell_type": "markdown",
   "id": "871fcf7e",
   "metadata": {},
   "source": [
    "#### Coin Change Leetcode -> 322\n",
    "\n",
    "- Har amount par pure coins waale array par travel kar raha hoon\n",
    "- Jis call se tum amount banane jaa rahe ho agar woh current amount se bada hai toh uski call pe mat jao. Jahan se answer nahi niklega usko avoid kese karna hai. "
   ]
  },
  {
   "cell_type": "code",
   "execution_count": 11,
   "id": "4ee64625",
   "metadata": {},
   "outputs": [
    {
     "name": "stdout",
     "output_type": "stream",
     "text": [
      "2\n"
     ]
    }
   ],
   "source": [
    "nums = [3,5]\n",
    "amount = 10\n",
    "\n",
    "\n",
    "def coinChange(nums: list[int], amount: int):\n",
    "    if amount == 0:\n",
    "        return 0\n",
    "    \n",
    "\n",
    "    # Processing\n",
    "    # Recursion relation \n",
    "    \n",
    "    mini = 9999\n",
    "\n",
    "    for i in range(0,len(nums)):\n",
    "        coin = nums[i]\n",
    "        if coin <= amount:\n",
    "            recAns = coinChange(nums, amount - coin)\n",
    "            if recAns != 9999:\n",
    "                coinsUsed = 1 + recAns\n",
    "                mini = min(coinsUsed, mini)\n",
    "            \n",
    "    return mini\n",
    "    pass\n",
    "    \n",
    "\n",
    "print(coinChange(nums, amount))\n",
    "    "
   ]
  },
  {
   "cell_type": "code",
   "execution_count": null,
   "id": "b0309e7e",
   "metadata": {},
   "outputs": [
    {
     "data": {
      "text/plain": [
       "28"
      ]
     },
     "execution_count": 14,
     "metadata": {},
     "output_type": "execute_result"
    }
   ],
   "source": [
    "coins = [2]\n",
    "amount = 11\n",
    "INT_MAX =  2 ^ 31 - 1\n",
    "# We are returning number of coins\n",
    "def solve(num: list[int], amount: int) -> int:\n",
    "\n",
    "    # Base case, when amount reached to 0, we need 0 coins so we return 0\n",
    "    if amount == 0:\n",
    "        return 0\n",
    "    \n",
    "    minCoinCount = INT_MAX\n",
    "    # Processing\n",
    "\n",
    "    # Recursion relation is such that, we use a coin, and do a recursive call to see wether coins being used\n",
    "    # in all possible combinations can give 0 as ans or not, if not then we return a number to idenitify not \n",
    "    # possible\n",
    "\n",
    "    for i in range(0,len(coins)):\n",
    "        coin = coins[i]\n",
    "        if coin <= amount:\n",
    "            recAns = solve(coins, amount - coin)\n",
    "            # now say once i have got the ans -> then what I will do next with the ans ?\n",
    "            if recAns != INT_MAX:\n",
    "                coinCount = 1 + recAns\n",
    "                minCoinCount = min(minCoinCount, coinCount)\n",
    "\n",
    "    return minCoinCount\n",
    "\n",
    "\n",
    "\n",
    "solve(coins, amount)"
   ]
  }
 ],
 "metadata": {
  "kernelspec": {
   "display_name": "Python 3",
   "language": "python",
   "name": "python3"
  },
  "language_info": {
   "codemirror_mode": {
    "name": "ipython",
    "version": 3
   },
   "file_extension": ".py",
   "mimetype": "text/x-python",
   "name": "python",
   "nbconvert_exporter": "python",
   "pygments_lexer": "ipython3",
   "version": "3.12.6"
  }
 },
 "nbformat": 4,
 "nbformat_minor": 5
}
