{
 "cells": [
  {
   "cell_type": "markdown",
   "id": "d0309da0",
   "metadata": {},
   "source": [
    "#### Print array"
   ]
  },
  {
   "cell_type": "code",
   "execution_count": 6,
   "id": "07fce73d",
   "metadata": {},
   "outputs": [
    {
     "name": "stdout",
     "output_type": "stream",
     "text": [
      "1 2 3 4 5 "
     ]
    }
   ],
   "source": [
    "arr = [1,2,3,4,5]\n",
    "\n",
    "def array_printing(arr: list[int], index: int):\n",
    "    \n",
    "    # Base Condition, hum kahan rukenge, ya phir jiska answer hame pata hai, ispe joh recursive call hogi\n",
    "    # hum ans directly return kar denge. for example in fibonacci, 0 th and 1 st element is 0 and 1, so we \n",
    "    # return 0 and 1 directly in base condition\n",
    "\n",
    "    # Yahan ruk jao aur bahar nikal jao since yahan pe kuch nahi kar sakter, to ans hai, kuch mat karo, vapas aa jao\n",
    "    if index == len(arr):\n",
    "        return\n",
    "\n",
    "    # Processing, ek number mujhe print karna tha, mene kar diya, ek case solve, baaki cases/print ki zimmedari meri nahi\n",
    "    print(arr[index], end=\" \")\n",
    "\n",
    "    # Recursive Relation, baaki saari yeh print kar dega, \n",
    "    # basically, print(arr[0 ... n ]) -> print arr[0] + print(arr[1 ... n])\n",
    "    #                                       our             recursion\n",
    "    array_printing(arr,index+1)   \n",
    "\n",
    "\n",
    "array_printing(arr, 0)"
   ]
  },
  {
   "cell_type": "markdown",
   "id": "35926e6b",
   "metadata": {},
   "source": [
    "#### Search target"
   ]
  },
  {
   "cell_type": "code",
   "execution_count": 17,
   "id": "49653c86",
   "metadata": {},
   "outputs": [
    {
     "name": "stdout",
     "output_type": "stream",
     "text": [
      "True\n"
     ]
    }
   ],
   "source": [
    "arr = [1, 2, 3, 4, 6]\n",
    "target = 2\n",
    "\n",
    "def searching(arr: list[int], target: int, index: int) -> bool:\n",
    "\n",
    "    # Base case\n",
    "    if index == len(arr):\n",
    "        return False\n",
    "    \n",
    "    # Processing\n",
    "    # searching arr[0 ... n] -> check arr[0] and searching arr[1 ... n]\n",
    "    if arr[index] == target:\n",
    "        return True\n",
    "    \n",
    "    # Recursive Relation\n",
    "    ans = searching(arr, target, index + 1)\n",
    "    return ans\n",
    "\n",
    "\n",
    "print(searching(arr, target, 0))"
   ]
  },
  {
   "cell_type": "markdown",
   "id": "c7cfff86",
   "metadata": {},
   "source": [
    "#### Max in array"
   ]
  },
  {
   "cell_type": "code",
   "execution_count": 18,
   "id": "527206b7",
   "metadata": {},
   "outputs": [
    {
     "name": "stdout",
     "output_type": "stream",
     "text": [
      "None 9\n"
     ]
    }
   ],
   "source": [
    "arr = [4,2,3,4,5,1,2,3,4,9,1,2,3,4,5]\n",
    "tmp = arr[0]\n",
    "\n",
    "def maximum(arr: list[int], i: int, _: int):\n",
    "    global tmp\n",
    "    # Base condition\n",
    "    if i == len(arr):\n",
    "        return \n",
    "\n",
    "    # Processing\n",
    "    tmp = max(arr[i],tmp)\n",
    "\n",
    "    # Recurrence Relation\n",
    "    # max(arr[0 ... n]) -> max(a[0], arr[1 ... n])\n",
    "    maximum(arr, i+1, tmp)\n",
    "\n",
    "\n",
    "\n",
    "\n",
    "print(maximum(arr,0, arr[0]),tmp)\n"
   ]
  },
  {
   "cell_type": "code",
   "execution_count": null,
   "id": "0121151b",
   "metadata": {},
   "outputs": [
    {
     "name": "stdout",
     "output_type": "stream",
     "text": [
      "3\n"
     ]
    }
   ],
   "source": [
    "# Minimum\n",
    "\n",
    "arr = [4,90,3,4,5,6,21,3,4,9,13,5,3,4,5]\n",
    "minimum = arr[0]\n",
    "\n",
    "def mini(arr: list[int], i: int):\n",
    "    global minimum\n",
    "\n",
    "    # Base case\n",
    "    if i == len(arr):\n",
    "        return\n",
    "    \n",
    "\n",
    "    # Processing, bas ek case main solve kardunga\n",
    "\n",
    "    if arr[i] < minimum:\n",
    "        minimum = arr[i]\n",
    "    \n",
    "    # Recurrence relation\n",
    "    mini(arr,i+1)\n",
    "\n",
    "    \n",
    "\n",
    "mini(arr,0)\n",
    "print(minimum)"
   ]
  },
  {
   "cell_type": "markdown",
   "id": "ffb44ed7",
   "metadata": {},
   "source": [
    "#### Print all odd"
   ]
  },
  {
   "cell_type": "code",
   "execution_count": 26,
   "id": "3730b3ab",
   "metadata": {},
   "outputs": [
    {
     "name": "stdout",
     "output_type": "stream",
     "text": [
      "3 5 21 3 9 13 5 3 5 "
     ]
    }
   ],
   "source": [
    "arr = [4,90,3,4,5,6,21,3,4,9,13,5,3,4,5]\n",
    "\n",
    "def print_odd(arr: list[int], i: int):\n",
    "    \n",
    "    # Base condition\n",
    "    if i == len(arr):\n",
    "        return\n",
    "    \n",
    "    #### print(odd(arr[0 ... n]) -> print(odd(arr[0])) + print(oddd(arr[1 ... n]))\n",
    "\n",
    "    # Processing, ek case main karunga\n",
    "    if arr[i] & 1:\n",
    "        print(arr[i], end=\" \")\n",
    "\n",
    "    # Recurrence condition, baaki recursion dekhega\n",
    "    print_odd(arr, i+1)\n",
    "\n",
    "print_odd(arr,0)"
   ]
  },
  {
   "cell_type": "code",
   "execution_count": null,
   "id": "528d456c",
   "metadata": {},
   "outputs": [
    {
     "name": "stdout",
     "output_type": "stream",
     "text": [
      "4\n",
      "90\n",
      "4\n",
      "6\n",
      "4\n",
      "4\n",
      "16\n"
     ]
    }
   ],
   "source": [
    "arr = [4,90,3,4,5,6,21,3,4,9,13,5,3,4,5, 16]\n",
    "\n",
    "def print_even(arr: list[int], i: int):\n",
    "\n",
    "    # Base Condition\n",
    "    if len(arr) == i:\n",
    "        return\n",
    "    \n",
    "    # general idea -> print(even(arr[0 ... n])) -> print(even(arr[0])) + print(even(arr[1 ... n]))\n",
    "    # Processing, ek case hum print karenge\n",
    "    if not arr[i] & 1:\n",
    "        print(arr[i])\n",
    "\n",
    "    print_even(arr,i+1)\n",
    "\n",
    "    return\n",
    "\n",
    "\n",
    "print_even(arr,0)"
   ]
  },
  {
   "cell_type": "markdown",
   "id": "cc4bc895",
   "metadata": {},
   "source": [
    "#### Store in list all odds"
   ]
  },
  {
   "cell_type": "code",
   "execution_count": 31,
   "id": "c4d6270c",
   "metadata": {},
   "outputs": [
    {
     "name": "stdout",
     "output_type": "stream",
     "text": [
      "[3, 5, 21, 3, 9, 13, 5, 3, 5]\n"
     ]
    }
   ],
   "source": [
    "arr = [4,90,3,4,5,6,21,3,4,9,13,5,3,4,5]\n",
    "\n",
    "def print_odd(arr: list[int], i: int, ans: list[int]):\n",
    "    \n",
    "    # Base condition\n",
    "    if i == len(arr):\n",
    "        return\n",
    "    \n",
    "    #### print(odd(arr[0 ... n]) -> print(odd(arr[0])) + print(oddd(arr[1 ... n]))\n",
    "\n",
    "    # Processing, ek case main karunga\n",
    "    if arr[i] & 1:\n",
    "        # print(arr[i], end=\" \")\n",
    "        ans.append(arr[i])\n",
    "\n",
    "    # Recurrence condition, baaki recursion dekhega\n",
    "    print_odd(arr, i+1,ans)\n",
    "\n",
    "\n",
    "ans = []\n",
    "print_odd(arr,0,ans)\n",
    "print(ans)"
   ]
  },
  {
   "cell_type": "markdown",
   "id": "2d473364",
   "metadata": {},
   "source": [
    "#### Binary Search"
   ]
  },
  {
   "cell_type": "code",
   "execution_count": 41,
   "id": "a5e1328c",
   "metadata": {},
   "outputs": [
    {
     "name": "stdout",
     "output_type": "stream",
     "text": [
      "-1\n"
     ]
    }
   ],
   "source": [
    "arr = [4,90,3,4,5,6,21,3,95,4,9,13,5,3,4,5]\n",
    "arr.sort()\n",
    "\n",
    "target = 99\n",
    "\n",
    "def bs(arr: list[int], target: int, left: int, right: int) -> int:\n",
    "    \n",
    "    # Base condition\n",
    "    if left > right:\n",
    "        return -1\n",
    "    \n",
    "    # Processing, ek case hum solve kar dete hai\n",
    "    mid = left + (right - left)//2\n",
    "    if target == arr[mid]:\n",
    "        return mid\n",
    "    elif arr[mid] > target:\n",
    "        right = mid - 1\n",
    "    else:\n",
    "        left = mid + 1\n",
    "    \n",
    "    # Recurrence relation, baaki sab recursion kar lega\n",
    "    ans =  bs(arr, target, left, right)\n",
    "    return ans\n",
    "\n",
    "\n",
    "\n",
    "print(bs(arr, target, 0, len(arr)-1))"
   ]
  },
  {
   "cell_type": "markdown",
   "id": "11ba2697",
   "metadata": {},
   "source": [
    "#### Last small question, print digits of a number"
   ]
  },
  {
   "cell_type": "code",
   "execution_count": 44,
   "id": "b93b427c",
   "metadata": {},
   "outputs": [
    {
     "name": "stdout",
     "output_type": "stream",
     "text": [
      "3\n",
      "8\n",
      "9\n"
     ]
    }
   ],
   "source": [
    "num = 389\n",
    "\n",
    "def print_digits(num: int):\n",
    "    \n",
    "    # base condition\n",
    "    if num == 0:\n",
    "        return\n",
    "\n",
    "    # rest recursion will happen\n",
    "    print_digits(num // 10)\n",
    "\n",
    "    # processing, ek case hum solve kar denge\n",
    "    print(num % 10)\n",
    "\n",
    "\n",
    "print_digits(num)"
   ]
  },
  {
   "cell_type": "markdown",
   "id": "31899569",
   "metadata": {},
   "source": [
    "#### Check Sorted"
   ]
  },
  {
   "cell_type": "code",
   "execution_count": 14,
   "id": "e006c2cb",
   "metadata": {},
   "outputs": [
    {
     "name": "stdout",
     "output_type": "stream",
     "text": [
      "False\n"
     ]
    }
   ],
   "source": [
    "arr = [4,90,3,4,5,6,21,3,95,4,9,13,5,3,4,5]\n",
    "# arr.sort()\n",
    "\n",
    "def check_sorted(arr: list[int], i: int) -> bool:\n",
    "    current_ans = True\n",
    "    # Base condition or base case\n",
    "    if i >= len(arr) - 1:\n",
    "        return True\n",
    "\n",
    "    \n",
    "    # Processing, ek main dekh leta hoon\n",
    "    # ans = True\n",
    "    if arr[i] > arr[i+1]:\n",
    "        current_ans = False\n",
    "    \n",
    "    # Baaki recursion kar layega\n",
    "    rec_ans = check_sorted(arr, i + 1)\n",
    "\n",
    "    return current_ans & rec_ans\n",
    "\n",
    "\n",
    "\n",
    "print(check_sorted(arr,0))"
   ]
  },
  {
   "cell_type": "code",
   "execution_count": null,
   "id": "6bd44636",
   "metadata": {},
   "outputs": [
    {
     "name": "stdout",
     "output_type": "stream",
     "text": [
      "True\n"
     ]
    }
   ],
   "source": [
    "arr = [4,90,3,4,5,6,21,3,95,4,9,13,5,3,4,5]\n",
    "arr.sort(reverse=True)\n",
    "\n",
    "def desc_check(arr: list[int], i: int) -> bool:\n",
    "    \n",
    "    # Base condition\n",
    "    if i == len(arr) - 1:\n",
    "        return True\n",
    "    \n",
    "    # Processing, Ek case main solve kar dunga\n",
    "    current_ans = True\n",
    "    if arr[i] < arr[i+1]:\n",
    "        current_ans = False\n",
    "\n",
    "    # Recursive relation baake sab recursion kar dega check arr -> check( checking arr[0],  check(arr + 1) )\n",
    "    rec_ans = desc_check(arr, i + 1)\n",
    "\n",
    "    return rec_ans & current_ans\n",
    "\n",
    "print(desc_check(arr,0))"
   ]
  }
 ],
 "metadata": {
  "kernelspec": {
   "display_name": "Python 3",
   "language": "python",
   "name": "python3"
  },
  "language_info": {
   "codemirror_mode": {
    "name": "ipython",
    "version": 3
   },
   "file_extension": ".py",
   "mimetype": "text/x-python",
   "name": "python",
   "nbconvert_exporter": "python",
   "pygments_lexer": "ipython3",
   "version": "3.12.6"
  }
 },
 "nbformat": 4,
 "nbformat_minor": 5
}
