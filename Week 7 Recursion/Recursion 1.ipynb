{
 "cells": [
  {
   "cell_type": "markdown",
   "id": "90cd515e",
   "metadata": {},
   "source": [
    "# Starting Recursion (Lecture I Love Babbar & Lakshar by CodeHelp)"
   ]
  },
  {
   "cell_type": "code",
   "execution_count": null,
   "id": "cd77e149",
   "metadata": {},
   "outputs": [
    {
     "name": "stdout",
     "output_type": "stream",
     "text": [
      "720\n"
     ]
    }
   ],
   "source": [
    "def factorial(N: int):\n",
    "    # Base Case\n",
    "    if N == 0:\n",
    "        return 1\n",
    "\n",
    "    # Recursive Call\n",
    "    # fact(n) = n * fact(n-1)\n",
    "    r_a = factorial(N-1)\n",
    "    ans = N * r_a\n",
    "    return ans\n",
    "    \n",
    "\n",
    "    # Processing\n",
    "    # Nothing needed.\n",
    "\n",
    "\n",
    "print(factorial(6))"
   ]
  },
  {
   "cell_type": "code",
   "execution_count": 15,
   "id": "686f7b2d",
   "metadata": {},
   "outputs": [
    {
     "name": "stdout",
     "output_type": "stream",
     "text": [
      "5\n",
      "4\n",
      "3\n",
      "2\n",
      "1\n"
     ]
    }
   ],
   "source": [
    "def printing(n: int):\n",
    "    # Base condition\n",
    "    if n == 1:\n",
    "        print(1)\n",
    "        return \n",
    "\n",
    "    # Processing\n",
    "    print(n)\n",
    "    # Recursive Call\n",
    "    printing(n - 1)\n",
    "\n",
    "printing(5)"
   ]
  },
  {
   "cell_type": "code",
   "execution_count": null,
   "id": "19c5a71e",
   "metadata": {},
   "outputs": [
    {
     "name": "stdout",
     "output_type": "stream",
     "text": [
      "1\n",
      "2\n",
      "3\n",
      "4\n",
      "5\n"
     ]
    }
   ],
   "source": [
    "def counting(N: int):\n",
    "    pass\n",
    "    # Base Condition\n",
    "    if N == 1:\n",
    "        print(1)\n",
    "        return \n",
    "\n",
    "    # Recursion Call # First print n - 1, then print n, we give recursion for printing n -1 and solve for n only \n",
    "    counting(N-1)\n",
    "\n",
    "    # Processing\n",
    "    print(N)\n",
    "\n",
    "\n",
    "counting(5)"
   ]
  },
  {
   "cell_type": "code",
   "execution_count": 23,
   "id": "6c36d4e0",
   "metadata": {},
   "outputs": [
    {
     "name": "stdout",
     "output_type": "stream",
     "text": [
      "1024\n"
     ]
    }
   ],
   "source": [
    "def power(n: int):\n",
    "    # 2 ^ n = 2  *  2 ^ n-1 -> recursive relation\n",
    "\n",
    "    # Base Condition\n",
    "    if n == 0:\n",
    "        return 1\n",
    "\n",
    "    # Recursive relation\n",
    "    recursiveAns = power(n - 1)\n",
    "    ans = 2 * recursiveAns\n",
    "\n",
    "    # Processing\n",
    "\n",
    "    return ans\n",
    "\n",
    "\n",
    "print(power(10))"
   ]
  },
  {
   "cell_type": "code",
   "execution_count": 39,
   "id": "458442ab",
   "metadata": {},
   "outputs": [
    {
     "name": "stdout",
     "output_type": "stream",
     "text": [
      "3\n"
     ]
    }
   ],
   "source": [
    "def fib(n: int) -> int:\n",
    "    \n",
    "    # base case\n",
    "    if (n == 0 or n == 1):\n",
    "        return n\n",
    "    \n",
    "    # recursion relation\n",
    "\n",
    "    ans1 = fib(n-1)\n",
    "    ans2 = fib(n-2)\n",
    "\n",
    "\n",
    "    ans = ans1 + ans2\n",
    "    return ans\n",
    "\n",
    "    # processing\n",
    "\n",
    "print(fib(4))"
   ]
  },
  {
   "cell_type": "code",
   "execution_count": 43,
   "id": "6eaef7b0",
   "metadata": {},
   "outputs": [
    {
     "name": "stdout",
     "output_type": "stream",
     "text": [
      "15\n"
     ]
    }
   ],
   "source": [
    "def getSum(n: int) -> int:\n",
    "    \n",
    "    # Base Condition\n",
    "    if n == 1:\n",
    "        return 1\n",
    "\n",
    "    # Recursive Relation\n",
    "    # sum(n) = n + sum(n-1)\n",
    "    ans1 = getSum(n-1)\n",
    "    ans = n + ans1\n",
    "\n",
    "    # Processing\n",
    "\n",
    "    return ans\n",
    "\n",
    "\n",
    "print(getSum(5))"
   ]
  }
 ],
 "metadata": {
  "kernelspec": {
   "display_name": "Python 3",
   "language": "python",
   "name": "python3"
  },
  "language_info": {
   "codemirror_mode": {
    "name": "ipython",
    "version": 3
   },
   "file_extension": ".py",
   "mimetype": "text/x-python",
   "name": "python",
   "nbconvert_exporter": "python",
   "pygments_lexer": "ipython3",
   "version": "3.12.6"
  }
 },
 "nbformat": 4,
 "nbformat_minor": 5
}
