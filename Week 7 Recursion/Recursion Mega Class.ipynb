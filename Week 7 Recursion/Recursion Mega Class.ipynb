{
 "cells": [
  {
   "cell_type": "markdown",
   "id": "2383eb91",
   "metadata": {},
   "source": [
    "#### 1. Partition equal subset sum Leetcode 416 ( 1 Failed attempt, redo )\n",
    "#### After learning dp this needs to be optimized -> HW\n",
    "\n",
    "One is a more direct approach below\n",
    "\n",
    "Another one is Lakshay bhayiya's using target = sum()//2 and then trying to make it zero\n",
    "\n",
    "Although below one observation is returning ans if we got true at any point, since we just needs to find \n",
    "one path that gives true. \n",
    "\n",
    "My approach -> \n",
    "First we get target we need to reach.\n",
    "Then we check base case, if we have reached target return true, else return false, and out of bounds return false\n",
    "The in processing, \n",
    "we add nums[i] to cum and then check for target, if reached return true,\n",
    "then we allow recursion to solve to see if we achieve target at any point, if yes then return true.\n",
    "Then if check by excluding if we achieve target, and then let recusrion check if we got target after discluding.\n",
    "If at any point we get true, we just keep returning true and avoid changing answer."
   ]
  },
  {
   "cell_type": "code",
   "execution_count": null,
   "id": "7f14a2fd",
   "metadata": {},
   "outputs": [
    {
     "name": "stdout",
     "output_type": "stream",
     "text": [
      "False\n"
     ]
    }
   ],
   "source": [
    "nums = [1, 2, 3, 8]\n",
    "# Initial check for odd total sums as they can never be divided\n",
    "def check(nums: list[int]) -> bool:\n",
    "    target = sum(nums)\n",
    "\n",
    "    if target & 1 == 1: return False\n",
    "    else: return True\n",
    "\n",
    "def partitioning(nums: list[int], i: int,  cum: int) -> bool:\n",
    "    # ans = False\n",
    "\n",
    "    target = sum(nums) // 2\n",
    "   \n",
    "    # base case\n",
    "    if i == len(nums) or cum > target: return False\n",
    "    if cum == target: return True\n",
    "\n",
    "\n",
    "    # Processing and recurrence relation\n",
    "    # First we include \n",
    "    # cum += nums[i]\n",
    "    # if cum == target:\n",
    "    #     return  True\n",
    "    inc_ans = partitioning(nums, i+1, cum + nums[i])\n",
    "    # if ans: return True\n",
    "\n",
    "    # Then we disclude\n",
    "    # cum -= nums[i]\n",
    "    # if cum == target:\n",
    "    #     return True\n",
    "    exc_ans = partitioning(nums,i+1,cum)\n",
    "    # if ans: return True\n",
    "\n",
    "    # print(\"hi\",cum)\n",
    "    return inc_ans if inc_ans else exc_ans\n",
    "\n",
    "\n",
    "if check(nums): print(partitioning(nums,0,0))\n",
    "else: print(False)\n",
    "\n",
    "    \n",
    "    \n",
    "    "
   ]
  },
  {
   "cell_type": "markdown",
   "id": "78497efc",
   "metadata": {},
   "source": [
    "#### 2. Minimize the distance between target and chosen elements. Leetcode -> 1981 ( Redo )\n",
    "\n",
    "- Here include exclude is done in a loop.\n",
    "- Recursion sends next row and sum maintained, while loop chooses columns, or element picked and removed in a row.\n",
    "- So we go to firt row, and use loop to check all elements,\n",
    "get to first element, call to second row, first element, call to third row, first element, second and third element,\n",
    "try sum for that. take minimum sum and return it.\n",
    "- Now in second row, pick second element, call to third row and use loop to pick all three element.\n",
    "Keep track of miminum and return miminum.\n",
    "\n",
    "Base case is where we are reaching end of matrix and completing our sum. So we can return difference of our completed sum and target there."
   ]
  },
  {
   "cell_type": "code",
   "execution_count": 10,
   "id": "a15813d7",
   "metadata": {},
   "outputs": [
    {
     "name": "stdout",
     "output_type": "stream",
     "text": [
      "94\n"
     ]
    }
   ],
   "source": [
    "mat = [[1],[2],[3]]\n",
    "target = 100\n",
    "\n",
    "def solve(mat: list[list[int]], target: int, sum: int, row: int) -> int:\n",
    "\n",
    "    # Base Case\n",
    "    if row == len(mat):\n",
    "        return abs(target - sum)\n",
    "\n",
    "    # Processing, here include exclude is done by loop itself\n",
    "    ans = 9999999\n",
    "    for col in range(0,len(mat[0])):\n",
    "        recAns = solve(mat, target, sum + mat[row][col], row + 1)\n",
    "        ans = min(ans, recAns)\n",
    "\n",
    "    return ans\n",
    "\n",
    "\n",
    "print(solve(mat,target,0,0))"
   ]
  },
  {
   "cell_type": "markdown",
   "id": "9e1839ec",
   "metadata": {},
   "source": [
    "#### 3. Jump Game. Leetcode - 55\n",
    "\n",
    "Here we have array with elements represeting maximum jumps you can take, you need to reach at the end if possible. \n",
    "\n",
    "- Base case is when you reach the end return true, if jumped farther away, return false\n",
    "- Now keep track of ans, with initialize false, the write code below to update the ans\n",
    "- Now we can use for loop to loop through jumps at each element and call recursion for each jump element for inclusion and exclusion stimulation\n",
    "- get ans from recursion and if true, immediately return it, otherwise it wil keep looping and updating and might miss the one true path\n",
    "- return ans at the end, if ans doesn't update we never reached true path\n",
    "- basically the base case return true, and then we keep returning true if we got true in for loop.\n",
    "- if not then we keep exploring. \n",
    "- Again, we keep running, and if we got true, the loop will still explore and update ans, we don't want our true path be tainted by other false paths, so we return it then and there within loop so we don't need to worry about bad updates. otherwise we can store an or also"
   ]
  },
  {
   "cell_type": "code",
   "execution_count": null,
   "id": "ccdbb660",
   "metadata": {},
   "outputs": [
    {
     "name": "stdout",
     "output_type": "stream",
     "text": [
      "True\n"
     ]
    }
   ],
   "source": [
    "nums = [2,0,0,1]\n",
    "\n",
    "def solve(nums: list[int], index: int) -> bool:\n",
    "    \n",
    "    # Base Case, although there is one more case that it never reaches end\n",
    "    if index == len(nums) - 1:\n",
    "        return True\n",
    "    if index >= len(nums) -1:\n",
    "        return False\n",
    "    \n",
    "    # Lakshay handled this in base case as well. If there is 0 at the end, it doesn't matter, because above if will\n",
    "    # handle that case and return True. We won't have problematic return.\n",
    "    # if nums[index] == 0: # Can avoid this though, later Lakshay said\n",
    "    #     return False\n",
    "    \n",
    "    ans = False\n",
    "\n",
    "    for i in range(1,nums[index] + 1):\n",
    "        jump = index + i\n",
    "        ans = solve(nums, jump) \n",
    "        if ans: return True\n",
    "        # another solution\n",
    "        # ans = solve(nums, jump) or ans # to avoid ans being tainted by next false path\n",
    "    \n",
    "    return ans\n",
    "    \n",
    "print(solve(nums,0))"
   ]
  },
  {
   "cell_type": "markdown",
   "id": "77c2807e",
   "metadata": {},
   "source": [
    "#### 4. Jump Game - II. Leetcode 45\n",
    "\n",
    "Similar like above but little confused as when two recurive calls are made. Kind of like above, just finding minimum\n",
    "number for steps taken needs to be returned. "
   ]
  },
  {
   "cell_type": "code",
   "execution_count": 42,
   "id": "8503740e",
   "metadata": {},
   "outputs": [
    {
     "name": "stdout",
     "output_type": "stream",
     "text": [
      "2\n"
     ]
    }
   ],
   "source": [
    "nums = [2,3,0,1,4]\n",
    "\n",
    "def solve(nums: list[int], index: int, steps: int) -> int:\n",
    "\n",
    "    # Base Case\n",
    "    if index == len(nums) - 1:\n",
    "        # print(\"hi\")\n",
    "        return steps\n",
    "    \n",
    "    if index >= len(nums):\n",
    "        return 0\n",
    "    \n",
    "\n",
    "    # Processing and recurrence relation\n",
    "    min_count = 999999999\n",
    "\n",
    "    for i in range(1,nums[index]+1):\n",
    "        jump = index + i\n",
    "        # print(index, jump, steps+1)\n",
    "        recAns = solve(nums, jump, steps + 1)\n",
    "        if recAns: \n",
    "            min_count = min(recAns, min_count)\n",
    "\n",
    "    return min_count\n",
    "\n",
    "print(solve(nums, 0, 0))"
   ]
  },
  {
   "cell_type": "markdown",
   "id": "214cd212",
   "metadata": {},
   "source": [
    "#### 5. Triangle. Leetcode -> 120 (Redo, didn't needed loop to for in going in horizontal direction )\n",
    "Also redo without using path_sum. \n",
    "Otherwise, the base case in at the end of column, where you can return the path_sum till yet. \n",
    "and get path_sum of both down paths. \n",
    "keep track of minimum\n",
    "\n",
    "Return minimum path sum from top to bottom in a given triangle"
   ]
  },
  {
   "cell_type": "code",
   "execution_count": null,
   "id": "cb8533a7",
   "metadata": {},
   "outputs": [
    {
     "name": "stdout",
     "output_type": "stream",
     "text": [
      "11\n"
     ]
    }
   ],
   "source": [
    "triangle = [[2],[3,4],[6,5,7],[4,1,8,3]]\n",
    "\n",
    "def solve(triangle: list[list[int]], row: int, path_sum: int, index: int) -> int:\n",
    "\n",
    "    # Base Case\n",
    "    if row >= len(triangle):\n",
    "        return path_sum\n",
    "    \n",
    "    minimum_path_sum = 9999999999\n",
    "    # Processing and recurrence relation\n",
    "    # For two possible paths\n",
    "    down_left = solve(triangle, row + 1, path_sum + triangle[row][index], index)\n",
    "    down_right = solve(triangle, row + 1, path_sum + triangle[row][index], index+1)\n",
    "    minimum_path_sum = min(down_left, down_right, minimum_path_sum)\n",
    "    \n",
    "    return minimum_path_sum\n",
    "\n",
    "print(solve(triangle, 0,0,0))"
   ]
  },
  {
   "cell_type": "code",
   "execution_count": 60,
   "id": "9edacece",
   "metadata": {},
   "outputs": [],
   "source": [
    "# triangle = [[2],[3,4],[6,5,7],[4,1,8,3]]\n",
    "\n",
    "# def solve(triangle: list[list[int]], row: int, index: int) -> int:\n",
    "\n",
    "#     # Base Case\n",
    "#     if row >= len(triangle):\n",
    "#         return triangle[row][index]\n",
    "    \n",
    "#     minimum_path_sum = 9999999999\n",
    "#     # Processing and recurrence relation\n",
    "#     # For two possible paths\n",
    "#     down_left = nums[index] + solve(triangle, row + 1, index)\n",
    "#     down_right = nums[index + 1] + solve(triangle, row + 1, index+1)\n",
    "#     minimum_path_sum = min(down_left, down_right, minimum_path_sum)\n",
    "    \n",
    "#     return minimum_path_sum\n",
    "\n",
    "# print(solve(triangle,0,0))"
   ]
  }
 ],
 "metadata": {
  "kernelspec": {
   "display_name": "Python 3",
   "language": "python",
   "name": "python3"
  },
  "language_info": {
   "codemirror_mode": {
    "name": "ipython",
    "version": 3
   },
   "file_extension": ".py",
   "mimetype": "text/x-python",
   "name": "python",
   "nbconvert_exporter": "python",
   "pygments_lexer": "ipython3",
   "version": "3.12.6"
  }
 },
 "nbformat": 4,
 "nbformat_minor": 5
}
