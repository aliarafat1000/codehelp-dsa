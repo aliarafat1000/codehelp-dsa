{
 "cells": [
  {
   "cell_type": "markdown",
   "id": "cd9a8fc7",
   "metadata": {},
   "source": [
    "#### 1. Count No. of Prime Leetcode -> 204"
   ]
  },
  {
   "cell_type": "code",
   "execution_count": 59,
   "id": "3f9cf9a9",
   "metadata": {},
   "outputs": [
    {
     "name": "stdout",
     "output_type": "stream",
     "text": [
      "0\n"
     ]
    }
   ],
   "source": [
    "# n = 10\n",
    "# import math\n",
    "\n",
    "\n",
    "### Simple solution\n",
    "# def isPrime(N: int) -> bool:\n",
    "#     for i in range(2,N):\n",
    "#         if N % i == 0:\n",
    "#             # print(N, 'not possible')\n",
    "#             return False\n",
    "#     return True\n",
    "\n",
    "\n",
    "# def isPrime(N: int) -> bool:\n",
    "#     for i in range(2,int(math.sqrt(N)) + 1):\n",
    "#         if N % i == 0:\n",
    "#             # print(N, 'not possible')\n",
    "#             return False\n",
    "#     return True\n",
    "\n",
    "\n",
    "# def isPrime(N: int) -> bool:\n",
    "#     l = [True] * N\n",
    "#     l[0], l[1] = True, True\n",
    "#     l.pop()\n",
    "\n",
    "#     for i in range(2,N):\n",
    "#         if l[i]:\n",
    "#             count += 1\n",
    "#             j = i * 2\n",
    "#             while (j < len(l)):\n",
    "#                 l[j] = False\n",
    "#                 j = j + i\n",
    "\n",
    "# count = 0\n",
    "\n",
    "\n",
    "# for N in range(2,n):\n",
    "#     if isPrime(N):\n",
    "#         count += 1\n",
    "#         # print(N)\n",
    "\n",
    "# print(count)\n",
    "n = 0\n",
    "if n == 0:\n",
    "    print(0)\n",
    "else:\n",
    "    l = [True] * (n + 1)\n",
    "    l[0], l[1] = False, False\n",
    "    # print(len(l))\n",
    "    l.pop()\n",
    "    count = 0\n",
    "\n",
    "    for i in range(0,len(l)):\n",
    "        # print(i)\n",
    "        # if i > len(l)-1:\n",
    "        #     break\n",
    "        if l[i]:\n",
    "            count += 1\n",
    "            j = i * 2\n",
    "            # print(i,count)\n",
    "            while (j < len(l)):\n",
    "                l[j] = False\n",
    "                j = j + i\n",
    "\n",
    "\n",
    "    print(count)"
   ]
  },
  {
   "cell_type": "markdown",
   "id": "0fa8699a",
   "metadata": {},
   "source": [
    "#### Finding GCD (Greates common divisor shortcut, or HCF)"
   ]
  },
  {
   "cell_type": "code",
   "execution_count": 60,
   "id": "dc61c18f",
   "metadata": {},
   "outputs": [
    {
     "name": "stdout",
     "output_type": "stream",
     "text": [
      "24\n"
     ]
    }
   ],
   "source": [
    "def gcd (a: int, b: int) -> int:\n",
    "    while ( a > 0 and b > 0):\n",
    "        if a > b:\n",
    "            a -= b\n",
    "        else:\n",
    "            b -= a\n",
    "\n",
    "    return max(a,b)\n",
    "\n",
    "\n",
    "a = 72\n",
    "b = 24\n",
    "\n",
    "print(gcd(a,b))"
   ]
  },
  {
   "cell_type": "markdown",
   "id": "f1be934d",
   "metadata": {},
   "source": [
    "### LCM nikalne ka tareeka"
   ]
  },
  {
   "cell_type": "code",
   "execution_count": null,
   "id": "e7d7e779",
   "metadata": {},
   "outputs": [],
   "source": [
    "# LCM * HCF = a * b\n",
    "# LCM = a * b / HCF"
   ]
  },
  {
   "cell_type": "code",
   "execution_count": 62,
   "id": "4885f6f3",
   "metadata": {},
   "outputs": [
    {
     "name": "stdout",
     "output_type": "stream",
     "text": [
      "72.0\n"
     ]
    }
   ],
   "source": [
    "def gcd (a: int, b: int) -> int:\n",
    "    while ( a > 0 and b > 0):\n",
    "        if a > b:\n",
    "            a -= b\n",
    "        else:\n",
    "            b -= a\n",
    "\n",
    "    return max(a,b)\n",
    "\n",
    "def lcm(a: int, b: int) -> int:\n",
    "    hcf = gcd(a, b)\n",
    "    return ( a * b ) / hcf\n",
    "\n",
    "\n",
    "a = 72\n",
    "b = 24\n",
    "\n",
    "print(lcm(a,b))"
   ]
  },
  {
   "cell_type": "markdown",
   "id": "f4154d8f",
   "metadata": {},
   "source": [
    "#### Modulo Arthematic\n",
    "\n",
    "\n",
    "#### Fast Exponential"
   ]
  },
  {
   "cell_type": "code",
   "execution_count": 75,
   "id": "11502219",
   "metadata": {},
   "outputs": [
    {
     "name": "stdout",
     "output_type": "stream",
     "text": [
      "1\n",
      "1\n",
      "625\n",
      "625\n"
     ]
    }
   ],
   "source": [
    "a = 5\n",
    "b = 4\n",
    "ans = 1\n",
    "\n",
    "while ( b > 0):\n",
    "    if b & 1:\n",
    "        ans = ans * a\n",
    "    \n",
    "    a = ( a * a )\n",
    "\n",
    "    b = b//2\n",
    "    print(ans)\n",
    "\n",
    "print(ans) "
   ]
  },
  {
   "cell_type": "markdown",
   "id": "bb5a7368",
   "metadata": {},
   "source": [
    "#### Sieve of Eratoshthenes\n",
    "\n",
    "There is also segmented SOE, which is just low and upper bound prime number search."
   ]
  },
  {
   "cell_type": "code",
   "execution_count": 27,
   "id": "80eaa9d0",
   "metadata": {},
   "outputs": [
    {
     "name": "stdout",
     "output_type": "stream",
     "text": [
      "count 4\n",
      "0 False\n",
      "1 False\n",
      "2 True\n",
      "3 True\n",
      "4 False\n",
      "5 True\n",
      "6 False\n",
      "7 True\n",
      "8 False\n",
      "9 False\n"
     ]
    }
   ],
   "source": [
    "def countPrimes(n: int) -> int:\n",
    "    if n == 0:\n",
    "        return 0\n",
    "    l = [True] * (n + 1)\n",
    "    l[0], l[1] = False, False\n",
    "    # print(len(l))\n",
    "    l.pop()\n",
    "    count = 0\n",
    "    from math import sqrt\n",
    "    # print(int(sqrt(n)) + 1, 'sqrt')\n",
    "    for i in range(0, int(sqrt(n))+1):\n",
    "        if l[i]:\n",
    "            \n",
    "            # j = i * 2\n",
    "            j = i * i # optimized, as i - 1 and below are already marked. \n",
    "            while (j < len(l)):\n",
    "                l[j] = False\n",
    "                # count += 1\n",
    "                j = j + i\n",
    "    \n",
    "    return l\n",
    "\n",
    "l = countPrimes(10)\n",
    "a = 0\n",
    "for i in l:\n",
    "    if i:\n",
    "        a += 1\n",
    "print('count', a)\n",
    "\n",
    "for i, j in enumerate(l):\n",
    "    print(i,j)\n"
   ]
  },
  {
   "cell_type": "code",
   "execution_count": 38,
   "id": "2d40bca8",
   "metadata": {},
   "outputs": [
    {
     "name": "stdout",
     "output_type": "stream",
     "text": [
      "[2, 3, 5, 7, 11]\n",
      "[False, False, False, True, False, False, False, False, False, False, False, False, False, False, False, False, False, True, False, False, False]\n",
      "110 False\n",
      "111 False\n",
      "112 False\n",
      "113 True\n",
      "114 False\n",
      "115 False\n",
      "116 False\n",
      "117 False\n",
      "118 False\n",
      "119 False\n",
      "120 False\n",
      "121 False\n",
      "122 False\n",
      "123 False\n",
      "124 False\n",
      "125 False\n",
      "126 False\n",
      "127 True\n",
      "128 False\n",
      "129 False\n",
      "130 False\n"
     ]
    }
   ],
   "source": [
    "import math\n",
    "R = 130\n",
    "L = 110\n",
    "\n",
    "N = R - L\n",
    "\n",
    "# Exception if L is starting from 0 or 1 only.\n",
    "\n",
    "# Making a segmentend sleeve\n",
    "\n",
    "sleeve = [True] * (N + 1)\n",
    "\n",
    "# for i, value in enumerate(sleeve):\n",
    "#     print(110 + i, value)\n",
    "\"\"\"  \n",
    "Now since the segmented sleeve is actually by index, just normal starting from 0, you can say that 0 is just 110\n",
    "and 130 is just 19\n",
    "But when we are marking all multiples of 2, 110 will come later, but we don't have sleeve for elements before\n",
    "110. And also since we don't have that sleeve, we also don't have 2 so we can't mark 110 as well. \n",
    "Big problem\n",
    "Solution -> Generate primes that will help to mark this segmented sleeve. Using normal sleeve.\n",
    "Use root R, generate a sleeve using N = root R. 130 -> 11, primes till 11 will help marking composites in segment.\n",
    "Till 11 that is root R, after that, say 12, when i start inner loop at i * i, -> 144, surpassing R. So till root R\n",
    "\n",
    "\"\"\"\n",
    "\n",
    "prime_list = countPrimes(int(math.sqrt(R))+1)\n",
    "\n",
    "primes = []\n",
    "\n",
    "for i in range(0,len(prime_list)):\n",
    "    if prime_list[i]:\n",
    "        primes.append(i)\n",
    "\n",
    "print(primes) # will be used to mark segmented sleeve\n",
    "\n",
    "# Find first multiple of elements of primes, say for 2 -> 4, 6, .... , 110 or 3 -> 6, 9, .... , 111\n",
    "def firstMultiple(prime: int, L: int) -> int:\n",
    "    first_multiple = ( L // prime ) * prime\n",
    "    if first_multiple < L:\n",
    "        first_multiple += prime\n",
    "\n",
    "    return first_multiple\n",
    "\n",
    "if L == 1 or L == 0:\n",
    "    sleeve[L] = 0\n",
    "\n",
    "for prime in primes:\n",
    "    j = max(firstMultiple(prime,L), prime*prime)\n",
    "    while ( j <= R):\n",
    "        sleeve[j - L] = False\n",
    "        j += prime\n",
    "\n",
    "print(sleeve)\n",
    "\n",
    "for i, value in enumerate(sleeve):\n",
    "    print(110 + i, value)\n"
   ]
  }
 ],
 "metadata": {
  "kernelspec": {
   "display_name": "Python 3",
   "language": "python",
   "name": "python3"
  },
  "language_info": {
   "codemirror_mode": {
    "name": "ipython",
    "version": 3
   },
   "file_extension": ".py",
   "mimetype": "text/x-python",
   "name": "python",
   "nbconvert_exporter": "python",
   "pygments_lexer": "ipython3",
   "version": "3.12.6"
  }
 },
 "nbformat": 4,
 "nbformat_minor": 5
}
